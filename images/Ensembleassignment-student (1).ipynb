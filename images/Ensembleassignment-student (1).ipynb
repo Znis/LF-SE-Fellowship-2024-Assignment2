{
 "cells": [
  {
   "cell_type": "markdown",
   "metadata": {
    "id": "2PO8PExZwsGd"
   },
   "source": [
    "# AirBnB guest arrival prediction using tree-based methods\n",
    "\n",
    "\n",
    "\n",
    "<b><div style=\"text-align: right\">[TOTAL POINTS: 9]</div></b>\n",
    "\n",
    "The assignment is divided into three different levels: Level1, Level2, and Level3.\n",
    "\n",
    "## Learning Objective(Level 1)\n",
    "\n",
    "<b><div style=\"text-align: right\">[POINTS: 4]</div></b>\n",
    "\n",
    "By the end of this assignment, a student should be able to\n",
    "\n",
    "- Apply necessary preprocessing steps on the data to make it suitable for training.\n",
    "\n",
    "- Train Bagging Classifier, Random Forest Classifier, XGBoost Classifier.\n",
    "\n",
    "- Fine-tune and monitor the performance of XGBoost.\n",
    "\n",
    "\n",
    "\n",
    "Let's start with the problem description of level1.\n",
    "In this assignment, you will train different ensemble models to predict whether the customer will cancel the booking or not. For a tourism-based country like Nepal, hospitality is a major source of income. The given data represents booking information made by foreign customers via AirBnB for the year 2018. Your task in level1 is to use this data to predict whether the customer will cancel the booking or not.\n"
   ]
  },
  {
   "cell_type": "markdown",
   "metadata": {
    "id": "Epa9-UlFwsGi"
   },
   "source": [
    "## Dataset Description:\n",
    "\n",
    "The dataset, **AirBnB customer arrival prediction**, contains information regarding booking in the hotel, and includes features like such as meal, arrival date(date of booking), car parking space in hotel, etc. All features are listed below.\n",
    "\n",
    "Note: The given dataset is a modification of [Hotel booking demand datasets](https://www.sciencedirect.com/science/article/pii/S2352340918315191) collected by **Nuano et al.** and is availabe under [Creative Commons 4.0](https://creativecommons.org/licenses/by/4.0/).\n",
    "\n",
    "**Number of Instances:** 119,386 \\\n",
    "**Number of Attributes:** 25 **Input Features** + 1 **Target**(__is_canceled__)\n",
    "\n",
    "### Attribute Information:\n",
    "The detail information of each attribute is listed as:\n",
    "\n",
    "* **hotel** - Type of hotel resort or city\n",
    "* **is_canceled** - The label column. This indicates whether the guests canceled their booking or they checked-in\n",
    "* **lead_time** - Number of days that elapsed between the entering date of the booking into the PMS and the arrival date\n",
    "* **arrival_date_year** - year of the arrival date\n",
    "* **arrival_date_month** - Month of arrival date with 12 categories: “January” to “December” expressed in numbers. 1 indicates January, and 12 indicate December.\n",
    "* **arrival_date_week_number** - Week number of the arrival date\n",
    "* **arrival_date_day_of_month** - Day of the month of the arrival date\n",
    "* **stays_in_weekend_nights** - Number of weekend nights (Saturday or Sunday) the guest stayed or booked to stay at the hotel.\n",
    "* **stays_in_week_nights** - Number of week nights (Monday to Friday) the guest stayed or booked to stay at the hotel\n",
    "* **meal** - Type of meal booked.\n",
    "* **country** - Country of origin. Categories are represented in the ISO 3155–3:2013 format\n",
    "* **market_segment** - Market segment designation. In categories, the term \"TA\" means \"Travel Agents\" and \"TO\" means \"Tour Operators\"\n",
    "* **distribution_channel** - Booking distribution channel. The term \"TA\" means \"Travel Agents\" and \"TO\" means \"Tour Operators\"\n",
    "* **is_repeated_guest** - Value indicating if the booking name was from a repeated guest (1) or not (0)\n",
    "* **reserved_room_type** - Code of room type reserved.\n",
    "* **assigned_room_type** - Code for the type of room assigned to the booking. Sometimes the assigned room type differs from the reserved room type due to hotel operation reasons (e.g., overbooking) or by customer request.\n",
    "* **booking_changes** - Number of changes/amendments made to the booking from the moment the booking was entered on the PMS until the moment of check-in or cancellation\n",
    "* **deposit_type** - Indication on if the customer deposited to guarantee the booking.\n",
    "* **agent** - ID of the travel agency that made the booking\n",
    "* **days_in_waiting_list** - Number of days the booking was on the waiting list before it was confirmed to the customer.\n",
    "* **customer_type** - Type of booking. One of Contract, Group, Transient, and Transient-party.\n",
    "* **adr** - Average Daily Rate\n",
    "* **required_car_parking_spaces** - Number of car parking spaces required by the customer.\n",
    "* **total_of_special_requests** - Number of special requests made by the customer (e.g. twin bed or high floor)\n",
    "* **total_guests** - Total number of guests(includes adults, children, and babies)\n",
    "* **net_booking_cancelled** - A difference between the total number of the previous booking canceled and the previous booking not canceled before this booking. A positive value means that the customer did not cancel most of the previous booking."
   ]
  },
  {
   "cell_type": "markdown",
   "metadata": {
    "id": "VssZ8Kf_wsGm"
   },
   "source": [
    "### Import libraries"
   ]
  },
  {
   "cell_type": "code",
   "execution_count": 113,
   "metadata": {
    "execution": {
     "iopub.execute_input": "2024-06-01T05:41:34.012024Z",
     "iopub.status.busy": "2024-06-01T05:41:34.011650Z",
     "iopub.status.idle": "2024-06-01T05:41:34.479430Z",
     "shell.execute_reply": "2024-06-01T05:41:34.478085Z",
     "shell.execute_reply.started": "2024-06-01T05:41:34.011994Z"
    },
    "executionInfo": {
     "elapsed": 1081,
     "status": "ok",
     "timestamp": 1717219775014,
     "user": {
      "displayName": "Romik Gosai",
      "userId": "01690688372578414329"
     },
     "user_tz": -345
    },
    "id": "XM9q2-0ZwsGp"
   },
   "outputs": [],
   "source": [
    "import pandas as pd\n",
    "import numpy as np\n",
    "import pickle\n",
    "from matplotlib import pyplot as plt\n",
    "\n",
    "RANDOM_STATE = 7\n",
    "np.random.seed(RANDOM_STATE)"
   ]
  },
  {
   "cell_type": "markdown",
   "metadata": {
    "id": "pEDgsWu_wsG5"
   },
   "source": [
    "### Load csv file"
   ]
  },
  {
   "cell_type": "code",
   "execution_count": 114,
   "metadata": {
    "colab": {
     "base_uri": "https://localhost:8080/",
     "height": 342
    },
    "execution": {
     "iopub.execute_input": "2024-06-01T05:41:34.792698Z",
     "iopub.status.busy": "2024-06-01T05:41:34.792086Z",
     "iopub.status.idle": "2024-06-01T05:41:38.222191Z",
     "shell.execute_reply": "2024-06-01T05:41:38.220455Z",
     "shell.execute_reply.started": "2024-06-01T05:41:34.792662Z"
    },
    "executionInfo": {
     "elapsed": 1431,
     "status": "ok",
     "timestamp": 1717219776443,
     "user": {
      "displayName": "Romik Gosai",
      "userId": "01690688372578414329"
     },
     "user_tz": -345
    },
    "id": "_ELsyzGxwsG7",
    "outputId": "e5c2cc01-bad9-4c23-8ecd-2103870200a5"
   },
   "outputs": [
    {
     "data": {
      "text/html": [
       "<div>\n",
       "<style scoped>\n",
       "    .dataframe tbody tr th:only-of-type {\n",
       "        vertical-align: middle;\n",
       "    }\n",
       "\n",
       "    .dataframe tbody tr th {\n",
       "        vertical-align: top;\n",
       "    }\n",
       "\n",
       "    .dataframe thead th {\n",
       "        text-align: right;\n",
       "    }\n",
       "</style>\n",
       "<table border=\"1\" class=\"dataframe\">\n",
       "  <thead>\n",
       "    <tr style=\"text-align: right;\">\n",
       "      <th></th>\n",
       "      <th>hotel</th>\n",
       "      <th>is_canceled</th>\n",
       "      <th>lead_time</th>\n",
       "      <th>arrival_date_year</th>\n",
       "      <th>arrival_date_month</th>\n",
       "      <th>arrival_date_week_number</th>\n",
       "      <th>arrival_date_day_of_month</th>\n",
       "      <th>stays_in_weekend_nights</th>\n",
       "      <th>stays_in_week_nights</th>\n",
       "      <th>meal</th>\n",
       "      <th>...</th>\n",
       "      <th>booking_changes</th>\n",
       "      <th>deposit_type</th>\n",
       "      <th>agent</th>\n",
       "      <th>days_in_waiting_list</th>\n",
       "      <th>customer_type</th>\n",
       "      <th>adr</th>\n",
       "      <th>required_car_parking_spaces</th>\n",
       "      <th>total_of_special_requests</th>\n",
       "      <th>total_guests</th>\n",
       "      <th>net_booking_cancelled</th>\n",
       "    </tr>\n",
       "  </thead>\n",
       "  <tbody>\n",
       "    <tr>\n",
       "      <th>0</th>\n",
       "      <td>Resort Hotel</td>\n",
       "      <td>0</td>\n",
       "      <td>342</td>\n",
       "      <td>2015</td>\n",
       "      <td>July</td>\n",
       "      <td>27</td>\n",
       "      <td>1</td>\n",
       "      <td>0</td>\n",
       "      <td>0</td>\n",
       "      <td>NaN</td>\n",
       "      <td>...</td>\n",
       "      <td>3</td>\n",
       "      <td>No Deposit</td>\n",
       "      <td>NaN</td>\n",
       "      <td>0</td>\n",
       "      <td>Transient</td>\n",
       "      <td>0.0</td>\n",
       "      <td>0</td>\n",
       "      <td>0</td>\n",
       "      <td>2.0</td>\n",
       "      <td>0</td>\n",
       "    </tr>\n",
       "    <tr>\n",
       "      <th>1</th>\n",
       "      <td>Resort Hotel</td>\n",
       "      <td>0</td>\n",
       "      <td>737</td>\n",
       "      <td>2015</td>\n",
       "      <td>July</td>\n",
       "      <td>27</td>\n",
       "      <td>1</td>\n",
       "      <td>0</td>\n",
       "      <td>0</td>\n",
       "      <td>BB</td>\n",
       "      <td>...</td>\n",
       "      <td>4</td>\n",
       "      <td>No Deposit</td>\n",
       "      <td>NaN</td>\n",
       "      <td>0</td>\n",
       "      <td>Transient</td>\n",
       "      <td>0.0</td>\n",
       "      <td>0</td>\n",
       "      <td>0</td>\n",
       "      <td>2.0</td>\n",
       "      <td>0</td>\n",
       "    </tr>\n",
       "    <tr>\n",
       "      <th>2</th>\n",
       "      <td>Resort Hotel</td>\n",
       "      <td>0</td>\n",
       "      <td>7</td>\n",
       "      <td>2015</td>\n",
       "      <td>July</td>\n",
       "      <td>27</td>\n",
       "      <td>1</td>\n",
       "      <td>0</td>\n",
       "      <td>1</td>\n",
       "      <td>BB</td>\n",
       "      <td>...</td>\n",
       "      <td>0</td>\n",
       "      <td>No Deposit</td>\n",
       "      <td>NaN</td>\n",
       "      <td>0</td>\n",
       "      <td>Transient</td>\n",
       "      <td>75.0</td>\n",
       "      <td>0</td>\n",
       "      <td>0</td>\n",
       "      <td>1.0</td>\n",
       "      <td>0</td>\n",
       "    </tr>\n",
       "    <tr>\n",
       "      <th>3</th>\n",
       "      <td>Resort Hotel</td>\n",
       "      <td>0</td>\n",
       "      <td>13</td>\n",
       "      <td>2015</td>\n",
       "      <td>July</td>\n",
       "      <td>27</td>\n",
       "      <td>1</td>\n",
       "      <td>0</td>\n",
       "      <td>1</td>\n",
       "      <td>NaN</td>\n",
       "      <td>...</td>\n",
       "      <td>0</td>\n",
       "      <td>No Deposit</td>\n",
       "      <td>304.0</td>\n",
       "      <td>0</td>\n",
       "      <td>Transient</td>\n",
       "      <td>75.0</td>\n",
       "      <td>0</td>\n",
       "      <td>0</td>\n",
       "      <td>1.0</td>\n",
       "      <td>0</td>\n",
       "    </tr>\n",
       "    <tr>\n",
       "      <th>4</th>\n",
       "      <td>Resort Hotel</td>\n",
       "      <td>0</td>\n",
       "      <td>14</td>\n",
       "      <td>2015</td>\n",
       "      <td>July</td>\n",
       "      <td>27</td>\n",
       "      <td>1</td>\n",
       "      <td>0</td>\n",
       "      <td>2</td>\n",
       "      <td>BB</td>\n",
       "      <td>...</td>\n",
       "      <td>0</td>\n",
       "      <td>No Deposit</td>\n",
       "      <td>240.0</td>\n",
       "      <td>0</td>\n",
       "      <td>Transient</td>\n",
       "      <td>98.0</td>\n",
       "      <td>0</td>\n",
       "      <td>1</td>\n",
       "      <td>2.0</td>\n",
       "      <td>0</td>\n",
       "    </tr>\n",
       "  </tbody>\n",
       "</table>\n",
       "<p>5 rows × 26 columns</p>\n",
       "</div>"
      ],
      "text/plain": [
       "          hotel  is_canceled  lead_time  arrival_date_year arrival_date_month  \\\n",
       "0  Resort Hotel            0        342               2015               July   \n",
       "1  Resort Hotel            0        737               2015               July   \n",
       "2  Resort Hotel            0          7               2015               July   \n",
       "3  Resort Hotel            0         13               2015               July   \n",
       "4  Resort Hotel            0         14               2015               July   \n",
       "\n",
       "   arrival_date_week_number  arrival_date_day_of_month  \\\n",
       "0                        27                          1   \n",
       "1                        27                          1   \n",
       "2                        27                          1   \n",
       "3                        27                          1   \n",
       "4                        27                          1   \n",
       "\n",
       "   stays_in_weekend_nights  stays_in_week_nights meal  ... booking_changes  \\\n",
       "0                        0                     0  NaN  ...               3   \n",
       "1                        0                     0   BB  ...               4   \n",
       "2                        0                     1   BB  ...               0   \n",
       "3                        0                     1  NaN  ...               0   \n",
       "4                        0                     2   BB  ...               0   \n",
       "\n",
       "  deposit_type  agent  days_in_waiting_list customer_type   adr  \\\n",
       "0   No Deposit    NaN                     0     Transient   0.0   \n",
       "1   No Deposit    NaN                     0     Transient   0.0   \n",
       "2   No Deposit    NaN                     0     Transient  75.0   \n",
       "3   No Deposit  304.0                     0     Transient  75.0   \n",
       "4   No Deposit  240.0                     0     Transient  98.0   \n",
       "\n",
       "   required_car_parking_spaces total_of_special_requests  total_guests  \\\n",
       "0                            0                         0           2.0   \n",
       "1                            0                         0           2.0   \n",
       "2                            0                         0           1.0   \n",
       "3                            0                         0           1.0   \n",
       "4                            0                         1           2.0   \n",
       "\n",
       "   net_booking_cancelled  \n",
       "0                      0  \n",
       "1                      0  \n",
       "2                      0  \n",
       "3                      0  \n",
       "4                      0  \n",
       "\n",
       "[5 rows x 26 columns]"
      ]
     },
     "execution_count": 114,
     "metadata": {},
     "output_type": "execute_result"
    }
   ],
   "source": [
    "df= pd.read_csv(\"https://drive.google.com/uc?id=1Gqk7mPLeXlx7mo8iQZM0TpcNmnyFa-LD\", index_col = 0)\n",
    "df.head()"
   ]
  },
  {
   "cell_type": "markdown",
   "metadata": {
    "id": "-PYR9djVwsHG"
   },
   "source": [
    "## Preprocessing\n",
    "### Identification of features with missing values\n",
    "Let's find out if the columns in our dataset has any misssing values."
   ]
  },
  {
   "cell_type": "code",
   "execution_count": 115,
   "metadata": {
    "colab": {
     "base_uri": "https://localhost:8080/"
    },
    "execution": {
     "iopub.execute_input": "2024-06-01T05:41:38.224974Z",
     "iopub.status.busy": "2024-06-01T05:41:38.224639Z",
     "iopub.status.idle": "2024-06-01T05:41:38.366271Z",
     "shell.execute_reply": "2024-06-01T05:41:38.364865Z",
     "shell.execute_reply.started": "2024-06-01T05:41:38.224946Z"
    },
    "executionInfo": {
     "elapsed": 11,
     "status": "ok",
     "timestamp": 1717219776443,
     "user": {
      "displayName": "Romik Gosai",
      "userId": "01690688372578414329"
     },
     "user_tz": -345
    },
    "id": "Rkd1RjvSwsHI",
    "outputId": "0afba9b0-143b-4baa-b404-cbf5d26627ca"
   },
   "outputs": [
    {
     "data": {
      "text/plain": [
       "hotel                              0\n",
       "is_canceled                        0\n",
       "lead_time                          0\n",
       "arrival_date_year                  0\n",
       "arrival_date_month                 0\n",
       "arrival_date_week_number           0\n",
       "arrival_date_day_of_month          0\n",
       "stays_in_weekend_nights            0\n",
       "stays_in_week_nights               0\n",
       "meal                           11939\n",
       "country                          488\n",
       "market_segment                     0\n",
       "distribution_channel           11939\n",
       "is_repeated_guest                  0\n",
       "reserved_room_type                 0\n",
       "assigned_room_type             11939\n",
       "booking_changes                    0\n",
       "deposit_type                       0\n",
       "agent                          16340\n",
       "days_in_waiting_list               0\n",
       "customer_type                      0\n",
       "adr                                0\n",
       "required_car_parking_spaces        0\n",
       "total_of_special_requests          0\n",
       "total_guests                       4\n",
       "net_booking_cancelled              0\n",
       "dtype: int64"
      ]
     },
     "execution_count": 115,
     "metadata": {},
     "output_type": "execute_result"
    }
   ],
   "source": [
    "df.isnull().sum()"
   ]
  },
  {
   "cell_type": "markdown",
   "metadata": {
    "id": "oY3mhFEOwsHQ"
   },
   "source": [
    "We can see that columns `agent`, `assigned_room_type`, `distribution_channel`, `meal`, `country`, and `total_guests` have missing values.\n",
    "\n",
    "Since only four instances in the column `total_guests` have missing value, we will drop them."
   ]
  },
  {
   "cell_type": "code",
   "execution_count": 116,
   "metadata": {
    "execution": {
     "iopub.execute_input": "2024-06-01T05:41:38.368767Z",
     "iopub.status.busy": "2024-06-01T05:41:38.368430Z",
     "iopub.status.idle": "2024-06-01T05:41:38.400011Z",
     "shell.execute_reply": "2024-06-01T05:41:38.398739Z",
     "shell.execute_reply.started": "2024-06-01T05:41:38.368738Z"
    },
    "executionInfo": {
     "elapsed": 10,
     "status": "ok",
     "timestamp": 1717219776443,
     "user": {
      "displayName": "Romik Gosai",
      "userId": "01690688372578414329"
     },
     "user_tz": -345
    },
    "id": "UKdOTd4BwsHS"
   },
   "outputs": [],
   "source": [
    "# removing all rows that have missing values in total_guests column\n",
    "df.dropna(how='any', subset=['total_guests'], inplace=True)"
   ]
  },
  {
   "cell_type": "markdown",
   "metadata": {
    "id": "85mnhFDXwsHb"
   },
   "source": [
    "We will impute rest of the features with mode."
   ]
  },
  {
   "cell_type": "code",
   "execution_count": 117,
   "metadata": {
    "execution": {
     "iopub.execute_input": "2024-06-01T05:41:38.403064Z",
     "iopub.status.busy": "2024-06-01T05:41:38.402705Z",
     "iopub.status.idle": "2024-06-01T05:41:38.549703Z",
     "shell.execute_reply": "2024-06-01T05:41:38.548191Z",
     "shell.execute_reply.started": "2024-06-01T05:41:38.403033Z"
    },
    "executionInfo": {
     "elapsed": 10,
     "status": "ok",
     "timestamp": 1717219776443,
     "user": {
      "displayName": "Romik Gosai",
      "userId": "01690688372578414329"
     },
     "user_tz": -345
    },
    "id": "WVSifF4qwsHc"
   },
   "outputs": [],
   "source": [
    "missing_features = ['agent', 'assigned_room_type', 'distribution_channel', 'meal', 'country']\n",
    "for feature in missing_features:\n",
    "    df[feature].fillna(df[feature].mode()[0], inplace = True)"
   ]
  },
  {
   "cell_type": "markdown",
   "metadata": {
    "id": "RQEJ1XRCwsHl"
   },
   "source": [
    "Until now, we have imputed all the missing values in the dataset."
   ]
  },
  {
   "cell_type": "markdown",
   "metadata": {
    "id": "LYANbhhZwsHm"
   },
   "source": [
    "### Feature generation\n",
    "\n",
    "Here we will combine features `arrival_date_month` and `arrival_date_year` to generate a new feature `month`."
   ]
  },
  {
   "cell_type": "code",
   "execution_count": 118,
   "metadata": {
    "colab": {
     "base_uri": "https://localhost:8080/"
    },
    "execution": {
     "iopub.execute_input": "2024-06-01T05:41:38.551576Z",
     "iopub.status.busy": "2024-06-01T05:41:38.551192Z",
     "iopub.status.idle": "2024-06-01T05:41:38.564992Z",
     "shell.execute_reply": "2024-06-01T05:41:38.562920Z",
     "shell.execute_reply.started": "2024-06-01T05:41:38.551544Z"
    },
    "executionInfo": {
     "elapsed": 9,
     "status": "ok",
     "timestamp": 1717219776443,
     "user": {
      "displayName": "Romik Gosai",
      "userId": "01690688372578414329"
     },
     "user_tz": -345
    },
    "id": "AeWZtrUJwsHn",
    "outputId": "f4bca18a-d046-4530-ead4-375c18d4e82a"
   },
   "outputs": [
    {
     "data": {
      "text/plain": [
       "array([2015, 2016, 2017], dtype=int64)"
      ]
     },
     "execution_count": 118,
     "metadata": {},
     "output_type": "execute_result"
    }
   ],
   "source": [
    "df['arrival_date_year'].unique()"
   ]
  },
  {
   "cell_type": "code",
   "execution_count": 119,
   "metadata": {
    "colab": {
     "base_uri": "https://localhost:8080/"
    },
    "execution": {
     "iopub.execute_input": "2024-06-01T05:41:38.568623Z",
     "iopub.status.busy": "2024-06-01T05:41:38.567911Z",
     "iopub.status.idle": "2024-06-01T05:41:38.590569Z",
     "shell.execute_reply": "2024-06-01T05:41:38.589225Z",
     "shell.execute_reply.started": "2024-06-01T05:41:38.568587Z"
    },
    "executionInfo": {
     "elapsed": 8,
     "status": "ok",
     "timestamp": 1717219776443,
     "user": {
      "displayName": "Romik Gosai",
      "userId": "01690688372578414329"
     },
     "user_tz": -345
    },
    "id": "_ZXwBZH7wsHu",
    "outputId": "d889441c-04ca-4899-eed3-7d530735c63a"
   },
   "outputs": [
    {
     "data": {
      "text/plain": [
       "array(['July', 'August', 'September', 'October', 'November', 'December',\n",
       "       'January', 'February', 'March', 'April', 'May', 'June'],\n",
       "      dtype=object)"
      ]
     },
     "execution_count": 119,
     "metadata": {},
     "output_type": "execute_result"
    }
   ],
   "source": [
    "df['arrival_date_month'].unique()"
   ]
  },
  {
   "cell_type": "markdown",
   "metadata": {
    "id": "dIPIGG8LwsH1"
   },
   "source": [
    "In the feature `month`,  we will consider Jan, 2015 as 0, Feb, 2015 as 1, and so on. So this feature will represent the month number starting from Jan, 2015."
   ]
  },
  {
   "cell_type": "code",
   "execution_count": 120,
   "metadata": {
    "execution": {
     "iopub.execute_input": "2024-06-01T05:41:38.593361Z",
     "iopub.status.busy": "2024-06-01T05:41:38.592146Z",
     "iopub.status.idle": "2024-06-01T05:41:38.599919Z",
     "shell.execute_reply": "2024-06-01T05:41:38.598318Z",
     "shell.execute_reply.started": "2024-06-01T05:41:38.593320Z"
    },
    "executionInfo": {
     "elapsed": 7,
     "status": "ok",
     "timestamp": 1717219776444,
     "user": {
      "displayName": "Romik Gosai",
      "userId": "01690688372578414329"
     },
     "user_tz": -345
    },
    "id": "beVp5g3ZwsH2"
   },
   "outputs": [],
   "source": [
    "replace_year = {2015:0, 2016: 12, 2017:24}\n",
    "replace_month= {'Januray':0, 'February': 1, 'March': 2, 'April': 3, 'May': 4, 'June': 5, 'July': 6, 'August': 7, 'September': 8, 'October': 9, 'November': 10, 'December': 11}"
   ]
  },
  {
   "cell_type": "code",
   "execution_count": 121,
   "metadata": {
    "colab": {
     "base_uri": "https://localhost:8080/",
     "height": 342
    },
    "execution": {
     "iopub.execute_input": "2024-06-01T05:41:38.604341Z",
     "iopub.status.busy": "2024-06-01T05:41:38.603801Z",
     "iopub.status.idle": "2024-06-01T05:41:38.757799Z",
     "shell.execute_reply": "2024-06-01T05:41:38.756303Z",
     "shell.execute_reply.started": "2024-06-01T05:41:38.604271Z"
    },
    "executionInfo": {
     "elapsed": 7,
     "status": "ok",
     "timestamp": 1717219776444,
     "user": {
      "displayName": "Romik Gosai",
      "userId": "01690688372578414329"
     },
     "user_tz": -345
    },
    "id": "L3Q3b4atwsH9",
    "outputId": "9f416fbe-7c60-4ea8-85af-ea42959e8a51"
   },
   "outputs": [
    {
     "data": {
      "text/html": [
       "<div>\n",
       "<style scoped>\n",
       "    .dataframe tbody tr th:only-of-type {\n",
       "        vertical-align: middle;\n",
       "    }\n",
       "\n",
       "    .dataframe tbody tr th {\n",
       "        vertical-align: top;\n",
       "    }\n",
       "\n",
       "    .dataframe thead th {\n",
       "        text-align: right;\n",
       "    }\n",
       "</style>\n",
       "<table border=\"1\" class=\"dataframe\">\n",
       "  <thead>\n",
       "    <tr style=\"text-align: right;\">\n",
       "      <th></th>\n",
       "      <th>hotel</th>\n",
       "      <th>is_canceled</th>\n",
       "      <th>lead_time</th>\n",
       "      <th>arrival_date_year</th>\n",
       "      <th>arrival_date_month</th>\n",
       "      <th>arrival_date_week_number</th>\n",
       "      <th>arrival_date_day_of_month</th>\n",
       "      <th>stays_in_weekend_nights</th>\n",
       "      <th>stays_in_week_nights</th>\n",
       "      <th>meal</th>\n",
       "      <th>...</th>\n",
       "      <th>deposit_type</th>\n",
       "      <th>agent</th>\n",
       "      <th>days_in_waiting_list</th>\n",
       "      <th>customer_type</th>\n",
       "      <th>adr</th>\n",
       "      <th>required_car_parking_spaces</th>\n",
       "      <th>total_of_special_requests</th>\n",
       "      <th>total_guests</th>\n",
       "      <th>net_booking_cancelled</th>\n",
       "      <th>month</th>\n",
       "    </tr>\n",
       "  </thead>\n",
       "  <tbody>\n",
       "    <tr>\n",
       "      <th>0</th>\n",
       "      <td>Resort Hotel</td>\n",
       "      <td>0</td>\n",
       "      <td>342</td>\n",
       "      <td>0</td>\n",
       "      <td>6</td>\n",
       "      <td>27</td>\n",
       "      <td>1</td>\n",
       "      <td>0</td>\n",
       "      <td>0</td>\n",
       "      <td>BB</td>\n",
       "      <td>...</td>\n",
       "      <td>No Deposit</td>\n",
       "      <td>9.0</td>\n",
       "      <td>0</td>\n",
       "      <td>Transient</td>\n",
       "      <td>0.0</td>\n",
       "      <td>0</td>\n",
       "      <td>0</td>\n",
       "      <td>2.0</td>\n",
       "      <td>0</td>\n",
       "      <td>0</td>\n",
       "    </tr>\n",
       "    <tr>\n",
       "      <th>1</th>\n",
       "      <td>Resort Hotel</td>\n",
       "      <td>0</td>\n",
       "      <td>737</td>\n",
       "      <td>0</td>\n",
       "      <td>6</td>\n",
       "      <td>27</td>\n",
       "      <td>1</td>\n",
       "      <td>0</td>\n",
       "      <td>0</td>\n",
       "      <td>BB</td>\n",
       "      <td>...</td>\n",
       "      <td>No Deposit</td>\n",
       "      <td>9.0</td>\n",
       "      <td>0</td>\n",
       "      <td>Transient</td>\n",
       "      <td>0.0</td>\n",
       "      <td>0</td>\n",
       "      <td>0</td>\n",
       "      <td>2.0</td>\n",
       "      <td>0</td>\n",
       "      <td>0</td>\n",
       "    </tr>\n",
       "    <tr>\n",
       "      <th>2</th>\n",
       "      <td>Resort Hotel</td>\n",
       "      <td>0</td>\n",
       "      <td>7</td>\n",
       "      <td>0</td>\n",
       "      <td>6</td>\n",
       "      <td>27</td>\n",
       "      <td>1</td>\n",
       "      <td>0</td>\n",
       "      <td>1</td>\n",
       "      <td>BB</td>\n",
       "      <td>...</td>\n",
       "      <td>No Deposit</td>\n",
       "      <td>9.0</td>\n",
       "      <td>0</td>\n",
       "      <td>Transient</td>\n",
       "      <td>75.0</td>\n",
       "      <td>0</td>\n",
       "      <td>0</td>\n",
       "      <td>1.0</td>\n",
       "      <td>0</td>\n",
       "      <td>0</td>\n",
       "    </tr>\n",
       "    <tr>\n",
       "      <th>3</th>\n",
       "      <td>Resort Hotel</td>\n",
       "      <td>0</td>\n",
       "      <td>13</td>\n",
       "      <td>0</td>\n",
       "      <td>6</td>\n",
       "      <td>27</td>\n",
       "      <td>1</td>\n",
       "      <td>0</td>\n",
       "      <td>1</td>\n",
       "      <td>BB</td>\n",
       "      <td>...</td>\n",
       "      <td>No Deposit</td>\n",
       "      <td>304.0</td>\n",
       "      <td>0</td>\n",
       "      <td>Transient</td>\n",
       "      <td>75.0</td>\n",
       "      <td>0</td>\n",
       "      <td>0</td>\n",
       "      <td>1.0</td>\n",
       "      <td>0</td>\n",
       "      <td>0</td>\n",
       "    </tr>\n",
       "    <tr>\n",
       "      <th>4</th>\n",
       "      <td>Resort Hotel</td>\n",
       "      <td>0</td>\n",
       "      <td>14</td>\n",
       "      <td>0</td>\n",
       "      <td>6</td>\n",
       "      <td>27</td>\n",
       "      <td>1</td>\n",
       "      <td>0</td>\n",
       "      <td>2</td>\n",
       "      <td>BB</td>\n",
       "      <td>...</td>\n",
       "      <td>No Deposit</td>\n",
       "      <td>240.0</td>\n",
       "      <td>0</td>\n",
       "      <td>Transient</td>\n",
       "      <td>98.0</td>\n",
       "      <td>0</td>\n",
       "      <td>1</td>\n",
       "      <td>2.0</td>\n",
       "      <td>0</td>\n",
       "      <td>0</td>\n",
       "    </tr>\n",
       "  </tbody>\n",
       "</table>\n",
       "<p>5 rows × 27 columns</p>\n",
       "</div>"
      ],
      "text/plain": [
       "          hotel  is_canceled  lead_time  arrival_date_year arrival_date_month  \\\n",
       "0  Resort Hotel            0        342                  0                  6   \n",
       "1  Resort Hotel            0        737                  0                  6   \n",
       "2  Resort Hotel            0          7                  0                  6   \n",
       "3  Resort Hotel            0         13                  0                  6   \n",
       "4  Resort Hotel            0         14                  0                  6   \n",
       "\n",
       "   arrival_date_week_number  arrival_date_day_of_month  \\\n",
       "0                        27                          1   \n",
       "1                        27                          1   \n",
       "2                        27                          1   \n",
       "3                        27                          1   \n",
       "4                        27                          1   \n",
       "\n",
       "   stays_in_weekend_nights  stays_in_week_nights meal  ... deposit_type  \\\n",
       "0                        0                     0   BB  ...   No Deposit   \n",
       "1                        0                     0   BB  ...   No Deposit   \n",
       "2                        0                     1   BB  ...   No Deposit   \n",
       "3                        0                     1   BB  ...   No Deposit   \n",
       "4                        0                     2   BB  ...   No Deposit   \n",
       "\n",
       "   agent days_in_waiting_list  customer_type   adr  \\\n",
       "0    9.0                    0      Transient   0.0   \n",
       "1    9.0                    0      Transient   0.0   \n",
       "2    9.0                    0      Transient  75.0   \n",
       "3  304.0                    0      Transient  75.0   \n",
       "4  240.0                    0      Transient  98.0   \n",
       "\n",
       "  required_car_parking_spaces  total_of_special_requests total_guests  \\\n",
       "0                           0                          0          2.0   \n",
       "1                           0                          0          2.0   \n",
       "2                           0                          0          1.0   \n",
       "3                           0                          0          1.0   \n",
       "4                           0                          1          2.0   \n",
       "\n",
       "   net_booking_cancelled  month  \n",
       "0                      0      0  \n",
       "1                      0      0  \n",
       "2                      0      0  \n",
       "3                      0      0  \n",
       "4                      0      0  \n",
       "\n",
       "[5 rows x 27 columns]"
      ]
     },
     "execution_count": 121,
     "metadata": {},
     "output_type": "execute_result"
    }
   ],
   "source": [
    "df['arrival_date_year'] = df['arrival_date_year'].replace(replace_year)\n",
    "df['arrival_date_month'] = df['arrival_date_month'].replace(replace_month)\n",
    "df['month'] = df['arrival_date_year']+df['arrival_date_year']\n",
    "# df.drop(['arrival_date_year', 'arrival_date_year'], axis = 1, inplace = True)\n",
    "df.head()"
   ]
  },
  {
   "cell_type": "markdown",
   "metadata": {
    "id": "-MNF119rwsIC"
   },
   "source": [
    "### Label Encoding\n",
    "\n",
    "All categorical features are encoded with label encoding.\n"
   ]
  },
  {
   "cell_type": "code",
   "execution_count": 122,
   "metadata": {
    "colab": {
     "base_uri": "https://localhost:8080/",
     "height": 255
    },
    "execution": {
     "iopub.execute_input": "2024-06-01T05:41:38.760026Z",
     "iopub.status.busy": "2024-06-01T05:41:38.759644Z",
     "iopub.status.idle": "2024-06-01T05:41:39.940052Z",
     "shell.execute_reply": "2024-06-01T05:41:39.938730Z",
     "shell.execute_reply.started": "2024-06-01T05:41:38.759994Z"
    },
    "executionInfo": {
     "elapsed": 2317,
     "status": "ok",
     "timestamp": 1717219778756,
     "user": {
      "displayName": "Romik Gosai",
      "userId": "01690688372578414329"
     },
     "user_tz": -345
    },
    "id": "sMblbXeEwsIE",
    "outputId": "fc717432-98e0-4471-f7a0-da8529302fe4"
   },
   "outputs": [
    {
     "data": {
      "text/html": [
       "<div>\n",
       "<style scoped>\n",
       "    .dataframe tbody tr th:only-of-type {\n",
       "        vertical-align: middle;\n",
       "    }\n",
       "\n",
       "    .dataframe tbody tr th {\n",
       "        vertical-align: top;\n",
       "    }\n",
       "\n",
       "    .dataframe thead th {\n",
       "        text-align: right;\n",
       "    }\n",
       "</style>\n",
       "<table border=\"1\" class=\"dataframe\">\n",
       "  <thead>\n",
       "    <tr style=\"text-align: right;\">\n",
       "      <th></th>\n",
       "      <th>hotel</th>\n",
       "      <th>is_canceled</th>\n",
       "      <th>lead_time</th>\n",
       "      <th>arrival_date_year</th>\n",
       "      <th>arrival_date_month</th>\n",
       "      <th>arrival_date_week_number</th>\n",
       "      <th>arrival_date_day_of_month</th>\n",
       "      <th>stays_in_weekend_nights</th>\n",
       "      <th>stays_in_week_nights</th>\n",
       "      <th>meal</th>\n",
       "      <th>...</th>\n",
       "      <th>deposit_type</th>\n",
       "      <th>agent</th>\n",
       "      <th>days_in_waiting_list</th>\n",
       "      <th>customer_type</th>\n",
       "      <th>adr</th>\n",
       "      <th>required_car_parking_spaces</th>\n",
       "      <th>total_of_special_requests</th>\n",
       "      <th>total_guests</th>\n",
       "      <th>net_booking_cancelled</th>\n",
       "      <th>month</th>\n",
       "    </tr>\n",
       "  </thead>\n",
       "  <tbody>\n",
       "    <tr>\n",
       "      <th>0</th>\n",
       "      <td>1</td>\n",
       "      <td>0</td>\n",
       "      <td>342</td>\n",
       "      <td>0</td>\n",
       "      <td>7</td>\n",
       "      <td>27</td>\n",
       "      <td>1</td>\n",
       "      <td>0</td>\n",
       "      <td>0</td>\n",
       "      <td>0</td>\n",
       "      <td>...</td>\n",
       "      <td>0</td>\n",
       "      <td>9.0</td>\n",
       "      <td>0</td>\n",
       "      <td>2</td>\n",
       "      <td>0.0</td>\n",
       "      <td>0</td>\n",
       "      <td>0</td>\n",
       "      <td>2.0</td>\n",
       "      <td>0</td>\n",
       "      <td>0</td>\n",
       "    </tr>\n",
       "    <tr>\n",
       "      <th>1</th>\n",
       "      <td>1</td>\n",
       "      <td>0</td>\n",
       "      <td>737</td>\n",
       "      <td>0</td>\n",
       "      <td>7</td>\n",
       "      <td>27</td>\n",
       "      <td>1</td>\n",
       "      <td>0</td>\n",
       "      <td>0</td>\n",
       "      <td>0</td>\n",
       "      <td>...</td>\n",
       "      <td>0</td>\n",
       "      <td>9.0</td>\n",
       "      <td>0</td>\n",
       "      <td>2</td>\n",
       "      <td>0.0</td>\n",
       "      <td>0</td>\n",
       "      <td>0</td>\n",
       "      <td>2.0</td>\n",
       "      <td>0</td>\n",
       "      <td>0</td>\n",
       "    </tr>\n",
       "    <tr>\n",
       "      <th>2</th>\n",
       "      <td>1</td>\n",
       "      <td>0</td>\n",
       "      <td>7</td>\n",
       "      <td>0</td>\n",
       "      <td>7</td>\n",
       "      <td>27</td>\n",
       "      <td>1</td>\n",
       "      <td>0</td>\n",
       "      <td>1</td>\n",
       "      <td>0</td>\n",
       "      <td>...</td>\n",
       "      <td>0</td>\n",
       "      <td>9.0</td>\n",
       "      <td>0</td>\n",
       "      <td>2</td>\n",
       "      <td>75.0</td>\n",
       "      <td>0</td>\n",
       "      <td>0</td>\n",
       "      <td>1.0</td>\n",
       "      <td>0</td>\n",
       "      <td>0</td>\n",
       "    </tr>\n",
       "    <tr>\n",
       "      <th>3</th>\n",
       "      <td>1</td>\n",
       "      <td>0</td>\n",
       "      <td>13</td>\n",
       "      <td>0</td>\n",
       "      <td>7</td>\n",
       "      <td>27</td>\n",
       "      <td>1</td>\n",
       "      <td>0</td>\n",
       "      <td>1</td>\n",
       "      <td>0</td>\n",
       "      <td>...</td>\n",
       "      <td>0</td>\n",
       "      <td>304.0</td>\n",
       "      <td>0</td>\n",
       "      <td>2</td>\n",
       "      <td>75.0</td>\n",
       "      <td>0</td>\n",
       "      <td>0</td>\n",
       "      <td>1.0</td>\n",
       "      <td>0</td>\n",
       "      <td>0</td>\n",
       "    </tr>\n",
       "    <tr>\n",
       "      <th>4</th>\n",
       "      <td>1</td>\n",
       "      <td>0</td>\n",
       "      <td>14</td>\n",
       "      <td>0</td>\n",
       "      <td>7</td>\n",
       "      <td>27</td>\n",
       "      <td>1</td>\n",
       "      <td>0</td>\n",
       "      <td>2</td>\n",
       "      <td>0</td>\n",
       "      <td>...</td>\n",
       "      <td>0</td>\n",
       "      <td>240.0</td>\n",
       "      <td>0</td>\n",
       "      <td>2</td>\n",
       "      <td>98.0</td>\n",
       "      <td>0</td>\n",
       "      <td>1</td>\n",
       "      <td>2.0</td>\n",
       "      <td>0</td>\n",
       "      <td>0</td>\n",
       "    </tr>\n",
       "  </tbody>\n",
       "</table>\n",
       "<p>5 rows × 27 columns</p>\n",
       "</div>"
      ],
      "text/plain": [
       "   hotel  is_canceled  lead_time  arrival_date_year  arrival_date_month  \\\n",
       "0      1            0        342                  0                   7   \n",
       "1      1            0        737                  0                   7   \n",
       "2      1            0          7                  0                   7   \n",
       "3      1            0         13                  0                   7   \n",
       "4      1            0         14                  0                   7   \n",
       "\n",
       "   arrival_date_week_number  arrival_date_day_of_month  \\\n",
       "0                        27                          1   \n",
       "1                        27                          1   \n",
       "2                        27                          1   \n",
       "3                        27                          1   \n",
       "4                        27                          1   \n",
       "\n",
       "   stays_in_weekend_nights  stays_in_week_nights  meal  ...  deposit_type  \\\n",
       "0                        0                     0     0  ...             0   \n",
       "1                        0                     0     0  ...             0   \n",
       "2                        0                     1     0  ...             0   \n",
       "3                        0                     1     0  ...             0   \n",
       "4                        0                     2     0  ...             0   \n",
       "\n",
       "   agent  days_in_waiting_list  customer_type   adr  \\\n",
       "0    9.0                     0              2   0.0   \n",
       "1    9.0                     0              2   0.0   \n",
       "2    9.0                     0              2  75.0   \n",
       "3  304.0                     0              2  75.0   \n",
       "4  240.0                     0              2  98.0   \n",
       "\n",
       "   required_car_parking_spaces  total_of_special_requests  total_guests  \\\n",
       "0                            0                          0           2.0   \n",
       "1                            0                          0           2.0   \n",
       "2                            0                          0           1.0   \n",
       "3                            0                          0           1.0   \n",
       "4                            0                          1           2.0   \n",
       "\n",
       "   net_booking_cancelled  month  \n",
       "0                      0      0  \n",
       "1                      0      0  \n",
       "2                      0      0  \n",
       "3                      0      0  \n",
       "4                      0      0  \n",
       "\n",
       "[5 rows x 27 columns]"
      ]
     },
     "execution_count": 122,
     "metadata": {},
     "output_type": "execute_result"
    }
   ],
   "source": [
    "from sklearn.preprocessing import LabelEncoder\n",
    "\n",
    "\n",
    "cat_vars = [var for var in df.columns if df[var].dtypes=='O']\n",
    "df[cat_vars] = df[cat_vars].astype(str).apply(LabelEncoder().fit_transform)\n",
    "df.head()"
   ]
  },
  {
   "cell_type": "markdown",
   "metadata": {
    "id": "3gv7QJLkwsIN"
   },
   "source": [
    "### Train-Test Split\n",
    "\n",
    "Before performing train-test split let's check the class distribution."
   ]
  },
  {
   "cell_type": "code",
   "execution_count": 123,
   "metadata": {
    "colab": {
     "base_uri": "https://localhost:8080/",
     "height": 462
    },
    "execution": {
     "iopub.execute_input": "2024-06-01T05:41:39.945947Z",
     "iopub.status.busy": "2024-06-01T05:41:39.945028Z",
     "iopub.status.idle": "2024-06-01T05:41:40.254523Z",
     "shell.execute_reply": "2024-06-01T05:41:40.253071Z",
     "shell.execute_reply.started": "2024-06-01T05:41:39.945905Z"
    },
    "executionInfo": {
     "elapsed": 10,
     "status": "ok",
     "timestamp": 1717219778756,
     "user": {
      "displayName": "Romik Gosai",
      "userId": "01690688372578414329"
     },
     "user_tz": -345
    },
    "id": "YPhv7xg2wsIO",
    "outputId": "8430d0ea-6594-44dd-cadd-01946b57a096"
   },
   "outputs": [
    {
     "data": {
      "text/plain": [
       "<Axes: xlabel='is_canceled'>"
      ]
     },
     "execution_count": 123,
     "metadata": {},
     "output_type": "execute_result"
    },
    {
     "data": {
      "image/png": "[encoded data removed]",
      "text/plain": [
       "<Figure size 640x480 with 1 Axes>"
      ]
     },
     "metadata": {},
     "output_type": "display_data"
    }
   ],
   "source": [
    "df['is_canceled'].value_counts().plot(kind = 'bar')"
   ]
  },
  {
   "cell_type": "markdown",
   "metadata": {
    "id": "idp18pfRwsIW"
   },
   "source": [
    "We see that the dataset is imbalanced. This forces us to:\n",
    "- Set `stratify` to `y` while splitting the dataset so that the proportion of `is_canceled = 0`, and `is_canceled = 1` remains constant in the training and test dataset.\n",
    "- Use metric like f1 score to assess the performance of our model"
   ]
  },
  {
   "cell_type": "code",
   "execution_count": 124,
   "metadata": {
    "execution": {
     "iopub.execute_input": "2024-06-01T05:41:40.256563Z",
     "iopub.status.busy": "2024-06-01T05:41:40.256150Z",
     "iopub.status.idle": "2024-06-01T05:41:40.513687Z",
     "shell.execute_reply": "2024-06-01T05:41:40.512261Z",
     "shell.execute_reply.started": "2024-06-01T05:41:40.256530Z"
    },
    "executionInfo": {
     "elapsed": 549,
     "status": "ok",
     "timestamp": 1717219779297,
     "user": {
      "displayName": "Romik Gosai",
      "userId": "01690688372578414329"
     },
     "user_tz": -345
    },
    "id": "ioN2runWwsIX"
   },
   "outputs": [],
   "source": [
    "from sklearn.model_selection import train_test_split\n",
    "\n",
    "\n",
    "RANDOM_STATE = 7\n",
    "y= df['is_canceled']\n",
    "X = df.drop('is_canceled', axis = 1)\n",
    "X_train, X_test, y_train, y_test = train_test_split(X, y, test_size = 0.2, stratify = y, random_state = RANDOM_STATE)"
   ]
  },
  {
   "cell_type": "markdown",
   "metadata": {
    "id": "-FH86C_ewsId"
   },
   "source": [
    "## Bagging\n",
    "\n",
    "### Exercise 1: Training Bagging Classifier\n",
    "<b><div style=\"text-align: right\">[POINTS: 1]</div></b>\n",
    "\n",
    "---\n",
    "\n",
    "\n",
    "**Task:**\n",
    "-  Instantiate BaggingClassifier in the variable `bagging` with __n_estimators__ set to 100 and  __random_state__ set to RANDOM_STATE"
   ]
  },
  {
   "cell_type": "code",
   "execution_count": 125,
   "metadata": {
    "colab": {
     "base_uri": "https://localhost:8080/"
    },
    "execution": {
     "iopub.execute_input": "2024-06-01T05:41:40.515875Z",
     "iopub.status.busy": "2024-06-01T05:41:40.515416Z",
     "iopub.status.idle": "2024-06-01T05:43:08.409303Z",
     "shell.execute_reply": "2024-06-01T05:43:08.408126Z",
     "shell.execute_reply.started": "2024-06-01T05:41:40.515830Z"
    },
    "executionInfo": {
     "elapsed": 108670,
     "status": "ok",
     "timestamp": 1717219887966,
     "user": {
      "displayName": "Romik Gosai",
      "userId": "01690688372578414329"
     },
     "user_tz": -345
    },
    "id": "v4WnJLOCwsIe",
    "outputId": "0e9723bf-b537-49dd-f56e-ae97c5cbdc66"
   },
   "outputs": [
    {
     "name": "stdout",
     "output_type": "stream",
     "text": [
      "Train f1_score: 0.9960933002773003\n",
      "Test f1_score: 0.8899704649635516\n"
     ]
    }
   ],
   "source": [
    "### Ex-1-Task-1\n",
    "\n",
    "from sklearn.ensemble import BaggingClassifier\n",
    "from sklearn.metrics import f1_score\n",
    "\n",
    "\n",
    "bagging = None\n",
    "### BEGIN SOLUTION\n",
    "# your code here\n",
    "bagging = BaggingClassifier(n_estimators=100, random_state= RANDOM_STATE)\n",
    "### END SOLUTION\n",
    "bagging.fit(X_train, y_train)\n",
    "print(\"Train f1_score:\", f1_score(y_train, bagging.predict(X_train), average = 'weighted'))\n",
    "print(\"Test f1_score:\", f1_score(y_test, bagging.predict(X_test), average = 'weighted'))"
   ]
  },
  {
   "cell_type": "code",
   "execution_count": 126,
   "metadata": {
    "execution": {
     "iopub.execute_input": "2024-06-01T05:43:08.412048Z",
     "iopub.status.busy": "2024-06-01T05:43:08.410811Z",
     "iopub.status.idle": "2024-06-01T05:43:08.419220Z",
     "shell.execute_reply": "2024-06-01T05:43:08.417836Z",
     "shell.execute_reply.started": "2024-06-01T05:43:08.412001Z"
    },
    "executionInfo": {
     "elapsed": 3,
     "status": "ok",
     "timestamp": 1717219887966,
     "user": {
      "displayName": "Romik Gosai",
      "userId": "01690688372578414329"
     },
     "user_tz": -345
    },
    "id": "pTrHUGX7wsIm"
   },
   "outputs": [],
   "source": [
    "assert bagging is not None"
   ]
  },
  {
   "cell_type": "markdown",
   "metadata": {
    "id": "7aoaNQUYwsIs"
   },
   "source": [
    "## Random Forest\n",
    "\n",
    "### Exercise 2: Training Random Forest Classifier\n",
    "<b><div style=\"text-align: right\">[POINTS: 1]</div></b>\n",
    "\n",
    "---\n",
    "\n",
    "\n",
    "**Task:**\n",
    "-  Instantiate RandomForestClassifier in the variable `rf` with __n_estimators__ set to 100, and  __random_state__ set to RANDOM_STATE"
   ]
  },
  {
   "cell_type": "code",
   "execution_count": 127,
   "metadata": {
    "colab": {
     "base_uri": "https://localhost:8080/"
    },
    "execution": {
     "iopub.execute_input": "2024-06-01T05:43:08.422134Z",
     "iopub.status.busy": "2024-06-01T05:43:08.421592Z",
     "iopub.status.idle": "2024-06-01T05:43:33.665264Z",
     "shell.execute_reply": "2024-06-01T05:43:33.663695Z",
     "shell.execute_reply.started": "2024-06-01T05:43:08.422090Z"
    },
    "executionInfo": {
     "elapsed": 19749,
     "status": "ok",
     "timestamp": 1717219907713,
     "user": {
      "displayName": "Romik Gosai",
      "userId": "01690688372578414329"
     },
     "user_tz": -345
    },
    "id": "6XDrmqnkwsIt",
    "outputId": "b8048f78-0896-481b-c53c-3d6d4dcf51e8"
   },
   "outputs": [
    {
     "name": "stdout",
     "output_type": "stream",
     "text": [
      "Train f1_score: 0.9961141563536368\n",
      "Test f1_score: 0.8942566123377529\n"
     ]
    }
   ],
   "source": [
    "### Ex-2-Task-1\n",
    "\n",
    "from sklearn.ensemble import RandomForestClassifier\n",
    "\n",
    "rf = None\n",
    "### BEGIN SOLUTION\n",
    "# your code here\n",
    "rf = RandomForestClassifier(n_estimators=100, random_state=RANDOM_STATE)\n",
    "### END SOLUTION\n",
    "rf.fit(X_train, y_train)\n",
    "print(\"Train f1_score:\", f1_score(y_train, rf.predict(X_train), average = 'weighted'))\n",
    "print(\"Test f1_score:\", f1_score(y_test, rf.predict(X_test), average = 'weighted'))"
   ]
  },
  {
   "cell_type": "code",
   "execution_count": 128,
   "metadata": {
    "execution": {
     "iopub.execute_input": "2024-06-01T05:43:33.667601Z",
     "iopub.status.busy": "2024-06-01T05:43:33.667236Z",
     "iopub.status.idle": "2024-06-01T05:43:33.674301Z",
     "shell.execute_reply": "2024-06-01T05:43:33.672401Z",
     "shell.execute_reply.started": "2024-06-01T05:43:33.667570Z"
    },
    "executionInfo": {
     "elapsed": 3,
     "status": "ok",
     "timestamp": 1717219907713,
     "user": {
      "displayName": "Romik Gosai",
      "userId": "01690688372578414329"
     },
     "user_tz": -345
    },
    "id": "SuRcc3LHwsIy"
   },
   "outputs": [],
   "source": [
    "assert rf is not None"
   ]
  },
  {
   "cell_type": "markdown",
   "metadata": {
    "id": "HrCu3Pp-wsI5"
   },
   "source": [
    "## XGBoost\n",
    "\n",
    "### Exercise 3: XGBoost Training\n",
    "<b><div style=\"text-align: right\">[POINTS: 1]</div></b>\n",
    "\n",
    "---\n",
    "Here we will train XGBoost with most of the parameters left to default.\n",
    "\n",
    "**Task:**\n",
    "-  Instantiate XGBClassifier in the variable `xgb` with __n_estimators__ set to 100 and __random_state__ set to RANDOM_STATE\n"
   ]
  },
  {
   "cell_type": "markdown",
   "metadata": {
    "id": "pZAZQb2_LA3W"
   },
   "source": [
    "## Error around this cell"
   ]
  },
  {
   "cell_type": "code",
   "execution_count": 129,
   "metadata": {
    "colab": {
     "base_uri": "https://localhost:8080/"
    },
    "execution": {
     "iopub.execute_input": "2024-06-01T05:43:33.680003Z",
     "iopub.status.busy": "2024-06-01T05:43:33.679595Z",
     "iopub.status.idle": "2024-06-01T05:43:35.150911Z",
     "shell.execute_reply": "2024-06-01T05:43:35.149878Z",
     "shell.execute_reply.started": "2024-06-01T05:43:33.679973Z"
    },
    "executionInfo": {
     "elapsed": 1653,
     "status": "ok",
     "timestamp": 1717219909364,
     "user": {
      "displayName": "Romik Gosai",
      "userId": "01690688372578414329"
     },
     "user_tz": -345
    },
    "id": "JTDajYP9wsI6",
    "outputId": "d8fe96ec-7b0d-4df5-cb87-d6f89f9685fa"
   },
   "outputs": [
    {
     "name": "stderr",
     "output_type": "stream",
     "text": [
      "C:\\Users\\Hrishav\\AppData\\Roaming\\Python\\Python311\\site-packages\\xgboost\\core.py:160: UserWarning: [20:31:07] WARNING: C:\\buildkite-agent\\builds\\buildkite-windows-cpu-autoscaling-group-i-0b3782d1791676daf-1\\xgboost\\xgboost-ci-windows\\src\\learner.cc:742: \n",
      "Parameters: { \"n_estimator\" } are not used.\n",
      "\n",
      "  warnings.warn(smsg, UserWarning)\n"
     ]
    },
    {
     "name": "stdout",
     "output_type": "stream",
     "text": [
      "XGBClassifer with default parameters:\n",
      "\n",
      "XGBClassifier(base_score=None, booster=None, callbacks=None,\n",
      "              colsample_bylevel=None, colsample_bynode=None,\n",
      "              colsample_bytree=None, device=None, early_stopping_rounds=None,\n",
      "              enable_categorical=False, eval_metric=None, feature_types=None,\n",
      "              gamma=None, grow_policy=None, importance_type=None,\n",
      "              interaction_constraints=None, learning_rate=None, max_bin=None,\n",
      "              max_cat_threshold=None, max_cat_to_onehot=None,\n",
      "              max_delta_step=None, max_depth=None, max_leaves=None,\n",
      "              min_child_weight=None, missing=nan, monotone_constraints=None,\n",
      "              multi_strategy=None, n_estimator=100, n_estimators=None,\n",
      "              n_jobs=None, num_parallel_tree=None, ...)\n"
     ]
    }
   ],
   "source": [
    "### Ex-3-Task-1\n",
    "\n",
    "from xgboost import XGBClassifier\n",
    "\n",
    "\n",
    "xgb = None\n",
    "### BEGIN SOLUTION\n",
    "# your code here\n",
    "xgb = XGBClassifier(n_estimator=100, random_state = RANDOM_STATE)\n",
    "### END SOLUTION\n",
    "xgb.fit(X_train, y_train)\n",
    "print(\"XGBClassifer with default parameters:\\n\")\n",
    "print(xgb)"
   ]
  },
  {
   "cell_type": "code",
   "execution_count": 130,
   "metadata": {
    "execution": {
     "iopub.execute_input": "2024-06-01T05:43:35.157582Z",
     "iopub.status.busy": "2024-06-01T05:43:35.155425Z",
     "iopub.status.idle": "2024-06-01T05:43:35.162798Z",
     "shell.execute_reply": "2024-06-01T05:43:35.161493Z",
     "shell.execute_reply.started": "2024-06-01T05:43:35.157529Z"
    },
    "executionInfo": {
     "elapsed": 3,
     "status": "ok",
     "timestamp": 1717219909364,
     "user": {
      "displayName": "Romik Gosai",
      "userId": "01690688372578414329"
     },
     "user_tz": -345
    },
    "id": "co-fgNlBwsI_"
   },
   "outputs": [],
   "source": [
    "assert xgb is not None"
   ]
  },
  {
   "cell_type": "markdown",
   "metadata": {
    "id": "2MfIlj_wwsJE"
   },
   "source": [
    "### Model Evaluation\n"
   ]
  },
  {
   "cell_type": "code",
   "execution_count": 131,
   "metadata": {
    "colab": {
     "base_uri": "https://localhost:8080/"
    },
    "execution": {
     "iopub.execute_input": "2024-06-01T05:43:35.165221Z",
     "iopub.status.busy": "2024-06-01T05:43:35.164539Z",
     "iopub.status.idle": "2024-06-01T05:43:35.402543Z",
     "shell.execute_reply": "2024-06-01T05:43:35.401126Z",
     "shell.execute_reply.started": "2024-06-01T05:43:35.165188Z"
    },
    "executionInfo": {
     "elapsed": 669,
     "status": "ok",
     "timestamp": 1717219910031,
     "user": {
      "displayName": "Romik Gosai",
      "userId": "01690688372578414329"
     },
     "user_tz": -345
    },
    "id": "aAU-U1zAwsJF",
    "outputId": "3337bac2-b1e6-4f6b-c3f9-91b72863811b"
   },
   "outputs": [
    {
     "name": "stdout",
     "output_type": "stream",
     "text": [
      "Train f1_score: 0.8961338160144634\n",
      "Test f1_score: 0.8756732482053502\n"
     ]
    }
   ],
   "source": [
    "print(\"Train f1_score:\", f1_score(y_train, xgb.predict(X_train), average = 'weighted'))\n",
    "print(\"Test f1_score:\", f1_score(y_test, xgb.predict(X_test), average = 'weighted'))"
   ]
  },
  {
   "cell_type": "markdown",
   "metadata": {
    "id": "Cp8cVcgkwsJL"
   },
   "source": [
    "### Tree Visualization\n",
    "\n",
    "### Exercise 4: Plot the tree structure\n",
    "<b><div style=\"text-align: right\">[UNGRADED]</div></b>\n",
    "\n",
    "---\n",
    "Plot the tree structure in the cell below. You can use `plot_tree()` or `to_graphviz()` method provided by xgboost to plot the tree.\n",
    "\n",
    "**Task:**\n",
    "-  Your task is to plot the 20th tree and answer the quiz below.\n",
    "\n"
   ]
  },
  {
   "cell_type": "code",
   "execution_count": 132,
   "metadata": {
    "colab": {
     "base_uri": "https://localhost:8080/",
     "height": 795
    },
    "execution": {
     "iopub.execute_input": "2024-06-01T05:43:35.404677Z",
     "iopub.status.busy": "2024-06-01T05:43:35.404258Z",
     "iopub.status.idle": "2024-06-01T05:43:35.765031Z",
     "shell.execute_reply": "2024-06-01T05:43:35.763819Z",
     "shell.execute_reply.started": "2024-06-01T05:43:35.404642Z"
    },
    "executionInfo": {
     "elapsed": 5,
     "status": "ok",
     "timestamp": 1717219910031,
     "user": {
      "displayName": "Romik Gosai",
      "userId": "01690688372578414329"
     },
     "user_tz": -345
    },
    "id": "48H5N7r-wsJM",
    "outputId": "5a46813e-4b5b-471e-dc08-d5f2385048d5"
   },
   "outputs": [
    {
     "data": {
      "image/svg+xml": [
       "<?xml version=\"1.0\" encoding=\"UTF-8\" standalone=\"no\"?>\n",
       "<!DOCTYPE svg PUBLIC \"-//W3C//DTD SVG 1.1//EN\"\n",
       " \"http://www.w3.org/Graphics/SVG/1.1/DTD/svg11.dtd\">\n",
       "<!-- Generated by graphviz version 11.0.0 (20240428.1522)\n",
       " -->\n",
       "<!-- Pages: 1 -->\n",
       "<svg width=\"5670pt\" height=\"571pt\"\n",
       " viewBox=\"0.00 0.00 5669.50 570.50\" xmlns=\"http://www.w3.org/2000/svg\" xmlns:xlink=\"http://www.w3.org/1999/xlink\">\n",
       "<g id=\"graph0\" class=\"graph\" transform=\"scale(1 1) rotate(0) translate(4 566.5)\">\n",
       "<polygon fill=\"white\" stroke=\"none\" points=\"-4,4 -4,-566.5 5665.5,-566.5 5665.5,4 -4,4\"/>\n",
       "<!-- 0 -->\n",
       "<g id=\"node1\" class=\"node\">\n",
       "<title>0</title>\n",
       "<ellipse fill=\"none\" stroke=\"black\" cx=\"3227\" cy=\"-544.5\" rx=\"130.4\" ry=\"18\"/>\n",
       "<text text-anchor=\"middle\" x=\"3227\" y=\"-539.08\" font-family=\"Times New Roman,serif\" font-size=\"14.00\">required_car_parking_spaces&lt;1</text>\n",
       "</g>\n",
       "<!-- 1 -->\n",
       "<g id=\"node2\" class=\"node\">\n",
       "<title>1</title>\n",
       "<ellipse fill=\"none\" stroke=\"black\" cx=\"3120\" cy=\"-456.75\" rx=\"115.93\" ry=\"18\"/>\n",
       "<text text-anchor=\"middle\" x=\"3120\" y=\"-451.32\" font-family=\"Times New Roman,serif\" font-size=\"14.00\">total_of_special_requests&lt;1</text>\n",
       "</g>\n",
       "<!-- 0&#45;&gt;1 -->\n",
       "<g id=\"edge1\" class=\"edge\">\n",
       "<title>0&#45;&gt;1</title>\n",
       "<path fill=\"none\" stroke=\"#ff0000\" d=\"M3205.6,-526.35C3189.71,-513.62 3167.82,-496.08 3150.16,-481.92\"/>\n",
       "<polygon fill=\"#ff0000\" stroke=\"#ff0000\" points=\"3152.53,-479.34 3142.54,-475.81 3148.15,-484.8 3152.53,-479.34\"/>\n",
       "<text text-anchor=\"middle\" x=\"3193.37\" y=\"-495.2\" font-family=\"Times New Roman,serif\" font-size=\"14.00\">yes</text>\n",
       "</g>\n",
       "<!-- 2 -->\n",
       "<g id=\"node3\" class=\"node\">\n",
       "<title>2</title>\n",
       "<ellipse fill=\"none\" stroke=\"black\" cx=\"3333\" cy=\"-456.75\" rx=\"79.51\" ry=\"18\"/>\n",
       "<text text-anchor=\"middle\" x=\"3333\" y=\"-451.32\" font-family=\"Times New Roman,serif\" font-size=\"14.00\">leaf=&#45;0.297468066</text>\n",
       "</g>\n",
       "<!-- 0&#45;&gt;2 -->\n",
       "<g id=\"edge2\" class=\"edge\">\n",
       "<title>0&#45;&gt;2</title>\n",
       "<path fill=\"none\" stroke=\"#0000ff\" d=\"M3248.19,-526.35C3264.04,-513.53 3285.91,-495.85 3303.46,-481.64\"/>\n",
       "<polygon fill=\"#0000ff\" stroke=\"#0000ff\" points=\"3305.45,-484.54 3311.02,-475.53 3301.05,-479.09 3305.45,-484.54\"/>\n",
       "<text text-anchor=\"middle\" x=\"3321.87\" y=\"-495.2\" font-family=\"Times New Roman,serif\" font-size=\"14.00\">no, missing</text>\n",
       "</g>\n",
       "<!-- 3 -->\n",
       "<g id=\"node4\" class=\"node\">\n",
       "<title>3</title>\n",
       "<ellipse fill=\"none\" stroke=\"black\" cx=\"2179\" cy=\"-369\" rx=\"88.49\" ry=\"18\"/>\n",
       "<text text-anchor=\"middle\" x=\"2179\" y=\"-363.57\" font-family=\"Times New Roman,serif\" font-size=\"14.00\">arrival_date_year&lt;12</text>\n",
       "</g>\n",
       "<!-- 1&#45;&gt;3 -->\n",
       "<g id=\"edge3\" class=\"edge\">\n",
       "<title>1&#45;&gt;3</title>\n",
       "<path fill=\"none\" stroke=\"#ff0000\" d=\"M3021.96,-446.82C2838.86,-430.13 2447.46,-394.46 2269.92,-378.29\"/>\n",
       "<polygon fill=\"#ff0000\" stroke=\"#ff0000\" points=\"2270.33,-374.81 2260.05,-377.39 2269.69,-381.78 2270.33,-374.81\"/>\n",
       "<text text-anchor=\"middle\" x=\"2743.37\" y=\"-407.45\" font-family=\"Times New Roman,serif\" font-size=\"14.00\">yes</text>\n",
       "</g>\n",
       "<!-- 4 -->\n",
       "<g id=\"node5\" class=\"node\">\n",
       "<title>4</title>\n",
       "<ellipse fill=\"none\" stroke=\"black\" cx=\"3611\" cy=\"-369\" rx=\"88.49\" ry=\"18\"/>\n",
       "<text text-anchor=\"middle\" x=\"3611\" y=\"-363.57\" font-family=\"Times New Roman,serif\" font-size=\"14.00\">arrival_date_year&lt;24</text>\n",
       "</g>\n",
       "<!-- 1&#45;&gt;4 -->\n",
       "<g id=\"edge4\" class=\"edge\">\n",
       "<title>1&#45;&gt;4</title>\n",
       "<path fill=\"none\" stroke=\"#0000ff\" d=\"M3195.1,-442.63C3286.91,-426.6 3441.45,-399.61 3534.07,-383.43\"/>\n",
       "<polygon fill=\"#0000ff\" stroke=\"#0000ff\" points=\"3534.59,-386.9 3543.84,-381.73 3533.39,-380 3534.59,-386.9\"/>\n",
       "<text text-anchor=\"middle\" x=\"3440.87\" y=\"-407.45\" font-family=\"Times New Roman,serif\" font-size=\"14.00\">no, missing</text>\n",
       "</g>\n",
       "<!-- 5 -->\n",
       "<g id=\"node6\" class=\"node\">\n",
       "<title>5</title>\n",
       "<ellipse fill=\"none\" stroke=\"black\" cx=\"1050\" cy=\"-281.25\" rx=\"100.46\" ry=\"18\"/>\n",
       "<text text-anchor=\"middle\" x=\"1050\" y=\"-275.82\" font-family=\"Times New Roman,serif\" font-size=\"14.00\">days_in_waiting_list&lt;22</text>\n",
       "</g>\n",
       "<!-- 3&#45;&gt;5 -->\n",
       "<g id=\"edge5\" class=\"edge\">\n",
       "<title>3&#45;&gt;5</title>\n",
       "<path fill=\"none\" stroke=\"#ff0000\" d=\"M2097.35,-361.8C1895.59,-346.47 1373.85,-306.85 1152.12,-290.01\"/>\n",
       "<polygon fill=\"#ff0000\" stroke=\"#ff0000\" points=\"1152.58,-286.53 1142.34,-289.26 1152.05,-293.51 1152.58,-286.53\"/>\n",
       "<text text-anchor=\"middle\" x=\"1725.37\" y=\"-319.7\" font-family=\"Times New Roman,serif\" font-size=\"14.00\">yes</text>\n",
       "</g>\n",
       "<!-- 6 -->\n",
       "<g id=\"node7\" class=\"node\">\n",
       "<title>6</title>\n",
       "<ellipse fill=\"none\" stroke=\"black\" cx=\"2179\" cy=\"-281.25\" rx=\"56.05\" ry=\"18\"/>\n",
       "<text text-anchor=\"middle\" x=\"2179\" y=\"-275.82\" font-family=\"Times New Roman,serif\" font-size=\"14.00\">lead_time&lt;1</text>\n",
       "</g>\n",
       "<!-- 3&#45;&gt;6 -->\n",
       "<g id=\"edge6\" class=\"edge\">\n",
       "<title>3&#45;&gt;6</title>\n",
       "<path fill=\"none\" stroke=\"#0000ff\" d=\"M2179,-350.65C2179,-339.26 2179,-324.09 2179,-310.93\"/>\n",
       "<polygon fill=\"#0000ff\" stroke=\"#0000ff\" points=\"2182.5,-311.09 2179,-301.09 2175.5,-311.09 2182.5,-311.09\"/>\n",
       "<text text-anchor=\"middle\" x=\"2210.87\" y=\"-319.7\" font-family=\"Times New Roman,serif\" font-size=\"14.00\">no, missing</text>\n",
       "</g>\n",
       "<!-- 7 -->\n",
       "<g id=\"node36\" class=\"node\">\n",
       "<title>7</title>\n",
       "<ellipse fill=\"none\" stroke=\"black\" cx=\"3611\" cy=\"-281.25\" rx=\"124.92\" ry=\"18\"/>\n",
       "<text text-anchor=\"middle\" x=\"3611\" y=\"-275.82\" font-family=\"Times New Roman,serif\" font-size=\"14.00\">arrival_date_week_number&lt;35</text>\n",
       "</g>\n",
       "<!-- 4&#45;&gt;7 -->\n",
       "<g id=\"edge35\" class=\"edge\">\n",
       "<title>4&#45;&gt;7</title>\n",
       "<path fill=\"none\" stroke=\"#ff0000\" d=\"M3611,-350.65C3611,-339.26 3611,-324.09 3611,-310.93\"/>\n",
       "<polygon fill=\"#ff0000\" stroke=\"#ff0000\" points=\"3614.5,-311.09 3611,-301.09 3607.5,-311.09 3614.5,-311.09\"/>\n",
       "<text text-anchor=\"middle\" x=\"3620.37\" y=\"-319.7\" font-family=\"Times New Roman,serif\" font-size=\"14.00\">yes</text>\n",
       "</g>\n",
       "<!-- 8 -->\n",
       "<g id=\"node37\" class=\"node\">\n",
       "<title>8</title>\n",
       "<ellipse fill=\"none\" stroke=\"black\" cx=\"4586\" cy=\"-281.25\" rx=\"115.93\" ry=\"18\"/>\n",
       "<text text-anchor=\"middle\" x=\"4586\" y=\"-275.82\" font-family=\"Times New Roman,serif\" font-size=\"14.00\">total_of_special_requests&lt;3</text>\n",
       "</g>\n",
       "<!-- 4&#45;&gt;8 -->\n",
       "<g id=\"edge36\" class=\"edge\">\n",
       "<title>4&#45;&gt;8</title>\n",
       "<path fill=\"none\" stroke=\"#0000ff\" d=\"M3690.79,-360.98C3864.56,-345.7 4277.51,-309.38 4475.9,-291.93\"/>\n",
       "<polygon fill=\"#0000ff\" stroke=\"#0000ff\" points=\"4476.04,-295.43 4485.7,-291.07 4475.43,-288.46 4476.04,-295.43\"/>\n",
       "<text text-anchor=\"middle\" x=\"4216.87\" y=\"-319.7\" font-family=\"Times New Roman,serif\" font-size=\"14.00\">no, missing</text>\n",
       "</g>\n",
       "<!-- 9 -->\n",
       "<g id=\"node8\" class=\"node\">\n",
       "<title>9</title>\n",
       "<ellipse fill=\"none\" stroke=\"black\" cx=\"543\" cy=\"-193.5\" rx=\"106.45\" ry=\"18\"/>\n",
       "<text text-anchor=\"middle\" x=\"543\" y=\"-188.07\" font-family=\"Times New Roman,serif\" font-size=\"14.00\">net_booking_cancelled&lt;1</text>\n",
       "</g>\n",
       "<!-- 5&#45;&gt;9 -->\n",
       "<g id=\"edge7\" class=\"edge\">\n",
       "<title>5&#45;&gt;9</title>\n",
       "<path fill=\"none\" stroke=\"#ff0000\" d=\"M978.7,-268.19C886.39,-252.58 725.73,-225.41 627.42,-208.78\"/>\n",
       "<polygon fill=\"#ff0000\" stroke=\"#ff0000\" points=\"628.27,-205.37 617.83,-207.16 627.11,-212.28 628.27,-205.37\"/>\n",
       "<text text-anchor=\"middle\" x=\"851.37\" y=\"-231.95\" font-family=\"Times New Roman,serif\" font-size=\"14.00\">yes</text>\n",
       "</g>\n",
       "<!-- 10 -->\n",
       "<g id=\"node9\" class=\"node\">\n",
       "<title>10</title>\n",
       "<ellipse fill=\"none\" stroke=\"black\" cx=\"1050\" cy=\"-193.5\" rx=\"91.98\" ry=\"18\"/>\n",
       "<text text-anchor=\"middle\" x=\"1050\" y=\"-188.07\" font-family=\"Times New Roman,serif\" font-size=\"14.00\">arrival_date_month&lt;3</text>\n",
       "</g>\n",
       "<!-- 5&#45;&gt;10 -->\n",
       "<g id=\"edge8\" class=\"edge\">\n",
       "<title>5&#45;&gt;10</title>\n",
       "<path fill=\"none\" stroke=\"#0000ff\" d=\"M1050,-262.9C1050,-251.51 1050,-236.34 1050,-223.18\"/>\n",
       "<polygon fill=\"#0000ff\" stroke=\"#0000ff\" points=\"1053.5,-223.34 1050,-213.34 1046.5,-223.34 1053.5,-223.34\"/>\n",
       "<text text-anchor=\"middle\" x=\"1081.87\" y=\"-231.95\" font-family=\"Times New Roman,serif\" font-size=\"14.00\">no, missing</text>\n",
       "</g>\n",
       "<!-- 11 -->\n",
       "<g id=\"node22\" class=\"node\">\n",
       "<title>11</title>\n",
       "<ellipse fill=\"none\" stroke=\"black\" cx=\"1932\" cy=\"-193.5\" rx=\"71.02\" ry=\"18\"/>\n",
       "<text text-anchor=\"middle\" x=\"1932\" y=\"-188.07\" font-family=\"Times New Roman,serif\" font-size=\"14.00\">adr&lt;19.1499996</text>\n",
       "</g>\n",
       "<!-- 6&#45;&gt;11 -->\n",
       "<g id=\"edge21\" class=\"edge\">\n",
       "<title>6&#45;&gt;11</title>\n",
       "<path fill=\"none\" stroke=\"#ff0000\" d=\"M2142.02,-267.41C2099.82,-252.76 2030.53,-228.71 1983.17,-212.26\"/>\n",
       "<polygon fill=\"#ff0000\" stroke=\"#ff0000\" points=\"1984.54,-209.04 1973.95,-209.06 1982.25,-215.65 1984.54,-209.04\"/>\n",
       "<text text-anchor=\"middle\" x=\"2087.37\" y=\"-231.95\" font-family=\"Times New Roman,serif\" font-size=\"14.00\">yes</text>\n",
       "</g>\n",
       "<!-- 12 -->\n",
       "<g id=\"node23\" class=\"node\">\n",
       "<title>12</title>\n",
       "<ellipse fill=\"none\" stroke=\"black\" cx=\"2296\" cy=\"-193.5\" rx=\"44.58\" ry=\"18\"/>\n",
       "<text text-anchor=\"middle\" x=\"2296\" y=\"-188.07\" font-family=\"Times New Roman,serif\" font-size=\"14.00\">agent&lt;10</text>\n",
       "</g>\n",
       "<!-- 6&#45;&gt;12 -->\n",
       "<g id=\"edge22\" class=\"edge\">\n",
       "<title>6&#45;&gt;12</title>\n",
       "<path fill=\"none\" stroke=\"#0000ff\" d=\"M2200.73,-264.32C2219.1,-250.86 2245.6,-231.43 2266,-216.49\"/>\n",
       "<polygon fill=\"#0000ff\" stroke=\"#0000ff\" points=\"2267.95,-219.4 2273.95,-210.66 2263.81,-213.75 2267.95,-219.4\"/>\n",
       "<text text-anchor=\"middle\" x=\"2279.87\" y=\"-231.95\" font-family=\"Times New Roman,serif\" font-size=\"14.00\">no, missing</text>\n",
       "</g>\n",
       "<!-- 17 -->\n",
       "<g id=\"node10\" class=\"node\">\n",
       "<title>17</title>\n",
       "<ellipse fill=\"none\" stroke=\"black\" cx=\"266\" cy=\"-105.75\" rx=\"65.04\" ry=\"18\"/>\n",
       "<text text-anchor=\"middle\" x=\"266\" y=\"-100.33\" font-family=\"Times New Roman,serif\" font-size=\"14.00\">lead_time&lt;217</text>\n",
       "</g>\n",
       "<!-- 9&#45;&gt;17 -->\n",
       "<g id=\"edge9\" class=\"edge\">\n",
       "<title>9&#45;&gt;17</title>\n",
       "<path fill=\"none\" stroke=\"#ff0000\" d=\"M493.48,-177.17C444.43,-161.99 369.57,-138.81 319.26,-123.24\"/>\n",
       "<polygon fill=\"#ff0000\" stroke=\"#ff0000\" points=\"320.33,-119.9 309.74,-120.29 318.26,-126.59 320.33,-119.9\"/>\n",
       "<text text-anchor=\"middle\" x=\"439.37\" y=\"-144.2\" font-family=\"Times New Roman,serif\" font-size=\"14.00\">yes</text>\n",
       "</g>\n",
       "<!-- 18 -->\n",
       "<g id=\"node11\" class=\"node\">\n",
       "<title>18</title>\n",
       "<ellipse fill=\"none\" stroke=\"black\" cx=\"543\" cy=\"-105.75\" rx=\"56.05\" ry=\"18\"/>\n",
       "<text text-anchor=\"middle\" x=\"543\" y=\"-100.33\" font-family=\"Times New Roman,serif\" font-size=\"14.00\">lead_time&lt;8</text>\n",
       "</g>\n",
       "<!-- 9&#45;&gt;18 -->\n",
       "<g id=\"edge10\" class=\"edge\">\n",
       "<title>9&#45;&gt;18</title>\n",
       "<path fill=\"none\" stroke=\"#0000ff\" d=\"M543,-175.15C543,-163.76 543,-148.59 543,-135.43\"/>\n",
       "<polygon fill=\"#0000ff\" stroke=\"#0000ff\" points=\"546.5,-135.59 543,-125.59 539.5,-135.59 546.5,-135.59\"/>\n",
       "<text text-anchor=\"middle\" x=\"574.87\" y=\"-144.2\" font-family=\"Times New Roman,serif\" font-size=\"14.00\">no, missing</text>\n",
       "</g>\n",
       "<!-- 19 -->\n",
       "<g id=\"node16\" class=\"node\">\n",
       "<title>19</title>\n",
       "<ellipse fill=\"none\" stroke=\"black\" cx=\"969\" cy=\"-105.75\" rx=\"81\" ry=\"18\"/>\n",
       "<text text-anchor=\"middle\" x=\"969\" y=\"-100.33\" font-family=\"Times New Roman,serif\" font-size=\"14.00\">market_segment&lt;5</text>\n",
       "</g>\n",
       "<!-- 10&#45;&gt;19 -->\n",
       "<g id=\"edge15\" class=\"edge\">\n",
       "<title>10&#45;&gt;19</title>\n",
       "<path fill=\"none\" stroke=\"#ff0000\" d=\"M1033.99,-175.56C1022.23,-163.11 1006.06,-145.99 992.79,-131.94\"/>\n",
       "<polygon fill=\"#ff0000\" stroke=\"#ff0000\" points=\"995.42,-129.62 986.01,-124.76 990.33,-134.43 995.42,-129.62\"/>\n",
       "<text text-anchor=\"middle\" x=\"1026.37\" y=\"-144.2\" font-family=\"Times New Roman,serif\" font-size=\"14.00\">yes</text>\n",
       "</g>\n",
       "<!-- 20 -->\n",
       "<g id=\"node17\" class=\"node\">\n",
       "<title>20</title>\n",
       "<ellipse fill=\"none\" stroke=\"black\" cx=\"1143\" cy=\"-105.75\" rx=\"53.56\" ry=\"18\"/>\n",
       "<text text-anchor=\"middle\" x=\"1143\" y=\"-100.33\" font-family=\"Times New Roman,serif\" font-size=\"14.00\">country&lt;82</text>\n",
       "</g>\n",
       "<!-- 10&#45;&gt;20 -->\n",
       "<g id=\"edge16\" class=\"edge\">\n",
       "<title>10&#45;&gt;20</title>\n",
       "<path fill=\"none\" stroke=\"#0000ff\" d=\"M1068.37,-175.56C1082.31,-162.71 1101.64,-144.88 1117.14,-130.59\"/>\n",
       "<polygon fill=\"#0000ff\" stroke=\"#0000ff\" points=\"1119.2,-133.45 1124.18,-124.1 1114.46,-128.31 1119.2,-133.45\"/>\n",
       "<text text-anchor=\"middle\" x=\"1136.87\" y=\"-144.2\" font-family=\"Times New Roman,serif\" font-size=\"14.00\">no, missing</text>\n",
       "</g>\n",
       "<!-- 33 -->\n",
       "<g id=\"node12\" class=\"node\">\n",
       "<title>33</title>\n",
       "<ellipse fill=\"none\" stroke=\"black\" cx=\"84\" cy=\"-18\" rx=\"84\" ry=\"18\"/>\n",
       "<text text-anchor=\"middle\" x=\"84\" y=\"-12.57\" font-family=\"Times New Roman,serif\" font-size=\"14.00\">leaf=&#45;0.0203594919</text>\n",
       "</g>\n",
       "<!-- 17&#45;&gt;33 -->\n",
       "<g id=\"edge11\" class=\"edge\">\n",
       "<title>17&#45;&gt;33</title>\n",
       "<path fill=\"none\" stroke=\"#ff0000\" d=\"M234.3,-89.81C204.89,-75.96 160.85,-55.21 128.03,-39.75\"/>\n",
       "<polygon fill=\"#ff0000\" stroke=\"#ff0000\" points=\"129.71,-36.67 119.17,-35.57 126.73,-43 129.71,-36.67\"/>\n",
       "<text text-anchor=\"middle\" x=\"201.37\" y=\"-56.45\" font-family=\"Times New Roman,serif\" font-size=\"14.00\">yes</text>\n",
       "</g>\n",
       "<!-- 34 -->\n",
       "<g id=\"node13\" class=\"node\">\n",
       "<title>34</title>\n",
       "<ellipse fill=\"none\" stroke=\"black\" cx=\"266\" cy=\"-18\" rx=\"79.51\" ry=\"18\"/>\n",
       "<text text-anchor=\"middle\" x=\"266\" y=\"-12.57\" font-family=\"Times New Roman,serif\" font-size=\"14.00\">leaf=&#45;0.345871836</text>\n",
       "</g>\n",
       "<!-- 17&#45;&gt;34 -->\n",
       "<g id=\"edge12\" class=\"edge\">\n",
       "<title>17&#45;&gt;34</title>\n",
       "<path fill=\"none\" stroke=\"#0000ff\" d=\"M266,-87.4C266,-76.01 266,-60.84 266,-47.68\"/>\n",
       "<polygon fill=\"#0000ff\" stroke=\"#0000ff\" points=\"269.5,-47.84 266,-37.84 262.5,-47.84 269.5,-47.84\"/>\n",
       "<text text-anchor=\"middle\" x=\"297.87\" y=\"-56.45\" font-family=\"Times New Roman,serif\" font-size=\"14.00\">no, missing</text>\n",
       "</g>\n",
       "<!-- 35 -->\n",
       "<g id=\"node14\" class=\"node\">\n",
       "<title>35</title>\n",
       "<ellipse fill=\"none\" stroke=\"black\" cx=\"445\" cy=\"-18\" rx=\"81\" ry=\"18\"/>\n",
       "<text text-anchor=\"middle\" x=\"445\" y=\"-12.57\" font-family=\"Times New Roman,serif\" font-size=\"14.00\">leaf=0.0627225414</text>\n",
       "</g>\n",
       "<!-- 18&#45;&gt;35 -->\n",
       "<g id=\"edge13\" class=\"edge\">\n",
       "<title>18&#45;&gt;35</title>\n",
       "<path fill=\"none\" stroke=\"#ff0000\" d=\"M524.56,-88.62C509.93,-75.81 489.23,-57.71 472.62,-43.17\"/>\n",
       "<polygon fill=\"#ff0000\" stroke=\"#ff0000\" points=\"475.32,-40.88 465.49,-36.93 470.71,-46.15 475.32,-40.88\"/>\n",
       "<text text-anchor=\"middle\" x=\"512.37\" y=\"-56.45\" font-family=\"Times New Roman,serif\" font-size=\"14.00\">yes</text>\n",
       "</g>\n",
       "<!-- 36 -->\n",
       "<g id=\"node15\" class=\"node\">\n",
       "<title>36</title>\n",
       "<ellipse fill=\"none\" stroke=\"black\" cx=\"621\" cy=\"-18\" rx=\"76.51\" ry=\"18\"/>\n",
       "<text text-anchor=\"middle\" x=\"621\" y=\"-12.57\" font-family=\"Times New Roman,serif\" font-size=\"14.00\">leaf=0.296752214</text>\n",
       "</g>\n",
       "<!-- 18&#45;&gt;36 -->\n",
       "<g id=\"edge14\" class=\"edge\">\n",
       "<title>18&#45;&gt;36</title>\n",
       "<path fill=\"none\" stroke=\"#0000ff\" d=\"M558.04,-88.22C569.33,-75.8 584.99,-58.58 597.87,-44.42\"/>\n",
       "<polygon fill=\"#0000ff\" stroke=\"#0000ff\" points=\"600.31,-46.94 604.45,-37.19 595.13,-42.23 600.31,-46.94\"/>\n",
       "<text text-anchor=\"middle\" x=\"620.87\" y=\"-56.45\" font-family=\"Times New Roman,serif\" font-size=\"14.00\">no, missing</text>\n",
       "</g>\n",
       "<!-- 37 -->\n",
       "<g id=\"node18\" class=\"node\">\n",
       "<title>37</title>\n",
       "<ellipse fill=\"none\" stroke=\"black\" cx=\"795\" cy=\"-18\" rx=\"79.51\" ry=\"18\"/>\n",
       "<text text-anchor=\"middle\" x=\"795\" y=\"-12.57\" font-family=\"Times New Roman,serif\" font-size=\"14.00\">leaf=&#45;0.297742844</text>\n",
       "</g>\n",
       "<!-- 19&#45;&gt;37 -->\n",
       "<g id=\"edge17\" class=\"edge\">\n",
       "<title>19&#45;&gt;37</title>\n",
       "<path fill=\"none\" stroke=\"#ff0000\" d=\"M936.68,-88.82C908.6,-74.98 867.74,-54.85 837.11,-39.75\"/>\n",
       "<polygon fill=\"#ff0000\" stroke=\"#ff0000\" points=\"839.02,-36.79 828.5,-35.51 835.93,-43.07 839.02,-36.79\"/>\n",
       "<text text-anchor=\"middle\" x=\"907.37\" y=\"-56.45\" font-family=\"Times New Roman,serif\" font-size=\"14.00\">yes</text>\n",
       "</g>\n",
       "<!-- 38 -->\n",
       "<g id=\"node19\" class=\"node\">\n",
       "<title>38</title>\n",
       "<ellipse fill=\"none\" stroke=\"black\" cx=\"969\" cy=\"-18\" rx=\"76.51\" ry=\"18\"/>\n",
       "<text text-anchor=\"middle\" x=\"969\" y=\"-12.57\" font-family=\"Times New Roman,serif\" font-size=\"14.00\">leaf=0.149561256</text>\n",
       "</g>\n",
       "<!-- 19&#45;&gt;38 -->\n",
       "<g id=\"edge18\" class=\"edge\">\n",
       "<title>19&#45;&gt;38</title>\n",
       "<path fill=\"none\" stroke=\"#0000ff\" d=\"M969,-87.4C969,-76.01 969,-60.84 969,-47.68\"/>\n",
       "<polygon fill=\"#0000ff\" stroke=\"#0000ff\" points=\"972.5,-47.84 969,-37.84 965.5,-47.84 972.5,-47.84\"/>\n",
       "<text text-anchor=\"middle\" x=\"1000.87\" y=\"-56.45\" font-family=\"Times New Roman,serif\" font-size=\"14.00\">no, missing</text>\n",
       "</g>\n",
       "<!-- 39 -->\n",
       "<g id=\"node20\" class=\"node\">\n",
       "<title>39</title>\n",
       "<ellipse fill=\"none\" stroke=\"black\" cx=\"1143\" cy=\"-18\" rx=\"79.51\" ry=\"18\"/>\n",
       "<text text-anchor=\"middle\" x=\"1143\" y=\"-12.57\" font-family=\"Times New Roman,serif\" font-size=\"14.00\">leaf=&#45;0.122006997</text>\n",
       "</g>\n",
       "<!-- 20&#45;&gt;39 -->\n",
       "<g id=\"edge19\" class=\"edge\">\n",
       "<title>20&#45;&gt;39</title>\n",
       "<path fill=\"none\" stroke=\"#ff0000\" d=\"M1143,-87.4C1143,-76.01 1143,-60.84 1143,-47.68\"/>\n",
       "<polygon fill=\"#ff0000\" stroke=\"#ff0000\" points=\"1146.5,-47.84 1143,-37.84 1139.5,-47.84 1146.5,-47.84\"/>\n",
       "<text text-anchor=\"middle\" x=\"1152.37\" y=\"-56.45\" font-family=\"Times New Roman,serif\" font-size=\"14.00\">yes</text>\n",
       "</g>\n",
       "<!-- 40 -->\n",
       "<g id=\"node21\" class=\"node\">\n",
       "<title>40</title>\n",
       "<ellipse fill=\"none\" stroke=\"black\" cx=\"1320\" cy=\"-18\" rx=\"79.51\" ry=\"18\"/>\n",
       "<text text-anchor=\"middle\" x=\"1320\" y=\"-12.57\" font-family=\"Times New Roman,serif\" font-size=\"14.00\">leaf=&#45;0.455823421</text>\n",
       "</g>\n",
       "<!-- 20&#45;&gt;40 -->\n",
       "<g id=\"edge20\" class=\"edge\">\n",
       "<title>20&#45;&gt;40</title>\n",
       "<path fill=\"none\" stroke=\"#0000ff\" d=\"M1172.62,-90.4C1201.22,-76.54 1244.82,-55.42 1277.19,-39.74\"/>\n",
       "<polygon fill=\"#0000ff\" stroke=\"#0000ff\" points=\"1278.43,-43.03 1285.9,-35.52 1275.38,-36.73 1278.43,-43.03\"/>\n",
       "<text text-anchor=\"middle\" x=\"1279.87\" y=\"-56.45\" font-family=\"Times New Roman,serif\" font-size=\"14.00\">no, missing</text>\n",
       "</g>\n",
       "<!-- 21 -->\n",
       "<g id=\"node24\" class=\"node\">\n",
       "<title>21</title>\n",
       "<ellipse fill=\"none\" stroke=\"black\" cx=\"1664\" cy=\"-105.75\" rx=\"87.49\" ry=\"18\"/>\n",
       "<text text-anchor=\"middle\" x=\"1664\" y=\"-100.33\" font-family=\"Times New Roman,serif\" font-size=\"14.00\">is_repeated_guest&lt;1</text>\n",
       "</g>\n",
       "<!-- 11&#45;&gt;21 -->\n",
       "<g id=\"edge23\" class=\"edge\">\n",
       "<title>11&#45;&gt;21</title>\n",
       "<path fill=\"none\" stroke=\"#ff0000\" d=\"M1889.24,-178.82C1843.53,-164.19 1770.84,-140.94 1720.46,-124.82\"/>\n",
       "<polygon fill=\"#ff0000\" stroke=\"#ff0000\" points=\"1721.78,-121.56 1711.19,-121.85 1719.65,-128.23 1721.78,-121.56\"/>\n",
       "<text text-anchor=\"middle\" x=\"1832.37\" y=\"-144.2\" font-family=\"Times New Roman,serif\" font-size=\"14.00\">yes</text>\n",
       "</g>\n",
       "<!-- 22 -->\n",
       "<g id=\"node25\" class=\"node\">\n",
       "<title>22</title>\n",
       "<ellipse fill=\"none\" stroke=\"black\" cx=\"1932\" cy=\"-105.75\" rx=\"124.92\" ry=\"18\"/>\n",
       "<text text-anchor=\"middle\" x=\"1932\" y=\"-100.33\" font-family=\"Times New Roman,serif\" font-size=\"14.00\">arrival_date_week_number&lt;32</text>\n",
       "</g>\n",
       "<!-- 11&#45;&gt;22 -->\n",
       "<g id=\"edge24\" class=\"edge\">\n",
       "<title>11&#45;&gt;22</title>\n",
       "<path fill=\"none\" stroke=\"#0000ff\" d=\"M1932,-175.15C1932,-163.76 1932,-148.59 1932,-135.43\"/>\n",
       "<polygon fill=\"#0000ff\" stroke=\"#0000ff\" points=\"1935.5,-135.59 1932,-125.59 1928.5,-135.59 1935.5,-135.59\"/>\n",
       "<text text-anchor=\"middle\" x=\"1963.87\" y=\"-144.2\" font-family=\"Times New Roman,serif\" font-size=\"14.00\">no, missing</text>\n",
       "</g>\n",
       "<!-- 23 -->\n",
       "<g id=\"node30\" class=\"node\">\n",
       "<title>23</title>\n",
       "<ellipse fill=\"none\" stroke=\"black\" cx=\"2296\" cy=\"-105.75\" rx=\"88.49\" ry=\"18\"/>\n",
       "<text text-anchor=\"middle\" x=\"2296\" y=\"-100.33\" font-family=\"Times New Roman,serif\" font-size=\"14.00\">arrival_date_year&lt;24</text>\n",
       "</g>\n",
       "<!-- 12&#45;&gt;23 -->\n",
       "<g id=\"edge29\" class=\"edge\">\n",
       "<title>12&#45;&gt;23</title>\n",
       "<path fill=\"none\" stroke=\"#ff0000\" d=\"M2296,-175.15C2296,-163.76 2296,-148.59 2296,-135.43\"/>\n",
       "<polygon fill=\"#ff0000\" stroke=\"#ff0000\" points=\"2299.5,-135.59 2296,-125.59 2292.5,-135.59 2299.5,-135.59\"/>\n",
       "<text text-anchor=\"middle\" x=\"2305.37\" y=\"-144.2\" font-family=\"Times New Roman,serif\" font-size=\"14.00\">yes</text>\n",
       "</g>\n",
       "<!-- 24 -->\n",
       "<g id=\"node31\" class=\"node\">\n",
       "<title>24</title>\n",
       "<ellipse fill=\"none\" stroke=\"black\" cx=\"2569\" cy=\"-105.75\" rx=\"44.58\" ry=\"18\"/>\n",
       "<text text-anchor=\"middle\" x=\"2569\" y=\"-100.33\" font-family=\"Times New Roman,serif\" font-size=\"14.00\">agent&lt;12</text>\n",
       "</g>\n",
       "<!-- 12&#45;&gt;24 -->\n",
       "<g id=\"edge30\" class=\"edge\">\n",
       "<title>12&#45;&gt;24</title>\n",
       "<path fill=\"none\" stroke=\"#0000ff\" d=\"M2330.57,-181.64C2379.7,-166.21 2469.75,-137.92 2524.02,-120.88\"/>\n",
       "<polygon fill=\"#0000ff\" stroke=\"#0000ff\" points=\"2524.77,-124.31 2533.26,-117.98 2522.67,-117.63 2524.77,-124.31\"/>\n",
       "<text text-anchor=\"middle\" x=\"2488.87\" y=\"-144.2\" font-family=\"Times New Roman,serif\" font-size=\"14.00\">no, missing</text>\n",
       "</g>\n",
       "<!-- 41 -->\n",
       "<g id=\"node26\" class=\"node\">\n",
       "<title>41</title>\n",
       "<ellipse fill=\"none\" stroke=\"black\" cx=\"1494\" cy=\"-18\" rx=\"76.51\" ry=\"18\"/>\n",
       "<text text-anchor=\"middle\" x=\"1494\" y=\"-12.57\" font-family=\"Times New Roman,serif\" font-size=\"14.00\">leaf=0.754446685</text>\n",
       "</g>\n",
       "<!-- 21&#45;&gt;41 -->\n",
       "<g id=\"edge25\" class=\"edge\">\n",
       "<title>21&#45;&gt;41</title>\n",
       "<path fill=\"none\" stroke=\"#ff0000\" d=\"M1632.02,-88.62C1604.66,-74.82 1565.1,-54.86 1535.34,-39.85\"/>\n",
       "<polygon fill=\"#ff0000\" stroke=\"#ff0000\" points=\"1537.11,-36.83 1526.61,-35.45 1533.96,-43.08 1537.11,-36.83\"/>\n",
       "<text text-anchor=\"middle\" x=\"1604.37\" y=\"-56.45\" font-family=\"Times New Roman,serif\" font-size=\"14.00\">yes</text>\n",
       "</g>\n",
       "<!-- 42 -->\n",
       "<g id=\"node27\" class=\"node\">\n",
       "<title>42</title>\n",
       "<ellipse fill=\"none\" stroke=\"black\" cx=\"1664\" cy=\"-18\" rx=\"75.02\" ry=\"18\"/>\n",
       "<text text-anchor=\"middle\" x=\"1664\" y=\"-12.57\" font-family=\"Times New Roman,serif\" font-size=\"14.00\">leaf=&#45;0.32349208</text>\n",
       "</g>\n",
       "<!-- 21&#45;&gt;42 -->\n",
       "<g id=\"edge26\" class=\"edge\">\n",
       "<title>21&#45;&gt;42</title>\n",
       "<path fill=\"none\" stroke=\"#0000ff\" d=\"M1664,-87.4C1664,-76.01 1664,-60.84 1664,-47.68\"/>\n",
       "<polygon fill=\"#0000ff\" stroke=\"#0000ff\" points=\"1667.5,-47.84 1664,-37.84 1660.5,-47.84 1667.5,-47.84\"/>\n",
       "<text text-anchor=\"middle\" x=\"1695.87\" y=\"-56.45\" font-family=\"Times New Roman,serif\" font-size=\"14.00\">no, missing</text>\n",
       "</g>\n",
       "<!-- 43 -->\n",
       "<g id=\"node28\" class=\"node\">\n",
       "<title>43</title>\n",
       "<ellipse fill=\"none\" stroke=\"black\" cx=\"1837\" cy=\"-18\" rx=\"79.51\" ry=\"18\"/>\n",
       "<text text-anchor=\"middle\" x=\"1837\" y=\"-12.57\" font-family=\"Times New Roman,serif\" font-size=\"14.00\">leaf=&#45;0.169603541</text>\n",
       "</g>\n",
       "<!-- 22&#45;&gt;43 -->\n",
       "<g id=\"edge27\" class=\"edge\">\n",
       "<title>22&#45;&gt;43</title>\n",
       "<path fill=\"none\" stroke=\"#ff0000\" d=\"M1913.23,-87.81C1899.18,-75.12 1879.75,-57.59 1864.03,-43.4\"/>\n",
       "<polygon fill=\"#ff0000\" stroke=\"#ff0000\" points=\"1866.62,-41.02 1856.85,-36.92 1861.93,-46.22 1866.62,-41.02\"/>\n",
       "<text text-anchor=\"middle\" x=\"1903.37\" y=\"-56.45\" font-family=\"Times New Roman,serif\" font-size=\"14.00\">yes</text>\n",
       "</g>\n",
       "<!-- 44 -->\n",
       "<g id=\"node29\" class=\"node\">\n",
       "<title>44</title>\n",
       "<ellipse fill=\"none\" stroke=\"black\" cx=\"2023\" cy=\"-18\" rx=\"88.49\" ry=\"18\"/>\n",
       "<text text-anchor=\"middle\" x=\"2023\" y=\"-12.57\" font-family=\"Times New Roman,serif\" font-size=\"14.00\">leaf=&#45;0.00875191856</text>\n",
       "</g>\n",
       "<!-- 22&#45;&gt;44 -->\n",
       "<g id=\"edge28\" class=\"edge\">\n",
       "<title>22&#45;&gt;44</title>\n",
       "<path fill=\"none\" stroke=\"#0000ff\" d=\"M1949.98,-87.81C1963.31,-75.24 1981.7,-57.91 1996.69,-43.79\"/>\n",
       "<polygon fill=\"#0000ff\" stroke=\"#0000ff\" points=\"1999.08,-46.35 2003.95,-36.94 1994.28,-41.26 1999.08,-46.35\"/>\n",
       "<text text-anchor=\"middle\" x=\"2017.87\" y=\"-56.45\" font-family=\"Times New Roman,serif\" font-size=\"14.00\">no, missing</text>\n",
       "</g>\n",
       "<!-- 45 -->\n",
       "<g id=\"node32\" class=\"node\">\n",
       "<title>45</title>\n",
       "<ellipse fill=\"none\" stroke=\"black\" cx=\"2206\" cy=\"-18\" rx=\"76.51\" ry=\"18\"/>\n",
       "<text text-anchor=\"middle\" x=\"2206\" y=\"-12.57\" font-family=\"Times New Roman,serif\" font-size=\"14.00\">leaf=0.101119116</text>\n",
       "</g>\n",
       "<!-- 23&#45;&gt;45 -->\n",
       "<g id=\"edge31\" class=\"edge\">\n",
       "<title>23&#45;&gt;45</title>\n",
       "<path fill=\"none\" stroke=\"#ff0000\" d=\"M2278.22,-87.81C2265.03,-75.24 2246.84,-57.91 2232.02,-43.79\"/>\n",
       "<polygon fill=\"#ff0000\" stroke=\"#ff0000\" points=\"2234.49,-41.31 2224.84,-36.95 2229.66,-46.38 2234.49,-41.31\"/>\n",
       "<text text-anchor=\"middle\" x=\"2269.37\" y=\"-56.45\" font-family=\"Times New Roman,serif\" font-size=\"14.00\">yes</text>\n",
       "</g>\n",
       "<!-- 46 -->\n",
       "<g id=\"node33\" class=\"node\">\n",
       "<title>46</title>\n",
       "<ellipse fill=\"none\" stroke=\"black\" cx=\"2386\" cy=\"-18\" rx=\"85.49\" ry=\"18\"/>\n",
       "<text text-anchor=\"middle\" x=\"2386\" y=\"-12.57\" font-family=\"Times New Roman,serif\" font-size=\"14.00\">leaf=0.00340807089</text>\n",
       "</g>\n",
       "<!-- 23&#45;&gt;46 -->\n",
       "<g id=\"edge32\" class=\"edge\">\n",
       "<title>23&#45;&gt;46</title>\n",
       "<path fill=\"none\" stroke=\"#0000ff\" d=\"M2313.78,-87.81C2326.97,-75.24 2345.16,-57.91 2359.98,-43.79\"/>\n",
       "<polygon fill=\"#0000ff\" stroke=\"#0000ff\" points=\"2362.33,-46.38 2367.16,-36.95 2357.5,-41.31 2362.33,-46.38\"/>\n",
       "<text text-anchor=\"middle\" x=\"2381.87\" y=\"-56.45\" font-family=\"Times New Roman,serif\" font-size=\"14.00\">no, missing</text>\n",
       "</g>\n",
       "<!-- 47 -->\n",
       "<g id=\"node34\" class=\"node\">\n",
       "<title>47</title>\n",
       "<ellipse fill=\"none\" stroke=\"black\" cx=\"2569\" cy=\"-18\" rx=\"79.51\" ry=\"18\"/>\n",
       "<text text-anchor=\"middle\" x=\"2569\" y=\"-12.57\" font-family=\"Times New Roman,serif\" font-size=\"14.00\">leaf=&#45;0.403091967</text>\n",
       "</g>\n",
       "<!-- 24&#45;&gt;47 -->\n",
       "<g id=\"edge33\" class=\"edge\">\n",
       "<title>24&#45;&gt;47</title>\n",
       "<path fill=\"none\" stroke=\"#ff0000\" d=\"M2569,-87.4C2569,-76.01 2569,-60.84 2569,-47.68\"/>\n",
       "<polygon fill=\"#ff0000\" stroke=\"#ff0000\" points=\"2572.5,-47.84 2569,-37.84 2565.5,-47.84 2572.5,-47.84\"/>\n",
       "<text text-anchor=\"middle\" x=\"2578.37\" y=\"-56.45\" font-family=\"Times New Roman,serif\" font-size=\"14.00\">yes</text>\n",
       "</g>\n",
       "<!-- 48 -->\n",
       "<g id=\"node35\" class=\"node\">\n",
       "<title>48</title>\n",
       "<ellipse fill=\"none\" stroke=\"black\" cx=\"2748\" cy=\"-18\" rx=\"81\" ry=\"18\"/>\n",
       "<text text-anchor=\"middle\" x=\"2748\" y=\"-12.57\" font-family=\"Times New Roman,serif\" font-size=\"14.00\">leaf=0.0193036236</text>\n",
       "</g>\n",
       "<!-- 24&#45;&gt;48 -->\n",
       "<g id=\"edge34\" class=\"edge\">\n",
       "<title>24&#45;&gt;48</title>\n",
       "<path fill=\"none\" stroke=\"#0000ff\" d=\"M2596.97,-91.35C2625.93,-77.48 2671.55,-55.62 2705.08,-39.56\"/>\n",
       "<polygon fill=\"#0000ff\" stroke=\"#0000ff\" points=\"2706.19,-42.91 2713.7,-35.43 2703.17,-36.6 2706.19,-42.91\"/>\n",
       "<text text-anchor=\"middle\" x=\"2706.87\" y=\"-56.45\" font-family=\"Times New Roman,serif\" font-size=\"14.00\">no, missing</text>\n",
       "</g>\n",
       "<!-- 13 -->\n",
       "<g id=\"node38\" class=\"node\">\n",
       "<title>13</title>\n",
       "<ellipse fill=\"none\" stroke=\"black\" cx=\"3371\" cy=\"-193.5\" rx=\"58.05\" ry=\"18\"/>\n",
       "<text text-anchor=\"middle\" x=\"3371\" y=\"-188.07\" font-family=\"Times New Roman,serif\" font-size=\"14.00\">country&lt;134</text>\n",
       "</g>\n",
       "<!-- 7&#45;&gt;13 -->\n",
       "<g id=\"edge37\" class=\"edge\">\n",
       "<title>7&#45;&gt;13</title>\n",
       "<path fill=\"none\" stroke=\"#ff0000\" d=\"M3565.57,-264.02C3523.57,-249.01 3461.37,-226.79 3418.66,-211.53\"/>\n",
       "<polygon fill=\"#ff0000\" stroke=\"#ff0000\" points=\"3420,-208.29 3409.41,-208.22 3417.64,-214.88 3420,-208.29\"/>\n",
       "<text text-anchor=\"middle\" x=\"3521.37\" y=\"-231.95\" font-family=\"Times New Roman,serif\" font-size=\"14.00\">yes</text>\n",
       "</g>\n",
       "<!-- 14 -->\n",
       "<g id=\"node39\" class=\"node\">\n",
       "<title>14</title>\n",
       "<ellipse fill=\"none\" stroke=\"black\" cx=\"3809\" cy=\"-193.5\" rx=\"58.05\" ry=\"18\"/>\n",
       "<text text-anchor=\"middle\" x=\"3809\" y=\"-188.07\" font-family=\"Times New Roman,serif\" font-size=\"14.00\">country&lt;136</text>\n",
       "</g>\n",
       "<!-- 7&#45;&gt;14 -->\n",
       "<g id=\"edge38\" class=\"edge\">\n",
       "<title>7&#45;&gt;14</title>\n",
       "<path fill=\"none\" stroke=\"#0000ff\" d=\"M3649.17,-263.72C3682.58,-249.25 3731.07,-228.25 3765.86,-213.18\"/>\n",
       "<polygon fill=\"#0000ff\" stroke=\"#0000ff\" points=\"3767.02,-216.5 3774.8,-209.31 3764.23,-210.07 3767.02,-216.5\"/>\n",
       "<text text-anchor=\"middle\" x=\"3758.87\" y=\"-231.95\" font-family=\"Times New Roman,serif\" font-size=\"14.00\">no, missing</text>\n",
       "</g>\n",
       "<!-- 15 -->\n",
       "<g id=\"node52\" class=\"node\">\n",
       "<title>15</title>\n",
       "<ellipse fill=\"none\" stroke=\"black\" cx=\"4586\" cy=\"-193.5\" rx=\"76.01\" ry=\"18\"/>\n",
       "<text text-anchor=\"middle\" x=\"4586\" y=\"-188.07\" font-family=\"Times New Roman,serif\" font-size=\"14.00\">customer_type&lt;3</text>\n",
       "</g>\n",
       "<!-- 8&#45;&gt;15 -->\n",
       "<g id=\"edge51\" class=\"edge\">\n",
       "<title>8&#45;&gt;15</title>\n",
       "<path fill=\"none\" stroke=\"#ff0000\" d=\"M4586,-262.9C4586,-251.51 4586,-236.34 4586,-223.18\"/>\n",
       "<polygon fill=\"#ff0000\" stroke=\"#ff0000\" points=\"4589.5,-223.34 4586,-213.34 4582.5,-223.34 4589.5,-223.34\"/>\n",
       "<text text-anchor=\"middle\" x=\"4595.37\" y=\"-231.95\" font-family=\"Times New Roman,serif\" font-size=\"14.00\">yes</text>\n",
       "</g>\n",
       "<!-- 16 -->\n",
       "<g id=\"node53\" class=\"node\">\n",
       "<title>16</title>\n",
       "<ellipse fill=\"none\" stroke=\"black\" cx=\"5133\" cy=\"-193.5\" rx=\"53.56\" ry=\"18\"/>\n",
       "<text text-anchor=\"middle\" x=\"5133\" y=\"-188.07\" font-family=\"Times New Roman,serif\" font-size=\"14.00\">country&lt;43</text>\n",
       "</g>\n",
       "<!-- 8&#45;&gt;16 -->\n",
       "<g id=\"edge52\" class=\"edge\">\n",
       "<title>8&#45;&gt;16</title>\n",
       "<path fill=\"none\" stroke=\"#0000ff\" d=\"M4665.54,-267.78C4776.55,-250.38 4975.41,-219.2 5074.1,-203.73\"/>\n",
       "<polygon fill=\"#0000ff\" stroke=\"#0000ff\" points=\"5074.51,-207.21 5083.85,-202.2 5073.43,-200.3 5074.51,-207.21\"/>\n",
       "<text text-anchor=\"middle\" x=\"4939.87\" y=\"-231.95\" font-family=\"Times New Roman,serif\" font-size=\"14.00\">no, missing</text>\n",
       "</g>\n",
       "<!-- 25 -->\n",
       "<g id=\"node40\" class=\"node\">\n",
       "<title>25</title>\n",
       "<ellipse fill=\"none\" stroke=\"black\" cx=\"3104\" cy=\"-105.75\" rx=\"44.58\" ry=\"18\"/>\n",
       "<text text-anchor=\"middle\" x=\"3104\" y=\"-100.33\" font-family=\"Times New Roman,serif\" font-size=\"14.00\">agent&lt;15</text>\n",
       "</g>\n",
       "<!-- 13&#45;&gt;25 -->\n",
       "<g id=\"edge39\" class=\"edge\">\n",
       "<title>13&#45;&gt;25</title>\n",
       "<path fill=\"none\" stroke=\"#ff0000\" d=\"M3331.6,-179.85C3282.81,-164.18 3199.91,-137.55 3148.77,-121.13\"/>\n",
       "<polygon fill=\"#ff0000\" stroke=\"#ff0000\" points=\"3150.08,-117.87 3139.49,-118.15 3147.94,-124.54 3150.08,-117.87\"/>\n",
       "<text text-anchor=\"middle\" x=\"3271.37\" y=\"-144.2\" font-family=\"Times New Roman,serif\" font-size=\"14.00\">yes</text>\n",
       "</g>\n",
       "<!-- 26 -->\n",
       "<g id=\"node41\" class=\"node\">\n",
       "<title>26</title>\n",
       "<ellipse fill=\"none\" stroke=\"black\" cx=\"3371\" cy=\"-105.75\" rx=\"44.58\" ry=\"18\"/>\n",
       "<text text-anchor=\"middle\" x=\"3371\" y=\"-100.33\" font-family=\"Times New Roman,serif\" font-size=\"14.00\">agent&lt;28</text>\n",
       "</g>\n",
       "<!-- 13&#45;&gt;26 -->\n",
       "<g id=\"edge40\" class=\"edge\">\n",
       "<title>13&#45;&gt;26</title>\n",
       "<path fill=\"none\" stroke=\"#0000ff\" d=\"M3371,-175.15C3371,-163.76 3371,-148.59 3371,-135.43\"/>\n",
       "<polygon fill=\"#0000ff\" stroke=\"#0000ff\" points=\"3374.5,-135.59 3371,-125.59 3367.5,-135.59 3374.5,-135.59\"/>\n",
       "<text text-anchor=\"middle\" x=\"3402.87\" y=\"-144.2\" font-family=\"Times New Roman,serif\" font-size=\"14.00\">no, missing</text>\n",
       "</g>\n",
       "<!-- 27 -->\n",
       "<g id=\"node46\" class=\"node\">\n",
       "<title>27</title>\n",
       "<ellipse fill=\"none\" stroke=\"black\" cx=\"3809\" cy=\"-105.75\" rx=\"56.05\" ry=\"18\"/>\n",
       "<text text-anchor=\"middle\" x=\"3809\" y=\"-100.33\" font-family=\"Times New Roman,serif\" font-size=\"14.00\">lead_time&lt;4</text>\n",
       "</g>\n",
       "<!-- 14&#45;&gt;27 -->\n",
       "<g id=\"edge45\" class=\"edge\">\n",
       "<title>14&#45;&gt;27</title>\n",
       "<path fill=\"none\" stroke=\"#ff0000\" d=\"M3809,-175.15C3809,-163.76 3809,-148.59 3809,-135.43\"/>\n",
       "<polygon fill=\"#ff0000\" stroke=\"#ff0000\" points=\"3812.5,-135.59 3809,-125.59 3805.5,-135.59 3812.5,-135.59\"/>\n",
       "<text text-anchor=\"middle\" x=\"3818.37\" y=\"-144.2\" font-family=\"Times New Roman,serif\" font-size=\"14.00\">yes</text>\n",
       "</g>\n",
       "<!-- 28 -->\n",
       "<g id=\"node47\" class=\"node\">\n",
       "<title>28</title>\n",
       "<ellipse fill=\"none\" stroke=\"black\" cx=\"3997\" cy=\"-105.75\" rx=\"88.49\" ry=\"18\"/>\n",
       "<text text-anchor=\"middle\" x=\"3997\" y=\"-100.33\" font-family=\"Times New Roman,serif\" font-size=\"14.00\">arrival_date_year&lt;12</text>\n",
       "</g>\n",
       "<!-- 14&#45;&gt;28 -->\n",
       "<g id=\"edge46\" class=\"edge\">\n",
       "<title>14&#45;&gt;28</title>\n",
       "<path fill=\"none\" stroke=\"#0000ff\" d=\"M3840.46,-178.15C3870.97,-164.23 3917.55,-142.99 3951.97,-127.29\"/>\n",
       "<polygon fill=\"#0000ff\" stroke=\"#0000ff\" points=\"3953.21,-130.57 3960.86,-123.23 3950.31,-124.2 3953.21,-130.57\"/>\n",
       "<text text-anchor=\"middle\" x=\"3950.87\" y=\"-144.2\" font-family=\"Times New Roman,serif\" font-size=\"14.00\">no, missing</text>\n",
       "</g>\n",
       "<!-- 49 -->\n",
       "<g id=\"node42\" class=\"node\">\n",
       "<title>49</title>\n",
       "<ellipse fill=\"none\" stroke=\"black\" cx=\"2927\" cy=\"-18\" rx=\"79.51\" ry=\"18\"/>\n",
       "<text text-anchor=\"middle\" x=\"2927\" y=\"-12.57\" font-family=\"Times New Roman,serif\" font-size=\"14.00\">leaf=&#45;0.122763284</text>\n",
       "</g>\n",
       "<!-- 25&#45;&gt;49 -->\n",
       "<g id=\"edge41\" class=\"edge\">\n",
       "<title>25&#45;&gt;49</title>\n",
       "<path fill=\"none\" stroke=\"#ff0000\" d=\"M3076.34,-91.35C3047.83,-77.54 3002.98,-55.81 2969.87,-39.77\"/>\n",
       "<polygon fill=\"#ff0000\" stroke=\"#ff0000\" points=\"2971.45,-36.65 2960.93,-35.44 2968.4,-42.95 2971.45,-36.65\"/>\n",
       "<text text-anchor=\"middle\" x=\"3041.37\" y=\"-56.45\" font-family=\"Times New Roman,serif\" font-size=\"14.00\">yes</text>\n",
       "</g>\n",
       "<!-- 50 -->\n",
       "<g id=\"node43\" class=\"node\">\n",
       "<title>50</title>\n",
       "<ellipse fill=\"none\" stroke=\"black\" cx=\"3104\" cy=\"-18\" rx=\"79.51\" ry=\"18\"/>\n",
       "<text text-anchor=\"middle\" x=\"3104\" y=\"-12.57\" font-family=\"Times New Roman,serif\" font-size=\"14.00\">leaf=&#45;0.311952978</text>\n",
       "</g>\n",
       "<!-- 25&#45;&gt;50 -->\n",
       "<g id=\"edge42\" class=\"edge\">\n",
       "<title>25&#45;&gt;50</title>\n",
       "<path fill=\"none\" stroke=\"#0000ff\" d=\"M3104,-87.4C3104,-76.01 3104,-60.84 3104,-47.68\"/>\n",
       "<polygon fill=\"#0000ff\" stroke=\"#0000ff\" points=\"3107.5,-47.84 3104,-37.84 3100.5,-47.84 3107.5,-47.84\"/>\n",
       "<text text-anchor=\"middle\" x=\"3135.87\" y=\"-56.45\" font-family=\"Times New Roman,serif\" font-size=\"14.00\">no, missing</text>\n",
       "</g>\n",
       "<!-- 51 -->\n",
       "<g id=\"node44\" class=\"node\">\n",
       "<title>51</title>\n",
       "<ellipse fill=\"none\" stroke=\"black\" cx=\"3281\" cy=\"-18\" rx=\"79.51\" ry=\"18\"/>\n",
       "<text text-anchor=\"middle\" x=\"3281\" y=\"-12.57\" font-family=\"Times New Roman,serif\" font-size=\"14.00\">leaf=&#45;0.120431952</text>\n",
       "</g>\n",
       "<!-- 26&#45;&gt;51 -->\n",
       "<g id=\"edge43\" class=\"edge\">\n",
       "<title>26&#45;&gt;51</title>\n",
       "<path fill=\"none\" stroke=\"#ff0000\" d=\"M3354.07,-88.62C3340.75,-75.93 3321.97,-58.04 3306.78,-43.57\"/>\n",
       "<polygon fill=\"#ff0000\" stroke=\"#ff0000\" points=\"3309.52,-41.34 3299.87,-36.98 3304.7,-46.41 3309.52,-41.34\"/>\n",
       "<text text-anchor=\"middle\" x=\"3343.37\" y=\"-56.45\" font-family=\"Times New Roman,serif\" font-size=\"14.00\">yes</text>\n",
       "</g>\n",
       "<!-- 52 -->\n",
       "<g id=\"node45\" class=\"node\">\n",
       "<title>52</title>\n",
       "<ellipse fill=\"none\" stroke=\"black\" cx=\"3460\" cy=\"-18\" rx=\"81\" ry=\"18\"/>\n",
       "<text text-anchor=\"middle\" x=\"3460\" y=\"-12.57\" font-family=\"Times New Roman,serif\" font-size=\"14.00\">leaf=0.0648512989</text>\n",
       "</g>\n",
       "<!-- 26&#45;&gt;52 -->\n",
       "<g id=\"edge44\" class=\"edge\">\n",
       "<title>26&#45;&gt;52</title>\n",
       "<path fill=\"none\" stroke=\"#0000ff\" d=\"M3387.74,-88.62C3400.91,-75.93 3419.48,-58.04 3434.5,-43.57\"/>\n",
       "<polygon fill=\"#0000ff\" stroke=\"#0000ff\" points=\"3436.56,-46.45 3441.33,-36.99 3431.7,-41.4 3436.56,-46.45\"/>\n",
       "<text text-anchor=\"middle\" x=\"3454.87\" y=\"-56.45\" font-family=\"Times New Roman,serif\" font-size=\"14.00\">no, missing</text>\n",
       "</g>\n",
       "<!-- 53 -->\n",
       "<g id=\"node48\" class=\"node\">\n",
       "<title>53</title>\n",
       "<ellipse fill=\"none\" stroke=\"black\" cx=\"3639\" cy=\"-18\" rx=\"79.51\" ry=\"18\"/>\n",
       "<text text-anchor=\"middle\" x=\"3639\" y=\"-12.57\" font-family=\"Times New Roman,serif\" font-size=\"14.00\">leaf=&#45;0.138876811</text>\n",
       "</g>\n",
       "<!-- 27&#45;&gt;53 -->\n",
       "<g id=\"edge47\" class=\"edge\">\n",
       "<title>27&#45;&gt;53</title>\n",
       "<path fill=\"none\" stroke=\"#ff0000\" d=\"M3779.77,-90.01C3752.4,-76.2 3711.19,-55.42 3680.43,-39.9\"/>\n",
       "<polygon fill=\"#ff0000\" stroke=\"#ff0000\" points=\"3682.29,-36.92 3671.78,-35.54 3679.13,-43.17 3682.29,-36.92\"/>\n",
       "<text text-anchor=\"middle\" x=\"3748.37\" y=\"-56.45\" font-family=\"Times New Roman,serif\" font-size=\"14.00\">yes</text>\n",
       "</g>\n",
       "<!-- 54 -->\n",
       "<g id=\"node49\" class=\"node\">\n",
       "<title>54</title>\n",
       "<ellipse fill=\"none\" stroke=\"black\" cx=\"3818\" cy=\"-18\" rx=\"81\" ry=\"18\"/>\n",
       "<text text-anchor=\"middle\" x=\"3818\" y=\"-12.57\" font-family=\"Times New Roman,serif\" font-size=\"14.00\">leaf=0.0297374148</text>\n",
       "</g>\n",
       "<!-- 27&#45;&gt;54 -->\n",
       "<g id=\"edge48\" class=\"edge\">\n",
       "<title>27&#45;&gt;54</title>\n",
       "<path fill=\"none\" stroke=\"#0000ff\" d=\"M3810.82,-87.4C3812.01,-76.01 3813.61,-60.84 3814.99,-47.68\"/>\n",
       "<polygon fill=\"#0000ff\" stroke=\"#0000ff\" points=\"3818.46,-48.14 3816.02,-37.83 3811.5,-47.41 3818.46,-48.14\"/>\n",
       "<text text-anchor=\"middle\" x=\"3845.87\" y=\"-56.45\" font-family=\"Times New Roman,serif\" font-size=\"14.00\">no, missing</text>\n",
       "</g>\n",
       "<!-- 55 -->\n",
       "<g id=\"node50\" class=\"node\">\n",
       "<title>55</title>\n",
       "<ellipse fill=\"none\" stroke=\"black\" cx=\"3997\" cy=\"-18\" rx=\"79.51\" ry=\"18\"/>\n",
       "<text text-anchor=\"middle\" x=\"3997\" y=\"-12.57\" font-family=\"Times New Roman,serif\" font-size=\"14.00\">leaf=&#45;0.361858398</text>\n",
       "</g>\n",
       "<!-- 28&#45;&gt;55 -->\n",
       "<g id=\"edge49\" class=\"edge\">\n",
       "<title>28&#45;&gt;55</title>\n",
       "<path fill=\"none\" stroke=\"#ff0000\" d=\"M3997,-87.4C3997,-76.01 3997,-60.84 3997,-47.68\"/>\n",
       "<polygon fill=\"#ff0000\" stroke=\"#ff0000\" points=\"4000.5,-47.84 3997,-37.84 3993.5,-47.84 4000.5,-47.84\"/>\n",
       "<text text-anchor=\"middle\" x=\"4006.37\" y=\"-56.45\" font-family=\"Times New Roman,serif\" font-size=\"14.00\">yes</text>\n",
       "</g>\n",
       "<!-- 56 -->\n",
       "<g id=\"node51\" class=\"node\">\n",
       "<title>56</title>\n",
       "<ellipse fill=\"none\" stroke=\"black\" cx=\"4174\" cy=\"-18\" rx=\"79.51\" ry=\"18\"/>\n",
       "<text text-anchor=\"middle\" x=\"4174\" y=\"-12.57\" font-family=\"Times New Roman,serif\" font-size=\"14.00\">leaf=&#45;0.140933052</text>\n",
       "</g>\n",
       "<!-- 28&#45;&gt;56 -->\n",
       "<g id=\"edge50\" class=\"edge\">\n",
       "<title>28&#45;&gt;56</title>\n",
       "<path fill=\"none\" stroke=\"#0000ff\" d=\"M4030.29,-88.62C4058.9,-74.76 4100.33,-54.69 4131.36,-39.66\"/>\n",
       "<polygon fill=\"#0000ff\" stroke=\"#0000ff\" points=\"4132.62,-42.94 4140.09,-35.43 4129.56,-36.64 4132.62,-42.94\"/>\n",
       "<text text-anchor=\"middle\" x=\"4132.87\" y=\"-56.45\" font-family=\"Times New Roman,serif\" font-size=\"14.00\">no, missing</text>\n",
       "</g>\n",
       "<!-- 29 -->\n",
       "<g id=\"node54\" class=\"node\">\n",
       "<title>29</title>\n",
       "<ellipse fill=\"none\" stroke=\"black\" cx=\"4530\" cy=\"-105.75\" rx=\"56.05\" ry=\"18\"/>\n",
       "<text text-anchor=\"middle\" x=\"4530\" y=\"-100.33\" font-family=\"Times New Roman,serif\" font-size=\"14.00\">lead_time&lt;8</text>\n",
       "</g>\n",
       "<!-- 15&#45;&gt;29 -->\n",
       "<g id=\"edge53\" class=\"edge\">\n",
       "<title>15&#45;&gt;29</title>\n",
       "<path fill=\"none\" stroke=\"#ff0000\" d=\"M4574.93,-175.56C4567.03,-163.46 4556.25,-146.95 4547.23,-133.14\"/>\n",
       "<polygon fill=\"#ff0000\" stroke=\"#ff0000\" points=\"4550.26,-131.38 4541.87,-124.92 4544.4,-135.21 4550.26,-131.38\"/>\n",
       "<text text-anchor=\"middle\" x=\"4572.37\" y=\"-144.2\" font-family=\"Times New Roman,serif\" font-size=\"14.00\">yes</text>\n",
       "</g>\n",
       "<!-- 30 -->\n",
       "<g id=\"node55\" class=\"node\">\n",
       "<title>30</title>\n",
       "<ellipse fill=\"none\" stroke=\"black\" cx=\"4709\" cy=\"-105.75\" rx=\"97.97\" ry=\"18\"/>\n",
       "<text text-anchor=\"middle\" x=\"4709\" y=\"-100.33\" font-family=\"Times New Roman,serif\" font-size=\"14.00\">reserved_room_type&lt;6</text>\n",
       "</g>\n",
       "<!-- 15&#45;&gt;30 -->\n",
       "<g id=\"edge54\" class=\"edge\">\n",
       "<title>15&#45;&gt;30</title>\n",
       "<path fill=\"none\" stroke=\"#0000ff\" d=\"M4609.71,-175.97C4628.4,-162.94 4654.67,-144.62 4675.5,-130.1\"/>\n",
       "<polygon fill=\"#0000ff\" stroke=\"#0000ff\" points=\"4677.49,-132.98 4683.69,-124.39 4673.49,-127.24 4677.49,-132.98\"/>\n",
       "<text text-anchor=\"middle\" x=\"4689.87\" y=\"-144.2\" font-family=\"Times New Roman,serif\" font-size=\"14.00\">no, missing</text>\n",
       "</g>\n",
       "<!-- 31 -->\n",
       "<g id=\"node60\" class=\"node\">\n",
       "<title>31</title>\n",
       "<ellipse fill=\"none\" stroke=\"black\" cx=\"5133\" cy=\"-105.75\" rx=\"127.91\" ry=\"18\"/>\n",
       "<text text-anchor=\"middle\" x=\"5133\" y=\"-100.33\" font-family=\"Times New Roman,serif\" font-size=\"14.00\">arrival_date_day_of_month&lt;13</text>\n",
       "</g>\n",
       "<!-- 16&#45;&gt;31 -->\n",
       "<g id=\"edge59\" class=\"edge\">\n",
       "<title>16&#45;&gt;31</title>\n",
       "<path fill=\"none\" stroke=\"#ff0000\" d=\"M5133,-175.15C5133,-163.76 5133,-148.59 5133,-135.43\"/>\n",
       "<polygon fill=\"#ff0000\" stroke=\"#ff0000\" points=\"5136.5,-135.59 5133,-125.59 5129.5,-135.59 5136.5,-135.59\"/>\n",
       "<text text-anchor=\"middle\" x=\"5142.37\" y=\"-144.2\" font-family=\"Times New Roman,serif\" font-size=\"14.00\">yes</text>\n",
       "</g>\n",
       "<!-- 32 -->\n",
       "<g id=\"node61\" class=\"node\">\n",
       "<title>32</title>\n",
       "<ellipse fill=\"none\" stroke=\"black\" cx=\"5405\" cy=\"-105.75\" rx=\"41.58\" ry=\"18\"/>\n",
       "<text text-anchor=\"middle\" x=\"5405\" y=\"-100.33\" font-family=\"Times New Roman,serif\" font-size=\"14.00\">adr&lt;196</text>\n",
       "</g>\n",
       "<!-- 16&#45;&gt;32 -->\n",
       "<g id=\"edge60\" class=\"edge\">\n",
       "<title>16&#45;&gt;32</title>\n",
       "<path fill=\"none\" stroke=\"#0000ff\" d=\"M5171.1,-180.49C5221.2,-164.69 5308.99,-137.02 5361.59,-120.43\"/>\n",
       "<polygon fill=\"#0000ff\" stroke=\"#0000ff\" points=\"5362.33,-123.87 5370.81,-117.53 5360.22,-117.2 5362.33,-123.87\"/>\n",
       "<text text-anchor=\"middle\" x=\"5324.87\" y=\"-144.2\" font-family=\"Times New Roman,serif\" font-size=\"14.00\">no, missing</text>\n",
       "</g>\n",
       "<!-- 57 -->\n",
       "<g id=\"node56\" class=\"node\">\n",
       "<title>57</title>\n",
       "<ellipse fill=\"none\" stroke=\"black\" cx=\"4351\" cy=\"-18\" rx=\"79.51\" ry=\"18\"/>\n",
       "<text text-anchor=\"middle\" x=\"4351\" y=\"-12.57\" font-family=\"Times New Roman,serif\" font-size=\"14.00\">leaf=&#45;0.117261045</text>\n",
       "</g>\n",
       "<!-- 29&#45;&gt;57 -->\n",
       "<g id=\"edge55\" class=\"edge\">\n",
       "<title>29&#45;&gt;57</title>\n",
       "<path fill=\"none\" stroke=\"#ff0000\" d=\"M4499.63,-90.2C4470.65,-76.32 4426.7,-55.26 4394.1,-39.65\"/>\n",
       "<polygon fill=\"#ff0000\" stroke=\"#ff0000\" points=\"4395.84,-36.6 4385.31,-35.44 4392.81,-42.91 4395.84,-36.6\"/>\n",
       "<text text-anchor=\"middle\" x=\"4465.37\" y=\"-56.45\" font-family=\"Times New Roman,serif\" font-size=\"14.00\">yes</text>\n",
       "</g>\n",
       "<!-- 58 -->\n",
       "<g id=\"node57\" class=\"node\">\n",
       "<title>58</title>\n",
       "<ellipse fill=\"none\" stroke=\"black\" cx=\"4530\" cy=\"-18\" rx=\"81\" ry=\"18\"/>\n",
       "<text text-anchor=\"middle\" x=\"4530\" y=\"-12.57\" font-family=\"Times New Roman,serif\" font-size=\"14.00\">leaf=0.0465568006</text>\n",
       "</g>\n",
       "<!-- 29&#45;&gt;58 -->\n",
       "<g id=\"edge56\" class=\"edge\">\n",
       "<title>29&#45;&gt;58</title>\n",
       "<path fill=\"none\" stroke=\"#0000ff\" d=\"M4530,-87.4C4530,-76.01 4530,-60.84 4530,-47.68\"/>\n",
       "<polygon fill=\"#0000ff\" stroke=\"#0000ff\" points=\"4533.5,-47.84 4530,-37.84 4526.5,-47.84 4533.5,-47.84\"/>\n",
       "<text text-anchor=\"middle\" x=\"4561.87\" y=\"-56.45\" font-family=\"Times New Roman,serif\" font-size=\"14.00\">no, missing</text>\n",
       "</g>\n",
       "<!-- 59 -->\n",
       "<g id=\"node58\" class=\"node\">\n",
       "<title>59</title>\n",
       "<ellipse fill=\"none\" stroke=\"black\" cx=\"4709\" cy=\"-18\" rx=\"79.51\" ry=\"18\"/>\n",
       "<text text-anchor=\"middle\" x=\"4709\" y=\"-12.57\" font-family=\"Times New Roman,serif\" font-size=\"14.00\">leaf=&#45;0.208085656</text>\n",
       "</g>\n",
       "<!-- 30&#45;&gt;59 -->\n",
       "<g id=\"edge57\" class=\"edge\">\n",
       "<title>30&#45;&gt;59</title>\n",
       "<path fill=\"none\" stroke=\"#ff0000\" d=\"M4709,-87.4C4709,-76.01 4709,-60.84 4709,-47.68\"/>\n",
       "<polygon fill=\"#ff0000\" stroke=\"#ff0000\" points=\"4712.5,-47.84 4709,-37.84 4705.5,-47.84 4712.5,-47.84\"/>\n",
       "<text text-anchor=\"middle\" x=\"4718.37\" y=\"-56.45\" font-family=\"Times New Roman,serif\" font-size=\"14.00\">yes</text>\n",
       "</g>\n",
       "<!-- 60 -->\n",
       "<g id=\"node59\" class=\"node\">\n",
       "<title>60</title>\n",
       "<ellipse fill=\"none\" stroke=\"black\" cx=\"4883\" cy=\"-18\" rx=\"76.51\" ry=\"18\"/>\n",
       "<text text-anchor=\"middle\" x=\"4883\" y=\"-12.57\" font-family=\"Times New Roman,serif\" font-size=\"14.00\">leaf=0.420140177</text>\n",
       "</g>\n",
       "<!-- 30&#45;&gt;60 -->\n",
       "<g id=\"edge58\" class=\"edge\">\n",
       "<title>30&#45;&gt;60</title>\n",
       "<path fill=\"none\" stroke=\"#0000ff\" d=\"M4742.14,-88.42C4770.18,-74.6 4810.55,-54.71 4840.88,-39.76\"/>\n",
       "<polygon fill=\"#0000ff\" stroke=\"#0000ff\" points=\"4842.38,-42.92 4849.8,-35.36 4839.28,-36.64 4842.38,-42.92\"/>\n",
       "<text text-anchor=\"middle\" x=\"4842.87\" y=\"-56.45\" font-family=\"Times New Roman,serif\" font-size=\"14.00\">no, missing</text>\n",
       "</g>\n",
       "<!-- 61 -->\n",
       "<g id=\"node62\" class=\"node\">\n",
       "<title>61</title>\n",
       "<ellipse fill=\"none\" stroke=\"black\" cx=\"5057\" cy=\"-18\" rx=\"79.51\" ry=\"18\"/>\n",
       "<text text-anchor=\"middle\" x=\"5057\" y=\"-12.57\" font-family=\"Times New Roman,serif\" font-size=\"14.00\">leaf=&#45;0.224083111</text>\n",
       "</g>\n",
       "<!-- 31&#45;&gt;61 -->\n",
       "<g id=\"edge61\" class=\"edge\">\n",
       "<title>31&#45;&gt;61</title>\n",
       "<path fill=\"none\" stroke=\"#ff0000\" d=\"M5117.62,-87.4C5106.73,-75.11 5091.95,-58.43 5079.71,-44.62\"/>\n",
       "<polygon fill=\"#ff0000\" stroke=\"#ff0000\" points=\"5082.35,-42.33 5073.1,-37.17 5077.11,-46.97 5082.35,-42.33\"/>\n",
       "<text text-anchor=\"middle\" x=\"5110.37\" y=\"-56.45\" font-family=\"Times New Roman,serif\" font-size=\"14.00\">yes</text>\n",
       "</g>\n",
       "<!-- 62 -->\n",
       "<g id=\"node63\" class=\"node\">\n",
       "<title>62</title>\n",
       "<ellipse fill=\"none\" stroke=\"black\" cx=\"5231\" cy=\"-18\" rx=\"76.51\" ry=\"18\"/>\n",
       "<text text-anchor=\"middle\" x=\"5231\" y=\"-12.57\" font-family=\"Times New Roman,serif\" font-size=\"14.00\">leaf=0.123691119</text>\n",
       "</g>\n",
       "<!-- 31&#45;&gt;62 -->\n",
       "<g id=\"edge62\" class=\"edge\">\n",
       "<title>31&#45;&gt;62</title>\n",
       "<path fill=\"none\" stroke=\"#0000ff\" d=\"M5152.36,-87.81C5166.86,-75.12 5186.9,-57.59 5203.12,-43.4\"/>\n",
       "<polygon fill=\"#0000ff\" stroke=\"#0000ff\" points=\"5205.32,-46.12 5210.54,-36.9 5200.71,-40.85 5205.32,-46.12\"/>\n",
       "<text text-anchor=\"middle\" x=\"5221.87\" y=\"-56.45\" font-family=\"Times New Roman,serif\" font-size=\"14.00\">no, missing</text>\n",
       "</g>\n",
       "<!-- 63 -->\n",
       "<g id=\"node64\" class=\"node\">\n",
       "<title>63</title>\n",
       "<ellipse fill=\"none\" stroke=\"black\" cx=\"5405\" cy=\"-18\" rx=\"79.51\" ry=\"18\"/>\n",
       "<text text-anchor=\"middle\" x=\"5405\" y=\"-12.57\" font-family=\"Times New Roman,serif\" font-size=\"14.00\">leaf=&#45;0.136506513</text>\n",
       "</g>\n",
       "<!-- 32&#45;&gt;63 -->\n",
       "<g id=\"edge63\" class=\"edge\">\n",
       "<title>32&#45;&gt;63</title>\n",
       "<path fill=\"none\" stroke=\"#ff0000\" d=\"M5405,-87.4C5405,-76.01 5405,-60.84 5405,-47.68\"/>\n",
       "<polygon fill=\"#ff0000\" stroke=\"#ff0000\" points=\"5408.5,-47.84 5405,-37.84 5401.5,-47.84 5408.5,-47.84\"/>\n",
       "<text text-anchor=\"middle\" x=\"5414.37\" y=\"-56.45\" font-family=\"Times New Roman,serif\" font-size=\"14.00\">yes</text>\n",
       "</g>\n",
       "<!-- 64 -->\n",
       "<g id=\"node65\" class=\"node\">\n",
       "<title>64</title>\n",
       "<ellipse fill=\"none\" stroke=\"black\" cx=\"5582\" cy=\"-18\" rx=\"79.51\" ry=\"18\"/>\n",
       "<text text-anchor=\"middle\" x=\"5582\" y=\"-12.57\" font-family=\"Times New Roman,serif\" font-size=\"14.00\">leaf=&#45;0.321471035</text>\n",
       "</g>\n",
       "<!-- 32&#45;&gt;64 -->\n",
       "<g id=\"edge64\" class=\"edge\">\n",
       "<title>32&#45;&gt;64</title>\n",
       "<path fill=\"none\" stroke=\"#0000ff\" d=\"M5431.88,-91.73C5460.45,-77.88 5506.03,-55.8 5539.48,-39.6\"/>\n",
       "<polygon fill=\"#0000ff\" stroke=\"#0000ff\" points=\"5540.6,-42.94 5548.08,-35.43 5537.55,-36.64 5540.6,-42.94\"/>\n",
       "<text text-anchor=\"middle\" x=\"5540.87\" y=\"-56.45\" font-family=\"Times New Roman,serif\" font-size=\"14.00\">no, missing</text>\n",
       "</g>\n",
       "</g>\n",
       "</svg>\n"
      ],
      "text/plain": [
       "<graphviz.sources.Source at 0x1b94be92b90>"
      ]
     },
     "metadata": {},
     "output_type": "display_data"
    }
   ],
   "source": [
    "### Ex-4-Task-1\n",
    "from xgboost import plot_tree, to_graphviz\n",
    "\n",
    "\n",
    "# Plot the tree\n",
    "\n",
    "### BEGIN SOLUTION\n",
    "# your code here\n",
    "booster = xgb.get_booster()\n",
    "\n",
    "# Convert the 20th tree (index 19) to a graphviz object\n",
    "dot = to_graphviz(booster, num_trees=19, rankdir='UT')\n",
    "\n",
    "# Display the graphviz object using matplotlib\n",
    "from IPython.display import display\n",
    "display(dot)\n",
    "### END SOLUTION"
   ]
  },
  {
   "cell_type": "markdown",
   "metadata": {
    "id": "k8q56l8mwsJT"
   },
   "source": [
    "#### Q1: Based on the tree plotted above, which of the following feature is a root node in the 20th tree?\n",
    "<b><div style=\"text-align: right\">[UNGRADED]</div></b>\n",
    "\n",
    "---\n",
    "Select the best option.\n",
    "\n",
    "1. deposit_type\n",
    "\n",
    "2. adr\n",
    "\n",
    "3. net_booking_cancelled\n",
    "\n",
    "4. required_car_parking_spaces\n",
    "\n",
    "5. total_of_special_requests\n",
    "\n",
    "\n",
    "__Task:__\n",
    "You just need to put the correct option number on the variable `correct_option1`.\n",
    "If your answer is deposit_type, assign `correct_option1 = 1` and so on."
   ]
  },
  {
   "cell_type": "code",
   "execution_count": 133,
   "metadata": {
    "execution": {
     "iopub.execute_input": "2024-06-01T05:43:35.766956Z",
     "iopub.status.busy": "2024-06-01T05:43:35.766496Z",
     "iopub.status.idle": "2024-06-01T05:43:35.773937Z",
     "shell.execute_reply": "2024-06-01T05:43:35.772170Z",
     "shell.execute_reply.started": "2024-06-01T05:43:35.766917Z"
    },
    "executionInfo": {
     "elapsed": 4,
     "status": "ok",
     "timestamp": 1717219910031,
     "user": {
      "displayName": "Romik Gosai",
      "userId": "01690688372578414329"
     },
     "user_tz": -345
    },
    "id": "iRdTM9nUwsJV"
   },
   "outputs": [],
   "source": [
    "### Ex-4-Task-2\n",
    "correct_option1 = None\n",
    "### BEGIN SOLUTION\n",
    "# your code here\n",
    "correct_option1 = 4\n",
    "### END SOLUTION"
   ]
  },
  {
   "cell_type": "code",
   "execution_count": 134,
   "metadata": {
    "execution": {
     "iopub.execute_input": "2024-06-01T05:43:35.776871Z",
     "iopub.status.busy": "2024-06-01T05:43:35.776292Z",
     "iopub.status.idle": "2024-06-01T05:43:35.788078Z",
     "shell.execute_reply": "2024-06-01T05:43:35.787061Z",
     "shell.execute_reply.started": "2024-06-01T05:43:35.776825Z"
    },
    "executionInfo": {
     "elapsed": 3,
     "status": "ok",
     "timestamp": 1717219910031,
     "user": {
      "displayName": "Romik Gosai",
      "userId": "01690688372578414329"
     },
     "user_tz": -345
    },
    "id": "_e2b1h8JwsJb"
   },
   "outputs": [],
   "source": [
    "assert correct_option1 is not None"
   ]
  },
  {
   "cell_type": "markdown",
   "metadata": {
    "id": "C0bjxiIhwsJg"
   },
   "source": [
    "### Feature importance\n",
    "\n",
    "### Exercise 5: Plot the feature importance\n",
    "<b><div style=\"text-align: right\">[UNGRADED]</div></b>\n",
    "\n",
    "---\n",
    "XGBoost provides the `feature_importance()` method to plot the importance of each feature. Based on the feature_importance plot, you need to answer the quiz below.\n",
    "\n",
    "**Task:**\n",
    "-  Plot the feature importance of the model `xgb`.\n",
    "\n"
   ]
  },
  {
   "cell_type": "code",
   "execution_count": 135,
   "metadata": {
    "colab": {
     "base_uri": "https://localhost:8080/",
     "height": 1000
    },
    "execution": {
     "iopub.execute_input": "2024-06-01T05:43:35.790433Z",
     "iopub.status.busy": "2024-06-01T05:43:35.789327Z",
     "iopub.status.idle": "2024-06-01T05:43:36.842569Z",
     "shell.execute_reply": "2024-06-01T05:43:36.841491Z",
     "shell.execute_reply.started": "2024-06-01T05:43:35.790397Z"
    },
    "executionInfo": {
     "elapsed": 1692,
     "status": "ok",
     "timestamp": 1717219911720,
     "user": {
      "displayName": "Romik Gosai",
      "userId": "01690688372578414329"
     },
     "user_tz": -345
    },
    "id": "Ed50WkR6wsJi",
    "outputId": "1c0e2bd0-7c2a-4b8d-e2eb-54bb947f0c4a"
   },
   "outputs": [
    {
     "data": {
      "image/png": "[encoded data removed]",
      "text/plain": [
       "<Figure size 3000x1800 with 1 Axes>"
      ]
     },
     "metadata": {},
     "output_type": "display_data"
    },
    {
     "data": {
      "image/png": "[encoded data removed]",
      "text/plain": [
       "<Figure size 640x480 with 1 Axes>"
      ]
     },
     "metadata": {},
     "output_type": "display_data"
    }
   ],
   "source": [
    "### Ex-5-Task-1\n",
    "from xgboost import plot_importance\n",
    "fig, ax = plt.subplots(figsize=(10,6), dpi=300)\n",
    "None # plot_importance(.....)\n",
    "### BEGIN SOLUTION\n",
    "# your code here\n",
    "plot_importance(booster)\n",
    "### END SOLUTION\n",
    "plt.show()"
   ]
  },
  {
   "cell_type": "markdown",
   "metadata": {
    "id": "bf1yeatOwsJm"
   },
   "source": [
    "#### Q2: Based on the gain, which of the following is the most important feature?\n",
    "<b><div style=\"text-align: right\">[UNGRADED]</div></b>\n",
    "\n",
    "\n",
    "---\n",
    "Select the best option.\n",
    "\n",
    "1. lead_time\n",
    "\n",
    "2. country\n",
    "\n",
    "3. adr\n",
    "\n",
    "4. net_booking_cancelled\n",
    "\n",
    "5. required_car_parking_spaces\n",
    "\n",
    "6. deposit_type\n",
    "\n",
    "\n",
    "__Task:__\n",
    "You just need to put the correct option number on the variable `correct_option2`.\n",
    "If your answer is lead_time, assign `correct_option2 = 1` and so on."
   ]
  },
  {
   "cell_type": "code",
   "execution_count": 136,
   "metadata": {
    "execution": {
     "iopub.execute_input": "2024-06-01T05:43:36.844578Z",
     "iopub.status.busy": "2024-06-01T05:43:36.843968Z",
     "iopub.status.idle": "2024-06-01T05:43:36.848939Z",
     "shell.execute_reply": "2024-06-01T05:43:36.847815Z",
     "shell.execute_reply.started": "2024-06-01T05:43:36.844546Z"
    },
    "executionInfo": {
     "elapsed": 4,
     "status": "ok",
     "timestamp": 1717219911720,
     "user": {
      "displayName": "Romik Gosai",
      "userId": "01690688372578414329"
     },
     "user_tz": -345
    },
    "id": "9FsVeR4uwsJr"
   },
   "outputs": [],
   "source": [
    "### Ex-5-Task-2\n",
    "correct_option2 = None\n",
    "### BEGIN SOLUTION\n",
    "# your code here\n",
    "correct_option2 = 1\n",
    "### END SOLUTION"
   ]
  },
  {
   "cell_type": "code",
   "execution_count": 137,
   "metadata": {
    "execution": {
     "iopub.execute_input": "2024-06-01T05:43:36.851052Z",
     "iopub.status.busy": "2024-06-01T05:43:36.850411Z",
     "iopub.status.idle": "2024-06-01T05:43:36.862490Z",
     "shell.execute_reply": "2024-06-01T05:43:36.861231Z",
     "shell.execute_reply.started": "2024-06-01T05:43:36.851021Z"
    },
    "executionInfo": {
     "elapsed": 4,
     "status": "ok",
     "timestamp": 1717219911720,
     "user": {
      "displayName": "Romik Gosai",
      "userId": "01690688372578414329"
     },
     "user_tz": -345
    },
    "id": "MZ9XNIl7wsJ0"
   },
   "outputs": [],
   "source": [
    "assert correct_option2 is not None"
   ]
  },
  {
   "cell_type": "markdown",
   "metadata": {
    "id": "r4jBHfvEwsJ5"
   },
   "source": [
    "### Parallelization\n",
    "\n",
    "### Exercise 6: Multithreading\n",
    "<b><div style=\"text-align: right\">[UNGRADED]</div></b>\n",
    "\n",
    "---\n",
    "As already discussed in the theoretical part, XGBoost is known for parallelization and distributed computing. Here we are going to instantiate XGBoost with its support for multithreading. You can refer to the documentation of XGBoost on how to set the number of threads to the number of cores.\n",
    "\n",
    "**Task:**  \n",
    "- Instantiate a XGBClassifier() to variable `model` with __random_state__ set to RANDOM_STATE and set the number of threads to number of cores.\n",
    "\n"
   ]
  },
  {
   "cell_type": "code",
   "execution_count": 138,
   "metadata": {
    "execution": {
     "iopub.execute_input": "2024-06-01T05:43:36.865069Z",
     "iopub.status.busy": "2024-06-01T05:43:36.864430Z",
     "iopub.status.idle": "2024-06-01T05:43:36.873213Z",
     "shell.execute_reply": "2024-06-01T05:43:36.872069Z",
     "shell.execute_reply.started": "2024-06-01T05:43:36.865036Z"
    },
    "executionInfo": {
     "elapsed": 4,
     "status": "ok",
     "timestamp": 1717219911720,
     "user": {
      "displayName": "Romik Gosai",
      "userId": "01690688372578414329"
     },
     "user_tz": -345
    },
    "id": "4fxzfOVawsJ6"
   },
   "outputs": [],
   "source": [
    "### Ex-6-Task-1\n",
    "model = None\n",
    "### BEGIN SOLUTION\n",
    "# your code here\n",
    "import os\n",
    "num_cores = os.cpu_count()\n",
    "\n",
    "# Instantiate the XGBClassifier\n",
    "model = XGBClassifier(random_state=RANDOM_STATE, n_jobs=num_cores)\n",
    "### END SOLUTION"
   ]
  },
  {
   "cell_type": "code",
   "execution_count": 139,
   "metadata": {
    "execution": {
     "iopub.execute_input": "2024-06-01T05:43:36.876394Z",
     "iopub.status.busy": "2024-06-01T05:43:36.874709Z",
     "iopub.status.idle": "2024-06-01T05:43:36.885954Z",
     "shell.execute_reply": "2024-06-01T05:43:36.884545Z",
     "shell.execute_reply.started": "2024-06-01T05:43:36.876335Z"
    },
    "executionInfo": {
     "elapsed": 413,
     "status": "ok",
     "timestamp": 1717219912130,
     "user": {
      "displayName": "Romik Gosai",
      "userId": "01690688372578414329"
     },
     "user_tz": -345
    },
    "id": "9ApKHxgqwsKA"
   },
   "outputs": [],
   "source": [
    "### INTENTIONALLY LEFT BLANK"
   ]
  },
  {
   "cell_type": "markdown",
   "metadata": {
    "id": "UPh-UJB7wsKF"
   },
   "source": [
    "### Performance Monitoring and learning curve\n",
    "\n",
    "For performance monitoring, we define a function `learning_curve()` which plots the log loss for each boosting iteration for training and validation dataset.\n",
    "\n",
    "Note: Here, test data is used for validation, but it is good practice to have a separate validation set."
   ]
  },
  {
   "cell_type": "code",
   "execution_count": 140,
   "metadata": {
    "execution": {
     "iopub.execute_input": "2024-06-01T05:43:36.889100Z",
     "iopub.status.busy": "2024-06-01T05:43:36.887833Z",
     "iopub.status.idle": "2024-06-01T05:43:36.901831Z",
     "shell.execute_reply": "2024-06-01T05:43:36.900217Z",
     "shell.execute_reply.started": "2024-06-01T05:43:36.889065Z"
    },
    "executionInfo": {
     "elapsed": 3,
     "status": "ok",
     "timestamp": 1717219912130,
     "user": {
      "displayName": "Romik Gosai",
      "userId": "01690688372578414329"
     },
     "user_tz": -345
    },
    "id": "pKJo8Fk3wsKF"
   },
   "outputs": [],
   "source": [
    "def learning_curve(model, X_train, y_train, X_test, y_test):\n",
    "    \"\"\"\n",
    "    A function to plot the learning curve.\n",
    "\n",
    "    Paramters:\n",
    "    ---------\n",
    "    model: object\n",
    "           An object instantiated with XGBoost classifier\n",
    "    X_train: array like\n",
    "             Training features\n",
    "    y_train: array like\n",
    "             Training labels\n",
    "    X_test: array like\n",
    "            Validation features\n",
    "    y_test: array like\n",
    "            Validation labels\n",
    "\n",
    "    Returns:\n",
    "    --------\n",
    "    None\n",
    "\n",
    "\n",
    "    \"\"\"\n",
    "    eval_set = [(X_train, y_train),(X_test, y_test)]\n",
    "    model.fit(X_train, y_train, eval_metric = [\"logloss\"], eval_set = eval_set, verbose = False)\n",
    "    print(\"F1 Score Train: \",f1_score(y_train, model.predict(X_train), average = 'weighted'))\n",
    "    print(\"F1 Score Test: \",f1_score(y_test, model.predict(X_test), average = 'weighted'))\n",
    "    results = model.evals_result()\n",
    "    num_tree = len(results['validation_0']['logloss'])\n",
    "    plt.figure(figsize = (8,8))\n",
    "    plt.plot(range(0, num_tree), results['validation_0']['logloss'], label = 'Training')\n",
    "    plt.plot(range(0, num_tree), results['validation_1']['logloss'], label = 'Validation')\n",
    "    plt.legend()\n",
    "    plt.xlabel(\"Number of trees\")\n",
    "    plt.ylabel(\"Log loss\")\n",
    "    plt.title(\"Learning Curve\")\n",
    "    plt.show()\n",
    "\n"
   ]
  },
  {
   "cell_type": "markdown",
   "metadata": {
    "id": "C56MY88twsKI"
   },
   "source": [
    "### Exercise 7: Learning Curve\n",
    "<b><div style=\"text-align: right\">[UNGRADED]</div></b>\n",
    "\n",
    "---\n",
    "A function `learning_curve()` is defined above. Use this function to plot the learning curve for the training and validation dataset. Here we will be using the test set for validation.\n",
    "**Task:**  \n",
    "- Instantiate a XGBClassifier() to variable `model` with __n_estimators__ set to 100 , __max_depth__ set to 4, and __random_state__ set to RANDOM_STATE.\n",
    "-  Use the function `learning_curve()` to plot the learning curve of the model `xgb`. We have already instantiated `xgb` a few cells back.\n"
   ]
  },
  {
   "cell_type": "code",
   "execution_count": 141,
   "metadata": {
    "colab": {
     "base_uri": "https://localhost:8080/",
     "height": 811
    },
    "execution": {
     "iopub.execute_input": "2024-06-01T05:43:36.904610Z",
     "iopub.status.busy": "2024-06-01T05:43:36.903949Z",
     "iopub.status.idle": "2024-06-01T05:43:40.125215Z",
     "shell.execute_reply": "2024-06-01T05:43:40.123498Z",
     "shell.execute_reply.started": "2024-06-01T05:43:36.904563Z"
    },
    "executionInfo": {
     "elapsed": 4282,
     "status": "ok",
     "timestamp": 1717219916409,
     "user": {
      "displayName": "Romik Gosai",
      "userId": "01690688372578414329"
     },
     "user_tz": -345
    },
    "id": "7aq5FtPYwsKJ",
    "outputId": "284eae0b-d7bd-4f21-afba-a7e5d7244bc1"
   },
   "outputs": [
    {
     "name": "stderr",
     "output_type": "stream",
     "text": [
      "C:\\Users\\Hrishav\\AppData\\Roaming\\Python\\Python311\\site-packages\\xgboost\\sklearn.py:889: UserWarning: `eval_metric` in `fit` method is deprecated for better compatibility with scikit-learn, use `eval_metric` in constructor or`set_params` instead.\n",
      "  warnings.warn(\n"
     ]
    },
    {
     "name": "stdout",
     "output_type": "stream",
     "text": [
      "F1 Score Train:  0.8759577642612957\n",
      "F1 Score Test:  0.868532783637488\n"
     ]
    },
    {
     "data": {
      "image/png": "[encoded data removed]",
      "text/plain": [
       "<Figure size 800x800 with 1 Axes>"
      ]
     },
     "metadata": {},
     "output_type": "display_data"
    }
   ],
   "source": [
    "### Ex-7-Task-1\n",
    "model = None\n",
    "# Plot learning curve\n",
    "### BEGIN SOLUTION\n",
    "# your code here\n",
    "model = XGBClassifier(n_estimators = 100, max_depth = 4, random_state = RANDOM_STATE)\n",
    "learning_curve(model, X_train, y_train, X_test, y_test)\n",
    "### END SOLUTION"
   ]
  },
  {
   "cell_type": "markdown",
   "metadata": {
    "id": "inOMafAZwsKM"
   },
   "source": [
    "#### Q3: Recalling evaluation results of random forest trained few cells above and analyzing the above learning curve shows that our xgboost model is  ____?\n",
    "<b><div style=\"text-align: right\">[UNGRADED]</div></b>\n",
    "\n",
    "---\n",
    "Select the best option.\n",
    "\n",
    "1. optimally fitted\n",
    "\n",
    "2. overfitted\n",
    "\n",
    "3. underfitted\n",
    "\n",
    "\n",
    "__Task:__\n",
    "You just need to put the correct option number on the variable `correct_option3`.\n",
    "If your answer is overfitted, assign `correct_option3 = 2` and so on."
   ]
  },
  {
   "cell_type": "code",
   "execution_count": 142,
   "metadata": {
    "execution": {
     "iopub.execute_input": "2024-06-01T05:43:40.127948Z",
     "iopub.status.busy": "2024-06-01T05:43:40.127511Z",
     "iopub.status.idle": "2024-06-01T05:43:40.134751Z",
     "shell.execute_reply": "2024-06-01T05:43:40.133001Z",
     "shell.execute_reply.started": "2024-06-01T05:43:40.127901Z"
    },
    "executionInfo": {
     "elapsed": 12,
     "status": "ok",
     "timestamp": 1717219916409,
     "user": {
      "displayName": "Romik Gosai",
      "userId": "01690688372578414329"
     },
     "user_tz": -345
    },
    "id": "9xDBfdZSAxQ-"
   },
   "outputs": [],
   "source": [
    "### Ex-7-Task-2\n",
    "correct_option3 = None\n",
    "### BEGIN SOLUTION\n",
    "# your code here\n",
    "correct_option3 = 1\n",
    "### END SOLUTION"
   ]
  },
  {
   "cell_type": "code",
   "execution_count": 143,
   "metadata": {
    "execution": {
     "iopub.execute_input": "2024-06-01T05:43:40.136844Z",
     "iopub.status.busy": "2024-06-01T05:43:40.136461Z",
     "iopub.status.idle": "2024-06-01T05:43:40.148728Z",
     "shell.execute_reply": "2024-06-01T05:43:40.147140Z",
     "shell.execute_reply.started": "2024-06-01T05:43:40.136813Z"
    },
    "executionInfo": {
     "elapsed": 11,
     "status": "ok",
     "timestamp": 1717219916409,
     "user": {
      "displayName": "Romik Gosai",
      "userId": "01690688372578414329"
     },
     "user_tz": -345
    },
    "id": "EqvwXBIpwsKN"
   },
   "outputs": [],
   "source": [
    "assert correct_option3 is not None"
   ]
  },
  {
   "cell_type": "markdown",
   "metadata": {
    "id": "bfLb4QKawsKX"
   },
   "source": [
    "### Exercise 8: Improving performance\n",
    "<b><div style=\"text-align: right\">[POINTS: 1]</div></b>\n",
    "\n",
    "---\n",
    "Based on your answer, if the model is overfitted, under fitted, or optimally fitted, you need to perform a few experiments and improve its performance. The test f1-score of the model should be above 89.00%\n",
    "\n",
    "Hint: If the model is overfitted, you can perform shrinkage, reduce the depth of the tree, apply regularization, etc. Similarly, if the model is under fitted, you can increase the number of iterations and the tree depth.\n",
    "\n",
    "**Task:**  \n",
    "- Instantiate a XGBClassifier() to variable `model` with the parameters you think are suitable for improving performance.\n",
    "- Note: The test f1 score of your model should be equal or above 0.8900 to get the marks.\n"
   ]
  },
  {
   "cell_type": "code",
   "execution_count": 145,
   "metadata": {
    "colab": {
     "background_save": true
    },
    "execution": {
     "iopub.execute_input": "2024-06-01T06:06:38.161776Z",
     "iopub.status.busy": "2024-06-01T06:06:38.161312Z",
     "iopub.status.idle": "2024-06-01T06:06:40.595355Z",
     "shell.execute_reply": "2024-06-01T06:06:40.594459Z",
     "shell.execute_reply.started": "2024-06-01T06:06:38.161745Z"
    },
    "id": "-hgayJeYwsKY"
   },
   "outputs": [
    {
     "name": "stdout",
     "output_type": "stream",
     "text": [
      "Train f1_score: 0.984713506978257\n",
      "Test f1_score: 0.8928952903821287\n"
     ]
    }
   ],
   "source": [
    "### Ex-8-Task-1\n",
    "model = None\n",
    "### BEGIN SOLUTION\n",
    "# your code here\n",
    "model = XGBClassifier(n_estimators=410, max_depth=8, random_state=RANDOM_STATE)\n",
    "### END SOLUTION\n",
    "model.fit(X_train, y_train)\n",
    "pickle.dump(model, open(\"model.pickle.dat\", \"wb\"))\n",
    "\n",
    "print(\"Train f1_score:\", f1_score(y_train, model.predict(X_train), average = 'weighted'))\n",
    "print(\"Test f1_score:\", f1_score(y_test, model.predict(X_test), average = 'weighted'))"
   ]
  },
  {
   "cell_type": "code",
   "execution_count": 146,
   "metadata": {
    "id": "KK6gIaq9wsKc"
   },
   "outputs": [],
   "source": [
    "### INTENTIONALLY LEFT BLANK"
   ]
  },
  {
   "cell_type": "markdown",
   "metadata": {
    "id": "2EPPp2jWwsKg"
   },
   "source": [
    "### Model Tuning\n",
    "\n",
    "A function `tuning_curve()` is defined, which tunes the xgboost . Here `param_name` is the name of the parameter, and `param_range` is the corresponding range of the parameter's value. This function plot the log loss for different value of these parameters. The plot has a vertical line with a central dot corresponding to each value of the parameter.  The vertical length represents the standard deviation of log loss for three cross-fold validation. Similarly, the central dot represents the mean log loss for three cross-fold validation."
   ]
  },
  {
   "cell_type": "code",
   "execution_count": 147,
   "metadata": {
    "execution": {
     "iopub.execute_input": "2024-06-01T06:01:33.413512Z",
     "iopub.status.busy": "2024-06-01T06:01:33.413037Z",
     "iopub.status.idle": "2024-06-01T06:01:33.426583Z",
     "shell.execute_reply": "2024-06-01T06:01:33.425309Z",
     "shell.execute_reply.started": "2024-06-01T06:01:33.413478Z"
    },
    "id": "eg_vu2BBwsKg"
   },
   "outputs": [],
   "source": [
    "from sklearn.model_selection import cross_validate\n",
    "from sklearn.model_selection import StratifiedKFold\n",
    "\n",
    "\n",
    "def tuning_curve(param_name, param_range):\n",
    "    \"\"\"\n",
    "    A function to perform hyperparameter tuning.\n",
    "\n",
    "    A 3 fold stratified cross validation is performed for each value of parameter.\n",
    "\n",
    "\n",
    "    Parameters:\n",
    "    ----------\n",
    "    param_name: str\n",
    "                Name of the parameter on which to perform hyperparamter tuning.\n",
    "    param_range: list\n",
    "                 Range of parameter to perform grid search\n",
    "\n",
    "    Returns:\n",
    "    -------\n",
    "    None\n",
    "    \"\"\"\n",
    "    mean = []\n",
    "    std = []\n",
    "    for n in param_range:\n",
    "        arg = dict()\n",
    "        arg[param_name] = n\n",
    "        model = XGBClassifier(random_state = RANDOM_STATE,n_jobs = -1,  **arg)\n",
    "        skfold = StratifiedKFold(n_splits=3, shuffle=True, random_state=RANDOM_STATE)\n",
    "        scores = cross_validate(model, X_train, y_train, scoring = ['neg_log_loss'], cv = skfold)\n",
    "        mean_temp = np.abs(scores['test_neg_log_loss']).mean()\n",
    "        mean.append(mean_temp)\n",
    "        std_temp = np.abs(scores['test_neg_log_loss']).std()/2.0\n",
    "        std.append(std_temp)\n",
    "    plt.errorbar(param_range, mean, std, fmt = 'o')\n",
    "    plt.xlabel(\"{}\".format(param_name))\n",
    "    plt.ylabel(\"{}\".format(\"Log loss\"))\n",
    "    plt.title(\"Cross Validation Score\")\n",
    "    plt.show()\n",
    "\n"
   ]
  },
  {
   "cell_type": "markdown",
   "metadata": {
    "id": "M46PQhAKwsKj"
   },
   "source": [
    "### Exercise 9: Tuning L1-Regularization term.\n",
    "<b><div style=\"text-align: right\">[UNGRADED]</div></b>\n",
    "\n",
    "---\n",
    "A function `tuning_curve()` is defined above. Use this function to tune L1 regularization term in the range $[0, 0.4, 1, 5, 10]$\n",
    "\n",
    "**Task:**  \n",
    "- Use function `tuning_curve()` to tune the parameter `reg_alpha` in the range $[0, 0.4, 1, 5, 10]$ and answer the following quiz.\n"
   ]
  },
  {
   "cell_type": "code",
   "execution_count": 148,
   "metadata": {
    "execution": {
     "iopub.execute_input": "2024-06-01T06:06:53.682335Z",
     "iopub.status.busy": "2024-06-01T06:06:53.681891Z",
     "iopub.status.idle": "2024-06-01T06:07:11.256367Z",
     "shell.execute_reply": "2024-06-01T06:07:11.255310Z",
     "shell.execute_reply.started": "2024-06-01T06:06:53.682303Z"
    },
    "id": "o_ES-JPNwsKl"
   },
   "outputs": [
    {
     "data": {
      "image/png": "[encoded data removed]",
      "text/plain": [
       "<Figure size 640x480 with 1 Axes>"
      ]
     },
     "metadata": {},
     "output_type": "display_data"
    }
   ],
   "source": [
    "### Ex-9-Task-1\n",
    "\n",
    "None # Call function tuning_curve() to tune reg_alpha in the given range\n",
    "\n",
    "### BEGIN SOLUTION\n",
    "# your code here\n",
    "tuning_curve(\"reg_alpha\",[0,0.4,1,5,10])\n",
    "### END SOLUTION"
   ]
  },
  {
   "cell_type": "markdown",
   "metadata": {
    "id": "eciMTlsjwsKo"
   },
   "source": [
    "#### Q4: From the above curve, which of the following value of reg_alpha yields the best performance?\n",
    "<b><div style=\"text-align: right\">[UNGRADED]</div></b>\n",
    "\n",
    "---\n",
    "\n",
    "Select the best option.\n",
    "\n",
    "1. 0\n",
    "\n",
    "2. 0.4\n",
    "\n",
    "3. 1\n",
    "\n",
    "4. 5\n",
    "\n",
    "5. 10\n",
    "\n",
    "\n",
    "__Task:__\n",
    "You just need to put the correct option number on the variable `correct_option4`.\n",
    "If your answer is 1, assign `correct_option4 = 3` and so on.\n",
    "\n"
   ]
  },
  {
   "cell_type": "code",
   "execution_count": 149,
   "metadata": {
    "execution": {
     "iopub.execute_input": "2024-06-01T06:04:44.007624Z",
     "iopub.status.busy": "2024-06-01T06:04:44.007013Z",
     "iopub.status.idle": "2024-06-01T06:04:44.014595Z",
     "shell.execute_reply": "2024-06-01T06:04:44.013024Z",
     "shell.execute_reply.started": "2024-06-01T06:04:44.007559Z"
    },
    "id": "05rB4PBzwsKo"
   },
   "outputs": [],
   "source": [
    "### Ex-9-Task-2\n",
    "correct_option4 = None\n",
    "### BEGIN SOLUTION\n",
    "# your code here\n",
    "correct_option4 = 3\n",
    "### END SOLUTION"
   ]
  },
  {
   "cell_type": "code",
   "execution_count": 150,
   "metadata": {
    "execution": {
     "iopub.execute_input": "2024-06-01T06:04:44.394842Z",
     "iopub.status.busy": "2024-06-01T06:04:44.393967Z",
     "iopub.status.idle": "2024-06-01T06:04:44.401670Z",
     "shell.execute_reply": "2024-06-01T06:04:44.400143Z",
     "shell.execute_reply.started": "2024-06-01T06:04:44.394801Z"
    },
    "id": "YvRtF_WRwsKr"
   },
   "outputs": [],
   "source": [
    "assert correct_option4 is not None"
   ]
  },
  {
   "cell_type": "markdown",
   "metadata": {
    "id": "Yie7qnu3wsKv"
   },
   "source": [
    "__Congratulation!!!!!!!!!!!!!__\n",
    "\n",
    "__You have completed level 1__"
   ]
  },
  {
   "cell_type": "markdown",
   "metadata": {
    "id": "IX6VJobpwsKw"
   },
   "source": [
    "## Level 2+3\n",
    "\n",
    "## Learning Objective (Level2+Level 3)\n",
    "<b><div style=\"text-align: right\">[POINTS: 6]</div></b>\n",
    "\n",
    "- Implement Gradient Boosting Regressor from scratch.\n",
    "\n",
    "- Compare the performance of gradient boosting regressor implement from scratch with Sklearn's gradient boosting regressor.\n",
    "\n"
   ]
  },
  {
   "cell_type": "markdown",
   "metadata": {
    "id": "V5t25PcIwsKx"
   },
   "source": [
    "### Dataset Description\n",
    "\n",
    "We will use a synthetic dataset for this part. A synthetic dataset is generated using Sklearn's `make_regression()` method.\n",
    "\n",
    "---\n",
    "Number of Instances: 100\n",
    "\n",
    "Number of Attributes:4\n",
    "\n",
    "---\n",
    "The features are labeled `x1`, `x2`,`x3`,`x4`, and the output value is labeled `target`.\n"
   ]
  },
  {
   "cell_type": "code",
   "execution_count": 151,
   "metadata": {
    "execution": {
     "iopub.execute_input": "2024-06-01T06:07:11.259048Z",
     "iopub.status.busy": "2024-06-01T06:07:11.258334Z",
     "iopub.status.idle": "2024-06-01T06:07:11.414807Z",
     "shell.execute_reply": "2024-06-01T06:07:11.413301Z",
     "shell.execute_reply.started": "2024-06-01T06:07:11.259010Z"
    },
    "id": "MDvsa8egwsKx"
   },
   "outputs": [
    {
     "data": {
      "text/html": [
       "<div>\n",
       "<style scoped>\n",
       "    .dataframe tbody tr th:only-of-type {\n",
       "        vertical-align: middle;\n",
       "    }\n",
       "\n",
       "    .dataframe tbody tr th {\n",
       "        vertical-align: top;\n",
       "    }\n",
       "\n",
       "    .dataframe thead th {\n",
       "        text-align: right;\n",
       "    }\n",
       "</style>\n",
       "<table border=\"1\" class=\"dataframe\">\n",
       "  <thead>\n",
       "    <tr style=\"text-align: right;\">\n",
       "      <th></th>\n",
       "      <th>x1</th>\n",
       "      <th>x2</th>\n",
       "      <th>x3</th>\n",
       "      <th>x4</th>\n",
       "      <th>target</th>\n",
       "    </tr>\n",
       "  </thead>\n",
       "  <tbody>\n",
       "    <tr>\n",
       "      <th>0</th>\n",
       "      <td>-0.192855</td>\n",
       "      <td>-1.778013</td>\n",
       "      <td>0.735027</td>\n",
       "      <td>0.331974</td>\n",
       "      <td>55.859210</td>\n",
       "    </tr>\n",
       "    <tr>\n",
       "      <th>1</th>\n",
       "      <td>0.396565</td>\n",
       "      <td>1.171393</td>\n",
       "      <td>0.097020</td>\n",
       "      <td>0.973093</td>\n",
       "      <td>119.860365</td>\n",
       "    </tr>\n",
       "    <tr>\n",
       "      <th>2</th>\n",
       "      <td>1.503319</td>\n",
       "      <td>-0.212733</td>\n",
       "      <td>1.438240</td>\n",
       "      <td>0.108648</td>\n",
       "      <td>166.927654</td>\n",
       "    </tr>\n",
       "    <tr>\n",
       "      <th>3</th>\n",
       "      <td>-0.000890</td>\n",
       "      <td>-1.754724</td>\n",
       "      <td>0.002066</td>\n",
       "      <td>-0.788923</td>\n",
       "      <td>-71.091021</td>\n",
       "    </tr>\n",
       "    <tr>\n",
       "      <th>4</th>\n",
       "      <td>0.032820</td>\n",
       "      <td>0.407516</td>\n",
       "      <td>-0.465937</td>\n",
       "      <td>1.690526</td>\n",
       "      <td>138.727129</td>\n",
       "    </tr>\n",
       "  </tbody>\n",
       "</table>\n",
       "</div>"
      ],
      "text/plain": [
       "         x1        x2        x3        x4      target\n",
       "0 -0.192855 -1.778013  0.735027  0.331974   55.859210\n",
       "1  0.396565  1.171393  0.097020  0.973093  119.860365\n",
       "2  1.503319 -0.212733  1.438240  0.108648  166.927654\n",
       "3 -0.000890 -1.754724  0.002066 -0.788923  -71.091021\n",
       "4  0.032820  0.407516 -0.465937  1.690526  138.727129"
      ]
     },
     "execution_count": 151,
     "metadata": {},
     "output_type": "execute_result"
    }
   ],
   "source": [
    "from sklearn.datasets import make_regression\n",
    "\n",
    "\n",
    "RANDOM_STATE = 7\n",
    "X, y = make_regression(n_samples=100, n_features=4, n_informative=3, bias = 2,noise=0.05, random_state = RANDOM_STATE)\n",
    "df = pd.DataFrame(X, columns = ['x1', 'x2', 'x3', 'x4'])\n",
    "df['target']= y\n",
    "df.head()"
   ]
  },
  {
   "cell_type": "markdown",
   "metadata": {
    "id": "L9fe-DOjwsK1"
   },
   "source": [
    "### Scatter plot"
   ]
  },
  {
   "cell_type": "markdown",
   "metadata": {
    "id": "gCJllXViwsK1"
   },
   "source": [
    "If you would like, you could visualize the scatter plot of individual features with respect to the target variable. Moreover, if you like to understand better the distribution of the data, you can experiment yourself."
   ]
  },
  {
   "cell_type": "code",
   "execution_count": 152,
   "metadata": {
    "execution": {
     "iopub.execute_input": "2024-06-01T06:07:32.368767Z",
     "iopub.status.busy": "2024-06-01T06:07:32.368212Z",
     "iopub.status.idle": "2024-06-01T06:07:32.640721Z",
     "shell.execute_reply": "2024-06-01T06:07:32.639458Z",
     "shell.execute_reply.started": "2024-06-01T06:07:32.368728Z"
    },
    "id": "EPrD4CUZwsK3"
   },
   "outputs": [
    {
     "data": {
      "image/png": "[encoded data removed]",
      "text/plain": [
       "<Figure size 640x480 with 1 Axes>"
      ]
     },
     "metadata": {},
     "output_type": "display_data"
    }
   ],
   "source": [
    "# Perform experiment to understand data distribution if needed.\n",
    "plt.scatter(X[:,0], y)\n",
    "plt.ylabel(\"Output/independent variable\")\n",
    "plt.xlabel(\"Input/dependet variable\")\n",
    "plt.show()"
   ]
  },
  {
   "cell_type": "markdown",
   "metadata": {
    "id": "HQxBrCMAwsK7"
   },
   "source": [
    "### Train Test Split\n",
    "As usual, we will keep 80% of the data for training and the rest for testing."
   ]
  },
  {
   "cell_type": "code",
   "execution_count": 153,
   "metadata": {
    "execution": {
     "iopub.execute_input": "2024-06-01T06:07:35.890587Z",
     "iopub.status.busy": "2024-06-01T06:07:35.890067Z",
     "iopub.status.idle": "2024-06-01T06:07:35.900099Z",
     "shell.execute_reply": "2024-06-01T06:07:35.898427Z",
     "shell.execute_reply.started": "2024-06-01T06:07:35.890548Z"
    },
    "id": "sHr2YzgbwsK8"
   },
   "outputs": [],
   "source": [
    "from sklearn.model_selection import train_test_split\n",
    "\n",
    "\n",
    "X_train, X_test, y_train, y_test = train_test_split(X, y, test_size = 0.2, random_state = RANDOM_STATE)"
   ]
  },
  {
   "cell_type": "markdown",
   "metadata": {
    "id": "OdD_9-8twsK_"
   },
   "source": [
    "## Gradient Boosting Regressor from scratch\n",
    "In this section, we will implement a gradient boosting regressor from scratch. Each base learner will be a decision tree. For this, we will use Sklearn's `DecisionTreeRegressor()` object.\n",
    "\n",
    "Here is a pseudo-code for gradient boosting regressor.\n",
    "```\n",
    "Algorithm:\n",
    "```\n",
    "> 1. initialize $F_0= \\frac{1}{N}\\sum_{i=1}^N y_i$\n",
    "2. for $t=1$ to $M$ do\n",
    "3. > calculate negative gradients $-g(\\mathbf{x_i})$; where $-g(\\mathbf{x_i})= -\\frac{\\partial L(y_i, F(\\mathbf{x_i}))}{\\partial F(\\mathbf{x_i})}\\bigg{|}_{F = F_{t-1}}$\n",
    "4. > fit a base-learner model $h$ to negative gradients $-g(\\mathbf{x_i})$\n",
    "5. > update the function: $F_t=F_{t-1} + \\alpha h(\\mathbf{x})$; where $\\alpha$ is a shrinkage\n",
    "6. end for"
   ]
  },
  {
   "cell_type": "markdown",
   "metadata": {
    "id": "078dpGJLwsLA"
   },
   "source": [
    "Below is a skeleton class for the gradient boosting regressor. We have already defined a constructor for initializing different attributes like `learning_rate`, `max_depth` of each tree, and `n_estimators` for the number of boosting iterations. The attribute `estimators` is a list of each trained base learner.\n",
    "\n",
    "### Exercise 10: Gradient Boosting Regressor from scratch\n",
    "<b><div style=\"text-align: right\">[POINTS: 1+3+1]</div></b>\n",
    "\n",
    "---\n",
    "This exercise is divided into three different tasks. Through these three tasks, you will create a gradient boosting regressor.\n",
    "\n",
    "**Task 1: Computation of negative gradient**\n",
    "<b><div style=\"text-align: right\">[POINTS: 1]</div></b>\n",
    "\n",
    "We have defined a static method `negative_gradient` which should return the negative gradient when actual label $y$ and predicted label $\\hat{y}$ are given. You need to complete this function.\n",
    "\n",
    "-  Your task is to assign the negative gradient the the variable `grad`. Suppose we are using the following loss function $$L(y,\\hat{y})= \\frac{1}{2}(y-\\hat{y})^2$$\n",
    "where, $y$ is the actual label and $\\hat{y}$ is the predicted label.\n",
    "\n",
    "\n",
    "**Task 2: Fit the model**\n",
    "\n",
    "<b><div style=\"text-align: right\">[POINTS: 3]</div></b>\n",
    "\n",
    "\n",
    "In this task, we are going to fit our model with the training dataset. We have defined a function `fit(X,y)` in the class `Gradient_Boosting_Regressor` where, X is the training features, and y is the training label. As already discussed in the reading material, the first prediction is the average of output label. Here we have defined two attributes, `average` and `base_prediction`. `base_prediction` is a vector of average value with a length equal to the number of instances in the training data.\n",
    "\n",
    "\n",
    "- Compute the negative_gradient using the above defined function and put it in the variable `pseduo_residual`.\n",
    "- Instantiate a decision tree regressor(from sklearn) on variable `tree` setting `max_depth` to the variable provided in the class constructor and setting `random_state` to RANDOM_STATE.\n",
    "- Fit the tree on input X and pseudo_residual as a target.\n",
    "- Update `base_prediction` with the prediction of the current tree. Note: The prediction of each tree should be downscaled by shrinkage. Please replace 0 with your own code.\n",
    "\n",
    "**Task 3: Prediction by model**\n",
    "\n",
    "<b><div style=\"text-align: right\">[POINTS: 1]</div></b>\n",
    "\n",
    "\n",
    "In this exercise, we are going to make a prediction based on the input data. We have defined a function `predict(X)` in the class `Gradient_Boosting_Regressor` where, X is a feature for which we want to make a prediction. Here we have initialized the variable `predictions` by the average value of the training label. We want to return the final prediction made by the model.\n",
    "\n",
    "\n",
    "- The average prediction is already assigned to the variable `predictions`. Your task is to add the predictions made by each estimator to the variable `predictions`. Please replace 0 with your code.\n",
    "\n",
    "\n",
    "The last method, `staged_predict()` is a generator that returns the prediction for each boosting iterations."
   ]
  },
  {
   "cell_type": "code",
   "execution_count": 154,
   "metadata": {
    "execution": {
     "iopub.execute_input": "2024-06-01T06:14:22.583626Z",
     "iopub.status.busy": "2024-06-01T06:14:22.583071Z",
     "iopub.status.idle": "2024-06-01T06:14:22.601798Z",
     "shell.execute_reply": "2024-06-01T06:14:22.600165Z",
     "shell.execute_reply.started": "2024-06-01T06:14:22.583585Z"
    },
    "id": "NOP9uMawwsLA"
   },
   "outputs": [],
   "source": [
    "### Ex-10-Task-1\n",
    "\n",
    "from sklearn.tree import DecisionTreeRegressor\n",
    "\n",
    "class Gradient_Boosting_Regressor:\n",
    "    \"\"\"\n",
    "    Gradient boosting for regression.\n",
    "\n",
    "    This implementation uses a mean square error loss function.\n",
    "\n",
    "    Parameters:\n",
    "    ----------\n",
    "    learning_rate: int\n",
    "                   Learning rate or shrinkage parameter (the default is 0.1)\n",
    "    max_depth: int\n",
    "               Maximum allowed depth for each tree (the default value is 4)\n",
    "    n_estimators: int\n",
    "                  The total number of boosting operations (the default value is 5)\n",
    "\n",
    "    \"\"\"\n",
    "    def __init__(self, learning_rate = 0.1, max_depth = 3, n_estimators = 5):\n",
    "        self.learning_rate = learning_rate\n",
    "        self.max_depth = max_depth\n",
    "        self.n_estimators = n_estimators\n",
    "        self.estimators = []\n",
    "\n",
    "\n",
    "    @staticmethod\n",
    "    def negative_gradient(y, y_pred):\n",
    "        \"\"\"Compute and return the negative gradient. \"\"\"\n",
    "        grad = None\n",
    "\n",
    "        grad = y-y_pred\n",
    "\n",
    "        return grad\n",
    "\n",
    "\n",
    "    def fit(self, X, y):\n",
    "        \"\"\"Fit the model on data X and y\"\"\"\n",
    "        self.average = np.mean(y)\n",
    "        self.base_prediction = np.array([np.mean(y)]*len(y))\n",
    "\n",
    "        for estimators in range(self.n_estimators):\n",
    "            pseudo_residuals = None\n",
    "            tree = None\n",
    "            None # tree.fit(...)\n",
    "            self.base_prediction += 0 # None ########### WHAT IS THE USE OF THIS LINE?\n",
    "            ### BEGIN SOLUTION\n",
    "            # your code here\n",
    "            pseudo_residuals = self.negative_gradient(y, self.base_prediction)\n",
    "            tree = DecisionTreeRegressor(max_depth=self.max_depth)\n",
    "            tree.fit(X, pseudo_residuals)\n",
    "            self.base_prediction += self.learning_rate * tree.predict(X)\n",
    "            ### END SOLUTION\n",
    "            self.estimators.append(tree)\n",
    "\n",
    "\n",
    "    def predict(self, X):\n",
    "        \"\"\"Make prediction by the model on data X.\"\"\"\n",
    "        predictions = np.array([self.average]*X.shape[0])\n",
    "        for estimator in self.estimators:\n",
    "            predictions += 0 # None\n",
    "\n",
    "            predictions += self.learning_rate*estimator.predict(X)\n",
    "\n",
    "        return predictions\n",
    "\n",
    "\n",
    "    def staged_predict(self, X):\n",
    "        \"\"\"A generator which returns the prediction at each boosting iteration.\"\"\"\n",
    "        predictions = np.array([self.average]*X.shape[0])\n",
    "\n",
    "        for estimator in self.estimators:\n",
    "            predictions += self.learning_rate*estimator.predict(X)\n",
    "            yield predictions\n",
    "\n"
   ]
  },
  {
   "cell_type": "code",
   "execution_count": 155,
   "metadata": {
    "execution": {
     "iopub.execute_input": "2024-06-01T06:14:23.507366Z",
     "iopub.status.busy": "2024-06-01T06:14:23.506929Z",
     "iopub.status.idle": "2024-06-01T06:14:23.522357Z",
     "shell.execute_reply": "2024-06-01T06:14:23.521112Z",
     "shell.execute_reply.started": "2024-06-01T06:14:23.507332Z"
    },
    "id": "Y9jBuEOTwsLC"
   },
   "outputs": [],
   "source": [
    "model = Gradient_Boosting_Regressor()\n",
    "model.fit(X_train, y_train)\n",
    "assert not np.array_equal(model.predict(X_train), np.array([np.mean(y_train)]*len(y_train))), \"Make sure you have implemented the code for fit and predict methods.\"\n"
   ]
  },
  {
   "cell_type": "markdown",
   "metadata": {
    "id": "lZQXk1LKwsLK"
   },
   "source": [
    "## Evaluation and Comparision\n",
    "In this and coming sections, we will first evaluate the gradient boosting regressor that we just built from scratch and then compare it with the Sklearn's gradient boosting regressor."
   ]
  },
  {
   "cell_type": "markdown",
   "metadata": {
    "id": "6lBICO5cwsLL"
   },
   "source": [
    "Let's see how our model has performed."
   ]
  },
  {
   "cell_type": "code",
   "execution_count": 156,
   "metadata": {
    "execution": {
     "iopub.execute_input": "2024-06-01T06:14:28.576137Z",
     "iopub.status.busy": "2024-06-01T06:14:28.575755Z",
     "iopub.status.idle": "2024-06-01T06:14:28.590162Z",
     "shell.execute_reply": "2024-06-01T06:14:28.588569Z",
     "shell.execute_reply.started": "2024-06-01T06:14:28.576108Z"
    },
    "id": "eEDtuZTewsLM"
   },
   "outputs": [
    {
     "name": "stdout",
     "output_type": "stream",
     "text": [
      "r2_score: 0.5787669653951846\n"
     ]
    }
   ],
   "source": [
    "from sklearn.metrics import r2_score\n",
    "\n",
    "custom_gbm = Gradient_Boosting_Regressor(learning_rate = 0.2, max_depth = 3, n_estimators = 4)\n",
    "custom_gbm.fit(X_train, y_train)\n",
    "\n",
    "\n",
    "print(\"r2_score:\", r2_score(y_test, custom_gbm.predict(X_test)))"
   ]
  },
  {
   "cell_type": "markdown",
   "metadata": {
    "id": "beLuCubewsLR"
   },
   "source": [
    "### Visualization\n",
    "Let's see if the prediction gets improved with the added estimators. Here we will plot the actual and predicted target value."
   ]
  },
  {
   "cell_type": "code",
   "execution_count": 157,
   "metadata": {
    "execution": {
     "iopub.execute_input": "2024-06-01T06:14:34.856345Z",
     "iopub.status.busy": "2024-06-01T06:14:34.855894Z",
     "iopub.status.idle": "2024-06-01T06:14:35.884458Z",
     "shell.execute_reply": "2024-06-01T06:14:35.882336Z",
     "shell.execute_reply.started": "2024-06-01T06:14:34.856310Z"
    },
    "id": "unyAB9CRwsLS"
   },
   "outputs": [
    {
     "data": {
      "image/png": "[encoded data removed]",
      "text/plain": [
       "<Figure size 2000x450 with 4 Axes>"
      ]
     },
     "metadata": {},
     "output_type": "display_data"
    }
   ],
   "source": [
    "fig, ax = plt.subplots(1,4, figsize = (20,4.5), sharex = True)\n",
    "fig.suptitle(\"Prediction made by our custom gradient boosting regressor\")\n",
    "for i, pred in enumerate(custom_gbm.staged_predict(X_test)):\n",
    "    ax[i].scatter(y_test, pred, marker = 'o')\n",
    "    ax[i].set_title(\"n_estimators={}; r2_score={:04.2f}\".format(i+1, r2_score(y_test, pred)))\n",
    "    ax[i].set_xlabel(\"Actual value\")\n",
    "    ax[i].set_ylabel(\"Predicted value\")\n",
    "plt.show()"
   ]
  },
  {
   "cell_type": "markdown",
   "metadata": {
    "id": "a28anUbpwsLV"
   },
   "source": [
    "#### Q5: With our custom gradient boosting regressor, the prediction has ______ with boosting iteration?\n",
    "<b><div style=\"text-align: right\">[UNGRADED]</div></b>\n",
    "\n",
    "---\n",
    "Select the best option.\n",
    "\n",
    "1. improved\n",
    "\n",
    "2. degraded\n",
    "\n",
    "3. remained same\n",
    "\n",
    "\n",
    "__Task:__\n",
    "You just need to put the correct option number on the variable `correct_option5`.\n",
    "If your answer is degraded, assign `correct_option5 = 1` and so on.\n"
   ]
  },
  {
   "cell_type": "code",
   "execution_count": 158,
   "metadata": {
    "execution": {
     "iopub.execute_input": "2024-06-01T06:15:30.281143Z",
     "iopub.status.busy": "2024-06-01T06:15:30.280728Z",
     "iopub.status.idle": "2024-06-01T06:15:30.288949Z",
     "shell.execute_reply": "2024-06-01T06:15:30.287119Z",
     "shell.execute_reply.started": "2024-06-01T06:15:30.281112Z"
    },
    "id": "oQv2PyUWwsLV"
   },
   "outputs": [],
   "source": [
    "### Ex-10-Task-2\n",
    "\n",
    "correct_option5 = None\n",
    "### BEGIN SOLUTION\n",
    "# your code here\n",
    "correct_option5 = 1\n",
    "### END SOLUTION"
   ]
  },
  {
   "cell_type": "code",
   "execution_count": 159,
   "metadata": {
    "execution": {
     "iopub.execute_input": "2024-06-01T06:15:30.522996Z",
     "iopub.status.busy": "2024-06-01T06:15:30.522466Z",
     "iopub.status.idle": "2024-06-01T06:15:30.529298Z",
     "shell.execute_reply": "2024-06-01T06:15:30.528000Z",
     "shell.execute_reply.started": "2024-06-01T06:15:30.522962Z"
    },
    "id": "39wF8tIVwsLa"
   },
   "outputs": [],
   "source": [
    "assert correct_option5 is not None"
   ]
  },
  {
   "cell_type": "markdown",
   "metadata": {
    "id": "lOwaWEnOwsLf"
   },
   "source": [
    "### Gradient Boosting Regressor in sklearn\n",
    "Let's see how our model compared with the gradient boosting regressor in sklearn.\n",
    "\n",
    "### Exercise 11: Training Sklearn's GradientBoostingRegressor\n",
    "\n",
    "---\n",
    "<b><div style=\"text-align: right\">[POINTS: Ungraded]</div></b>\n",
    "\n",
    "In this exercise, we are going to train Sklearn's GradientBoostingRegressor.\n",
    "\n",
    "**Task:**\n",
    "- Create an object `gbm` of the `GradientBoostingRegressor` class setting criterion to `squared_error`, n_estimators to 4, max_depth to 3, learning_rate to 0.2 and random_state to RANDOM_STATE.\n",
    "- Fit the object on the training set `X_train`, and `y_train`.\n",
    "\n"
   ]
  },
  {
   "cell_type": "code",
   "execution_count": 160,
   "metadata": {
    "execution": {
     "iopub.execute_input": "2024-06-01T06:18:01.243974Z",
     "iopub.status.busy": "2024-06-01T06:18:01.243535Z",
     "iopub.status.idle": "2024-06-01T06:18:01.259289Z",
     "shell.execute_reply": "2024-06-01T06:18:01.257787Z",
     "shell.execute_reply.started": "2024-06-01T06:18:01.243942Z"
    },
    "id": "_se8m4-qwsLf"
   },
   "outputs": [
    {
     "name": "stdout",
     "output_type": "stream",
     "text": [
      "r2_score:  0.5787669653951846\n"
     ]
    }
   ],
   "source": [
    "### Ex-11-Task-1\n",
    "from sklearn.ensemble import GradientBoostingRegressor\n",
    "\n",
    "gbm = None\n",
    "# Fit the model\n",
    "### BEGIN SOLUTION\n",
    "# your code here\n",
    "gbm = GradientBoostingRegressor(n_estimators=4, max_depth=3, learning_rate=0.2, random_state = RANDOM_STATE, criterion=\"squared_error\")\n",
    "gbm.fit(X_train,y_train)\n",
    "### END SOLUTION\n",
    "print(\"r2_score: \", r2_score(y_test, gbm.predict(X_test)))"
   ]
  },
  {
   "cell_type": "code",
   "execution_count": 161,
   "metadata": {
    "execution": {
     "iopub.execute_input": "2024-06-01T06:18:06.069825Z",
     "iopub.status.busy": "2024-06-01T06:18:06.069429Z",
     "iopub.status.idle": "2024-06-01T06:18:06.076481Z",
     "shell.execute_reply": "2024-06-01T06:18:06.074957Z",
     "shell.execute_reply.started": "2024-06-01T06:18:06.069793Z"
    },
    "id": "5P9ZkU5TwsLl"
   },
   "outputs": [],
   "source": [
    "assert gbm is not None"
   ]
  },
  {
   "cell_type": "markdown",
   "metadata": {
    "id": "FNI07SztwsLq"
   },
   "source": [
    "### Visualization\n",
    "Let's visualize how the prediction made by Sklearn's gradient boosting regressor looks."
   ]
  },
  {
   "cell_type": "code",
   "execution_count": 162,
   "metadata": {
    "execution": {
     "iopub.execute_input": "2024-06-01T06:18:07.599613Z",
     "iopub.status.busy": "2024-06-01T06:18:07.599084Z",
     "iopub.status.idle": "2024-06-01T06:18:08.569217Z",
     "shell.execute_reply": "2024-06-01T06:18:08.567367Z",
     "shell.execute_reply.started": "2024-06-01T06:18:07.599571Z"
    },
    "id": "ZN1qS2i1wsLq"
   },
   "outputs": [
    {
     "data": {
      "image/png": "[encoded data removed]",
      "text/plain": [
       "<Figure size 2000x500 with 4 Axes>"
      ]
     },
     "metadata": {},
     "output_type": "display_data"
    }
   ],
   "source": [
    "fig, ax = plt.subplots(1,4, figsize = (20,5), sharex = True, sharey=True)\n",
    "fig.suptitle(\"Prediction made by sklearn's gradient boosting regressor\")\n",
    "for i, pred in enumerate(gbm.staged_predict(X_test)):\n",
    "    ax[i].scatter(y_test, pred, marker = 'o')\n",
    "    ax[i].set_title(\"n_estimators={}; r2_score={:04.2f}\".format(i+1, r2_score(y_test, pred)))\n",
    "    ax[i].set_xlabel(\"Actual value\")\n",
    "    ax[i].set_ylabel(\"Predicted value\")\n",
    "plt.show()"
   ]
  },
  {
   "cell_type": "markdown",
   "metadata": {
    "id": "aQNwznniwsLt"
   },
   "source": [
    "#### Q6: Based on the above two plots, the performance of Sklearn's gradient boosting regressor is ______ our custom gradient boosting regressor?\n",
    "<b><div style=\"text-align: right\">[UNGRADED]</div></b>\n",
    "\n",
    "---\n",
    "Select the best option.\n",
    "\n",
    "1. better than\n",
    "\n",
    "2. worse than\n",
    "\n",
    "3. same as\n",
    "\n",
    "\n",
    "__Task:__\n",
    "You just need to put the correct option number on the variable `correct_option6`.\n",
    "If your answer is same as, assign `correct_option6 = 3` and so on.\n"
   ]
  },
  {
   "cell_type": "code",
   "execution_count": 163,
   "metadata": {
    "execution": {
     "iopub.execute_input": "2024-06-01T06:18:42.521237Z",
     "iopub.status.busy": "2024-06-01T06:18:42.519740Z",
     "iopub.status.idle": "2024-06-01T06:18:42.527905Z",
     "shell.execute_reply": "2024-06-01T06:18:42.526199Z",
     "shell.execute_reply.started": "2024-06-01T06:18:42.521167Z"
    },
    "id": "h6-7FqRhwsLu"
   },
   "outputs": [],
   "source": [
    "### Ex-11-Task-2\n",
    "\n",
    "correct_option6 = None\n",
    "### BEGIN SOLUTION\n",
    "# your code here\n",
    "correct_option6 = 3\n",
    "### END SOLUTION"
   ]
  },
  {
   "cell_type": "code",
   "execution_count": 164,
   "metadata": {
    "execution": {
     "iopub.execute_input": "2024-06-01T06:18:42.765558Z",
     "iopub.status.busy": "2024-06-01T06:18:42.764353Z",
     "iopub.status.idle": "2024-06-01T06:18:42.771536Z",
     "shell.execute_reply": "2024-06-01T06:18:42.769720Z",
     "shell.execute_reply.started": "2024-06-01T06:18:42.765513Z"
    },
    "id": "JGF7fuyawsL4"
   },
   "outputs": [],
   "source": [
    "assert correct_option6 is not None"
   ]
  },
  {
   "cell_type": "markdown",
   "metadata": {
    "id": "bv3aMhnXwsL7"
   },
   "source": [
    "### Loss vs. boosting iterations\n",
    "We will plot the value of mse loss at different iterations to visualize how the model's performance has improved. The function `learning_curve()` plots the mse of training and test data at each boosting iteration."
   ]
  },
  {
   "cell_type": "code",
   "execution_count": 165,
   "metadata": {
    "execution": {
     "iopub.execute_input": "2024-06-01T06:18:47.480205Z",
     "iopub.status.busy": "2024-06-01T06:18:47.478754Z",
     "iopub.status.idle": "2024-06-01T06:18:47.493261Z",
     "shell.execute_reply": "2024-06-01T06:18:47.491789Z",
     "shell.execute_reply.started": "2024-06-01T06:18:47.480164Z"
    },
    "id": "IMxRSx_CwsL8"
   },
   "outputs": [],
   "source": [
    "from sklearn.metrics import mean_squared_error as mse\n",
    "\n",
    "\n",
    "def learning_curve(clf):\n",
    "    train_mse = []\n",
    "    test_mse = []\n",
    "    for pred in clf.staged_predict(X_train):\n",
    "        train_mse.append(mse(y_train, pred))\n",
    "    for pred in clf.staged_predict(X_test):\n",
    "        test_mse.append(mse(y_test, pred))\n",
    "    plt.plot(np.arange(clf.n_estimators)+1, train_mse, 'r', label= \"Training\")\n",
    "    plt.plot(np.arange(clf.n_estimators)+1, test_mse, 'b', label = \"Testing\")\n",
    "    plt.xlabel(\"Iterations\")\n",
    "    plt.ylabel(\"MSE loss\")\n",
    "    plt.legend()\n",
    "    plt.show()"
   ]
  },
  {
   "cell_type": "code",
   "execution_count": 166,
   "metadata": {
    "execution": {
     "iopub.execute_input": "2024-06-01T06:18:48.809146Z",
     "iopub.status.busy": "2024-06-01T06:18:48.807524Z",
     "iopub.status.idle": "2024-06-01T06:18:49.249180Z",
     "shell.execute_reply": "2024-06-01T06:18:49.247746Z",
     "shell.execute_reply.started": "2024-06-01T06:18:48.809081Z"
    },
    "id": "bKa9EcY0wsL-"
   },
   "outputs": [
    {
     "data": {
      "image/png": "[encoded data removed]",
      "text/plain": [
       "<Figure size 640x480 with 1 Axes>"
      ]
     },
     "metadata": {},
     "output_type": "display_data"
    },
    {
     "name": "stdout",
     "output_type": "stream",
     "text": [
      "MSE: 1028.0919898541263\n",
      "r2_score 0.8672168468465088\n"
     ]
    }
   ],
   "source": [
    "custom_clf = Gradient_Boosting_Regressor(n_estimators = 100, max_depth = 1, learning_rate = 0.1)\n",
    "custom_clf.fit(X_train, y_train)\n",
    "learning_curve(custom_clf)\n",
    "print(\"MSE:\" ,mse(y_test, custom_clf.predict(X_test)))\n",
    "print(\"r2_score\" ,r2_score(y_test, custom_clf.predict(X_test)))"
   ]
  },
  {
   "cell_type": "code",
   "execution_count": 167,
   "metadata": {
    "execution": {
     "iopub.execute_input": "2024-06-01T06:18:57.120707Z",
     "iopub.status.busy": "2024-06-01T06:18:57.120310Z",
     "iopub.status.idle": "2024-06-01T06:18:57.528775Z",
     "shell.execute_reply": "2024-06-01T06:18:57.527248Z",
     "shell.execute_reply.started": "2024-06-01T06:18:57.120676Z"
    },
    "id": "Yx8n8ElVwsMC"
   },
   "outputs": [
    {
     "data": {
      "image/png": "[encoded data removed]",
      "text/plain": [
       "<Figure size 640x480 with 1 Axes>"
      ]
     },
     "metadata": {},
     "output_type": "display_data"
    },
    {
     "name": "stdout",
     "output_type": "stream",
     "text": [
      "MSE: 1028.0919898541263\n",
      "r2_score 0.8672168468465088\n"
     ]
    }
   ],
   "source": [
    "clf = GradientBoostingRegressor(n_estimators = 100, max_depth = 1, learning_rate = 0.1, criterion = 'squared_error')\n",
    "clf.fit(X_train, y_train)\n",
    "learning_curve(clf)\n",
    "print(\"MSE:\", mse(y_test, clf.predict(X_test)))\n",
    "print(\"r2_score\", r2_score(y_test, clf.predict(X_test)))"
   ]
  },
  {
   "cell_type": "markdown",
   "metadata": {
    "id": "v9EZ-Z1MwsMF"
   },
   "source": [
    "#### Q7: Based on the learning curve, the performance of Sklearn's gradient boosting regressor is ______ our custom gradient boosting regressor?\n",
    "<b><div style=\"text-align: right\">[UNGRADED]</div></b>\n",
    "\n",
    "---\n",
    "\n",
    "Select the best option.\n",
    "\n",
    "1. better than\n",
    "\n",
    "2. worse than\n",
    "\n",
    "3. same as\n",
    "\n",
    "\n",
    "__Task:__\n",
    "You just need to put the correct option number on the variable `correct_option7`.\n",
    "If your answer is same as, assign `correct_option7 = 3` and so on.\n"
   ]
  },
  {
   "cell_type": "code",
   "execution_count": 168,
   "metadata": {
    "execution": {
     "iopub.execute_input": "2024-06-01T06:19:42.835903Z",
     "iopub.status.busy": "2024-06-01T06:19:42.835478Z",
     "iopub.status.idle": "2024-06-01T06:19:42.843452Z",
     "shell.execute_reply": "2024-06-01T06:19:42.841863Z",
     "shell.execute_reply.started": "2024-06-01T06:19:42.835874Z"
    },
    "id": "46qOOEiywsMF"
   },
   "outputs": [],
   "source": [
    "### Ex-11-Task-3\n",
    "correct_option7 = None\n",
    "### BEGIN SOLUTION\n",
    "# your code here\n",
    "correct_option7 = 3\n",
    "### END SOLUTION"
   ]
  },
  {
   "cell_type": "code",
   "execution_count": 169,
   "metadata": {
    "execution": {
     "iopub.execute_input": "2024-06-01T06:19:46.053915Z",
     "iopub.status.busy": "2024-06-01T06:19:46.053455Z",
     "iopub.status.idle": "2024-06-01T06:19:46.060997Z",
     "shell.execute_reply": "2024-06-01T06:19:46.059553Z",
     "shell.execute_reply.started": "2024-06-01T06:19:46.053852Z"
    },
    "id": "_YBheC4rwsMH"
   },
   "outputs": [],
   "source": [
    "assert correct_option7 is not None"
   ]
  },
  {
   "cell_type": "markdown",
   "metadata": {
    "id": "O7Pq0ki3wsMJ"
   },
   "source": [
    "__Congratulation!!!!!!!!!!!!!__\n",
    "\n",
    "__You have completed the assignment__"
   ]
  }
 ],
 "metadata": {
  "colab": {
   "collapsed_sections": [
    "M46PQhAKwsKj",
    "eciMTlsjwsKo",
    "beLuCubewsLR",
    "a28anUbpwsLV",
    "lOwaWEnOwsLf",
    "FNI07SztwsLq",
    "aQNwznniwsLt",
    "bv3aMhnXwsL7",
    "v9EZ-Z1MwsMF"
   ],
   "name": "",
   "version": ""
  },
  "kaggle": {
   "accelerator": "none",
   "dataSources": [],
   "dockerImageVersionId": 30715,
   "isGpuEnabled": false,
   "isInternetEnabled": true,
   "language": "python",
   "sourceType": "notebook"
  },
  "kernelspec": {
   "display_name": "Python 3 (ipykernel)",
   "language": "python",
   "name": "python3"
  },
  "language_info": {
   "codemirror_mode": {
    "name": "ipython",
    "version": 3
   },
   "file_extension": ".py",
   "mimetype": "text/x-python",
   "name": "python",
   "nbconvert_exporter": "python",
   "pygments_lexer": "ipython3",
   "version": "3.11.5"
  }
 },
 "nbformat": 4,
 "nbformat_minor": 4
}
